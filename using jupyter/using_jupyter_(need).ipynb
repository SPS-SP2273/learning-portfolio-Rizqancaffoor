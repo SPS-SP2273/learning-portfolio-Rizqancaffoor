{
 "cells": [
  {
   "cell_type": "code",
   "execution_count": 1,
   "id": "d0b50990",
   "metadata": {},
   "outputs": [
    {
     "name": "stdout",
     "output_type": "stream",
     "text": [
      "Hello World!\n"
     ]
    }
   ],
   "source": [
    "print('Hello World!')"
   ]
  },
  {
   "cell_type": "markdown",
   "id": "a591bdf4",
   "metadata": {},
   "source": [
    "The ships hung in the sky in much the same way that bricks don’t."
   ]
  },
  {
   "cell_type": "markdown",
   "id": "3278ef3a",
   "metadata": {},
   "source": [
    "The ships *hung in the sky* int he same way that **bricks don't.**<sup>1</sup><sub>QUOTE</sub>"
   ]
  },
  {
   "cell_type": "markdown",
   "id": "b96248ee",
   "metadata": {},
   "source": [
    "```python\n",
    "print('Hello World!')\n",
    "```"
   ]
  },
  {
   "cell_type": "markdown",
   "id": "08154096",
   "metadata": {},
   "source": [
    "[SP2273 Website](https://sps.nus.edu.sg/sp2273)"
   ]
  },
  {
   "cell_type": "markdown",
   "id": "c88b0d96",
   "metadata": {},
   "source": [
    "![](https://nus.edu.sg/images/default-source/base/logo.png)"
   ]
  },
  {
   "cell_type": "markdown",
   "id": "a683c083",
   "metadata": {},
   "source": [
    "| A    |  B   |    C |\n",
    "| :--- | :--: | ---: |\n",
    "| a1   |  b1  |   c1 |\n",
    "| a2   |  b2  |   c2 |\n",
    "| a3   |  b3  |   c3 |"
   ]
  },
  {
   "cell_type": "markdown",
   "id": "b48f419e",
   "metadata": {},
   "source": [
    "1. Master Yoda\n",
    "1. Luke Skywalker\n",
    "1. Anakin Skywalker"
   ]
  },
  {
   "cell_type": "markdown",
   "id": "651a6d2f",
   "metadata": {},
   "source": [
    "- Master Yoda\n",
    "- Luke Skywalker\n",
    "- Anakin Skywalker"
   ]
  },
  {
   "cell_type": "markdown",
   "id": "268ca6dc",
   "metadata": {},
   "source": [
    "1. Master Yoda\n",
    "   1. Was a Jedi\n",
    "   1. Was a bit green\n",
    "1. Luke Skywalker\n",
    "   1. Was a Jedi\n",
    "   1. Is Anakin's son.\n",
    "1. Anakin Skywalker\n",
    "   1. Was a Jedi then became a baddie\n",
    "   1. Is famous for saying 'Luke, I am your father'\n"
   ]
  },
  {
   "cell_type": "markdown",
   "id": "0b70f5b0",
   "metadata": {},
   "source": [
    "1. Master Yoda\n",
    "   - Was a Jedi\n",
    "   - Was a bit green\n",
    "2. Luke Skywalker\n",
    "   - Was a Jedi\n",
    "   - Is Anakin's son.\n",
    "3. Anakin Skywalker\n",
    "   - Was a Jedi then became a baddie\n",
    "   - Is famous for saying 'Luke, I am your father'\n"
   ]
  },
  {
   "cell_type": "markdown",
   "id": "8f317a29",
   "metadata": {},
   "source": [
    "$$\n",
    "x = \\dfrac{-b \\pm \\sqrt{b^2-4ac}}{2a}\n",
    "$$"
   ]
  },
  {
   "cell_type": "markdown",
   "id": "ce0ba935",
   "metadata": {},
   "source": [
    "### **Excercise 1**"
   ]
  },
  {
   "cell_type": "markdown",
   "id": "def42250",
   "metadata": {},
   "source": [
    "**Quadratic Equations**\n"
   ]
  },
  {
   "cell_type": "markdown",
   "id": "49442536",
   "metadata": {},
   "source": [
    "![](https://upload.wikimedia.org/wikipedia/commons/thumb/f/f8/Polynomialdeg2.svg/450px-Polynomialdeg2.svg.png)"
   ]
  },
  {
   "cell_type": "markdown",
   "id": "ecd029b0",
   "metadata": {},
   "source": [
    "**Introduction**"
   ]
  },
  {
   "cell_type": "markdown",
   "id": "006ec307",
   "metadata": {},
   "source": [
    "The general form of a quadratic equation is:"
   ]
  },
  {
   "cell_type": "markdown",
   "id": "9bd52684",
   "metadata": {},
   "source": [
    "$ax^2+bx+c=0$"
   ]
  },
  {
   "cell_type": "markdown",
   "id": "2e7c7c75",
   "metadata": {},
   "source": [
    "**Solutions** Provided $a \\ne 0$ , we can use an elementary algebraic method called \n",
    "[completing the square](https://en.wikipedia.org/wiki/Completing_the_square) to show that the quadratic equation has the \n",
    "following solution:"
   ]
  },
  {
   "cell_type": "markdown",
   "id": "fb64acfd",
   "metadata": {},
   "source": [
    "$$\n",
    "x=\\dfrac{-b \\pm \\sqrt{b^2-4ac}}{2a}\n",
    "$$"
   ]
  },
  {
   "cell_type": "markdown",
   "id": "29f2fc06",
   "metadata": {},
   "source": [
    "**Discriminant**"
   ]
  },
  {
   "cell_type": "markdown",
   "id": "201daed9",
   "metadata": {},
   "source": [
    "The quantity $\\Delta = b^2-4ac$ is called the **discriminant** of the equation and decides the nature of its solutions.\n",
    "The table below shows the various possibilities."
   ]
  },
  {
   "cell_type": "markdown",
   "id": "cfff8b96",
   "metadata": {},
   "source": [
    "| Discriminant           | Roots                                  |\n",
    "| :--------------------- | :------------------------------------  |\n",
    "| $$\\Delta = b^2-4ac=0$$ | A sigle solution of $\\dfrac{-b}{(2a)}$ |\n",
    "| $$\\Delta = b^2-4ac>0$$ | Two distinct solutions                 |\n",
    "| $$\\Delta = b^2-4ac<0$$ | No real solutions; both are complex.   |"
   ]
  },
  {
   "cell_type": "markdown",
   "id": "bd7af5a9",
   "metadata": {},
   "source": [
    "### Excercise 2"
   ]
  },
  {
   "cell_type": "markdown",
   "id": "21fe228a",
   "metadata": {},
   "source": [
    "1. What is a repository?\n",
    " - A folder on the GitHub server created to hold your Learning Portfolio\n",
    "2. Git keep tracks of ___ in the files in our repository.\n",
    " - Git keep tracks of our progress in the files in our repository\n",
    "3. What is a commit?\n",
    " - To track specific changes in GitHUb\n",
    "4. What is a push?\n",
    " - To upload commits onto the cloud by sharing it to GitHUb\n",
    "5. What is the difference between GitHub and GitHub Desktop?\n",
    " - GitHub Desktop has a friendlier graphical user interface (GUI), making it more comfortable to use than GitHub\n",
    "6. Is there an ‘opposite’ to a push?\n",
    " - Yes. Fetch; To download data on Github onto your computer"
   ]
  },
  {
   "cell_type": "code",
   "execution_count": null,
   "id": "09ee2e8c",
   "metadata": {},
   "outputs": [],
   "source": []
  }
 ],
 "metadata": {
  "kernelspec": {
   "display_name": "Python 3 (ipykernel)",
   "language": "python",
   "name": "python3"
  },
  "language_info": {
   "codemirror_mode": {
    "name": "ipython",
    "version": 3
   },
   "file_extension": ".py",
   "mimetype": "text/x-python",
   "name": "python",
   "nbconvert_exporter": "python",
   "pygments_lexer": "ipython3",
   "version": "3.10.8"
  }
 },
 "nbformat": 4,
 "nbformat_minor": 5
}
