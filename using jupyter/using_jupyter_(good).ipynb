{
 "cells": [
  {
   "cell_type": "markdown",
   "id": "123456",
   "metadata": {},
   "source": [
    "<div style=\"text-align:left;font-size:2em\"><span style=\"font-weight:bolder;font-size:1.25em\">SP2273 | Learning Portfolio</span><br><br><span style=\"font-weight:bold;color:darkred\">Using Jupyter (Good)</span></div>"
   ]
  },
  {
   "cell_type": "markdown",
   "id": "38472773",
   "metadata": {},
   "source": [
    "## 1 Some tips and tricks"
   ]
  },
  {
   "cell_type": "markdown",
   "id": "cd8b3ab9",
   "metadata": {},
   "source": [
    "### 1.1 Keyboard Shortcuts"
   ]
  },
  {
   "cell_type": "code",
   "execution_count": null,
   "id": "943cc55d",
   "metadata": {},
   "outputs": [],
   "source": [
    "print('You can copy, paste, merge and delete cell(s) by using ESC + C, V, M or D+D respectively.')"
   ]
  },
  {
   "cell_type": "markdown",
   "id": "4b29bb78",
   "metadata": {},
   "source": [
    "### 1.2 Shell commands"
   ]
  },
  {
   "cell_type": "code",
   "execution_count": null,
   "id": "5f593d64",
   "metadata": {},
   "outputs": [],
   "source": [
    "!cd\n",
    "!dir"
   ]
  },
  {
   "cell_type": "markdown",
   "id": "ea2ccbe6",
   "metadata": {},
   "source": [
    "## 2 Jupyter Extensions"
   ]
  },
  {
   "cell_type": "markdown",
   "id": "1b7b449a",
   "metadata": {},
   "source": [
    "### 2.1 Installing the extensions"
   ]
  },
  {
   "cell_type": "code",
   "execution_count": null,
   "id": "282c8862",
   "metadata": {},
   "outputs": [],
   "source": [
    "print('Extension successfully installed via Anaconda Prompt')\n"
   ]
  },
  {
   "cell_type": "markdown",
   "id": "79f49977",
   "metadata": {},
   "source": [
    "### 2.2 Enabling the extensions"
   ]
  },
  {
   "cell_type": "code",
   "execution_count": null,
   "id": "228a892e",
   "metadata": {},
   "outputs": [],
   "source": [
    "print('''1. Equation Auto Numbering\n",
    " - Enables equation autonumbering and resetting the equation count.\n",
    "2. Table of Contents (2)\n",
    " - To collect all running headers and display them in a floating window, as a sidebar or with a navigation menu.\n",
    "3. Variable Inspector\n",
    " - Collects all defined variables and display them in a floating window.\n",
    "4. Code folding\n",
    " - Enables the CodeMirror feature to allow codefolding in code cells\n",
    "5. Autopep8\n",
    " - Use kernel-specific code to reformat/prettify the contents of code cells''')"
   ]
  },
  {
   "cell_type": "markdown",
   "id": "4091d8d4",
   "metadata": {},
   "source": [
    "## 3 Shell Magic"
   ]
  },
  {
   "cell_type": "code",
   "execution_count": null,
   "id": "901b8225",
   "metadata": {},
   "outputs": [],
   "source": [
    "%timeit x=10"
   ]
  },
  {
   "cell_type": "code",
   "execution_count": null,
   "id": "bbf40704",
   "metadata": {},
   "outputs": [],
   "source": [
    "%%timeit \n",
    "x=10\n",
    "y=10\n",
    "z=10"
   ]
  },
  {
   "cell_type": "markdown",
   "id": "a432cb33",
   "metadata": {},
   "source": [
    "## 4 The Kernel"
   ]
  },
  {
   "cell_type": "markdown",
   "id": "67350fbf",
   "metadata": {},
   "source": [
    "## Exercise 1 :  A new shortcut"
   ]
  },
  {
   "cell_type": "code",
   "execution_count": 2,
   "id": "25a73970",
   "metadata": {},
   "outputs": [
    {
     "name": "stdout",
     "output_type": "stream",
     "text": [
      "New keyboard shortcuts added to Jupyter environment.\n"
     ]
    }
   ],
   "source": [
    "print('New keyboard shortcuts added to Jupyter environment.')"
   ]
  }
 ],
 "metadata": {
  "kernelspec": {
   "display_name": "Python 3 (ipykernel)",
   "language": "python",
   "name": "python3"
  },
  "language_info": {
   "codemirror_mode": {
    "name": "ipython",
    "version": 3
   },
   "file_extension": ".py",
   "mimetype": "text/x-python",
   "name": "python",
   "nbconvert_exporter": "python",
   "pygments_lexer": "ipython3",
   "version": "3.10.8"
  },
  "toc": {
   "base_numbering": 1,
   "nav_menu": {},
   "number_sections": true,
   "sideBar": true,
   "skip_h1_title": false,
   "title_cell": "Table of Contents",
   "title_sidebar": "Contents",
   "toc_cell": false,
   "toc_position": {},
   "toc_section_display": true,
   "toc_window_display": false
  },
  "vscode": {
   "interpreter": {
    "hash": "31f2aee4e71d21fbe5cf8b01ff0e069b9275f58929596ceb00d14d90e3e16cd6"
   }
  }
 },
 "nbformat": 4,
 "nbformat_minor": 5
}
