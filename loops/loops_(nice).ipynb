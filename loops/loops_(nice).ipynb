{
 "cells": [
  {
   "cell_type": "markdown",
   "id": "123456",
   "metadata": {},
   "source": [
    "<div style=\"text-align:left;font-size:2em\"><span style=\"font-weight:bolder;font-size:1.25em\">SP2273 | Learning Portfolio</span><br><br><span style=\"font-weight:bold;color:darkred\">Loops (Nice)</span></div>"
   ]
  },
  {
   "cell_type": "markdown",
   "id": "c1aa570e",
   "metadata": {},
   "source": [
    "## 1 There is more…"
   ]
  },
  {
   "cell_type": "markdown",
   "id": "35abb56d",
   "metadata": {},
   "source": [
    "### 1.1 There is more to list comprehension"
   ]
  },
  {
   "cell_type": "code",
   "execution_count": 3,
   "id": "d40219fb",
   "metadata": {},
   "outputs": [
    {
     "name": "stdout",
     "output_type": "stream",
     "text": [
      "[[0, 'A'], [0, 'B'], [0, 'C'], [1, 'A'], [1, 'B'], [1, 'C'], [2, 'A'], [2, 'B'], [2, 'C'], [3, 'A'], [3, 'B'], [3, 'C'], [4, 'A'], [4, 'B'], [4, 'C']]\n",
      "[[1, 'A'], [1, 'B'], [1, 'C'], [3, 'A'], [3, 'B'], [3, 'C']]\n",
      "[1, 2, 3, 4, 5, 6, 7]\n"
     ]
    }
   ],
   "source": [
    "print([[a,b] for a in range(5) for b in ['A', 'B', 'C']])\n",
    "\n",
    "print([[a,b] for a in range(5) for b in ['A', 'B', 'C'] if a % 2 != 0])\n",
    "\n",
    "nested_list=[[1, 2, 3], [4, 5, 6, 7]]\n",
    "print([y for x in nested_list for y in x])"
   ]
  },
  {
   "cell_type": "markdown",
   "id": "afb9537d",
   "metadata": {},
   "source": [
    "### 1.2 Zipping a dictionary"
   ]
  },
  {
   "cell_type": "code",
   "execution_count": 4,
   "id": "403b5ae0",
   "metadata": {},
   "outputs": [
    {
     "data": {
      "text/plain": [
       "{'Natasha Romanoff': 'Black Widow',\n",
       " 'Tony Stark': 'Iron Man',\n",
       " 'Stephen Strange': 'Doctor Strange'}"
      ]
     },
     "execution_count": 4,
     "metadata": {},
     "output_type": "execute_result"
    }
   ],
   "source": [
    "super_names=[\"Black Widow\", \"Iron Man\", \"Doctor Strange\"]\n",
    "real_names=[\"Natasha Romanoff\", \"Tony Stark\", \"Stephen Strange\"]\n",
    "\n",
    "dict(zip(real_names, super_names))"
   ]
  },
  {
   "cell_type": "markdown",
   "id": "b235351f",
   "metadata": {},
   "source": [
    "### 1.3 for and while has an else"
   ]
  },
  {
   "cell_type": "code",
   "execution_count": 7,
   "id": "8c016206",
   "metadata": {},
   "outputs": [
    {
     "name": "stdout",
     "output_type": "stream",
     "text": [
      "No negative numbers in the list\n"
     ]
    }
   ],
   "source": [
    "numbers=[0, 1, 2, 3, 4, 5, 6, 7, 8, 9]\n",
    "\n",
    "for i in numbers:\n",
    "    if i < 0: break\n",
    "else:\n",
    "    print('No negative numbers in the list')"
   ]
  },
  {
   "cell_type": "markdown",
   "id": "0f1e61a3",
   "metadata": {},
   "source": [
    "## Explore 1 :  Changing a list"
   ]
  },
  {
   "cell_type": "code",
   "execution_count": 19,
   "id": "b018e587",
   "metadata": {},
   "outputs": [
    {
     "name": "stdout",
     "output_type": "stream",
     "text": [
      "['apple', 'banana', 'jackfruit', 'watermelons', 'durian', 'mangoes', 'strawberries']\n"
     ]
    }
   ],
   "source": [
    "fruits = [\"apple\", \"banana\", \"jackfruit\",\n",
    "          \"pineapple\", \"papaya\", \"watermelons\",\n",
    "          \"peaches\", \"durian\",  \"mangoes\",\n",
    "          \"strawberries\", \"passionfruit\"\n",
    "         ]\n",
    "counter = 0\n",
    "while counter < len(fruits):\n",
    "    if fruits[counter][0] == \"p\":\n",
    "        fruits.remove(fruits[counter])\n",
    "    else:\n",
    "        counter += 1\n",
    "print(fruits)\n",
    "    "
   ]
  },
  {
   "cell_type": "markdown",
   "id": "f40bd882",
   "metadata": {},
   "source": [
    "## Explore 2 :  A list of power"
   ]
  },
  {
   "cell_type": "code",
   "execution_count": 62,
   "id": "da853655",
   "metadata": {},
   "outputs": [
    {
     "name": "stdout",
     "output_type": "stream",
     "text": [
      "[[1, 1, 1], [2, 4, 8], [3, 9, 27], [4, 16, 64], [5, 25, 125]]\n"
     ]
    }
   ],
   "source": [
    "maximum_n = 5\n",
    "result = [[].copy() for i in range(maximum_n)]\n",
    "\n",
    "for n in range(0, maximum_n):\n",
    "    result[n].append((n+1))\n",
    "    result[n].append((n+1)**2)\n",
    "    result[n].append((n+1)**3)\n",
    "print(result)"
   ]
  },
  {
   "cell_type": "markdown",
   "id": "3d9813ea",
   "metadata": {},
   "source": [
    "## Explore 3 :  Time profiling"
   ]
  }
 ],
 "metadata": {
  "kernelspec": {
   "display_name": "Python 3 (ipykernel)",
   "language": "python",
   "name": "python3"
  },
  "language_info": {
   "codemirror_mode": {
    "name": "ipython",
    "version": 3
   },
   "file_extension": ".py",
   "mimetype": "text/x-python",
   "name": "python",
   "nbconvert_exporter": "python",
   "pygments_lexer": "ipython3",
   "version": "3.10.8"
  },
  "toc": {
   "base_numbering": 1,
   "nav_menu": {},
   "number_sections": true,
   "sideBar": true,
   "skip_h1_title": false,
   "title_cell": "Table of Contents",
   "title_sidebar": "Contents",
   "toc_cell": false,
   "toc_position": {},
   "toc_section_display": true,
   "toc_window_display": false
  },
  "varInspector": {
   "cols": {
    "lenName": 16,
    "lenType": 16,
    "lenVar": 40
   },
   "kernels_config": {
    "python": {
     "delete_cmd_postfix": "",
     "delete_cmd_prefix": "del ",
     "library": "var_list.py",
     "varRefreshCmd": "print(var_dic_list())"
    },
    "r": {
     "delete_cmd_postfix": ") ",
     "delete_cmd_prefix": "rm(",
     "library": "var_list.r",
     "varRefreshCmd": "cat(var_dic_list()) "
    }
   },
   "types_to_exclude": [
    "module",
    "function",
    "builtin_function_or_method",
    "instance",
    "_Feature"
   ],
   "window_display": false
  },
  "vscode": {
   "interpreter": {
    "hash": "31f2aee4e71d21fbe5cf8b01ff0e069b9275f58929596ceb00d14d90e3e16cd6"
   }
  }
 },
 "nbformat": 4,
 "nbformat_minor": 5
}
