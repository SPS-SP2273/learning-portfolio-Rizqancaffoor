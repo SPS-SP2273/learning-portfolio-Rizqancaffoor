{
 "cells": [
  {
   "cell_type": "markdown",
   "id": "123456",
   "metadata": {},
   "source": [
    "<div style=\"text-align:left;font-size:2em\"><span style=\"font-weight:bolder;font-size:1.25em\">SP2273 | Learning Portfolio</span><br><br><span style=\"font-weight:bold;color:darkred\">Functions (Need)</span></div>"
   ]
  },
  {
   "cell_type": "markdown",
   "id": "ba0acc78",
   "metadata": {},
   "source": [
    "## 1 User defined functions"
   ]
  },
  {
   "cell_type": "markdown",
   "id": "ac17bfa2",
   "metadata": {},
   "source": [
    "### 1.1 Named functions that return"
   ]
  },
  {
   "cell_type": "code",
   "execution_count": 8,
   "id": "3def4810",
   "metadata": {},
   "outputs": [
    {
     "name": "stdout",
     "output_type": "stream",
     "text": [
      "Hello Super Man!\n",
      "Hello Super Man!\n",
      "Hello Super Man!\n",
      "Hello Super Man!\n"
     ]
    }
   ],
   "source": [
    "def greeting(name):\n",
    "    if name == 'Batman':\n",
    "        return 'Hello Batman! So, nice to meet you!'\n",
    "    else:\n",
    "        return f'Hello {name}!'\n",
    "    \n",
    "print(greeting(\"Super Man\"))\n",
    "\n",
    "print(greeting(name=\"Super Man\"))\n",
    "\n",
    "greet=greeting(name='Super Man')\n",
    "print(greet)\n",
    "\n",
    "print(greeting(name='Super Man'))\n",
    "\n",
    "def basic_stats(numbers):\n",
    "    np_numbers=np.array(numbers)\n",
    "    return np_numbers.min(), np_numbers.max(), np_numbers.mean()\n",
    "\n",
    "list_min, list_max, list_mean = basic_stats([1, 2, 3, 4, 5])"
   ]
  },
  {
   "cell_type": "markdown",
   "id": "cbe4c698",
   "metadata": {},
   "source": [
    "### 1.2 Named functions that don’t return"
   ]
  },
  {
   "cell_type": "markdown",
   "id": "367150ed",
   "metadata": {},
   "source": [
    "eg. print() which does not return a value but we require it to to save date.\n"
   ]
  },
  {
   "cell_type": "markdown",
   "id": "7fdce74e",
   "metadata": {},
   "source": [
    "### 1.3 Anonymous functions"
   ]
  },
  {
   "cell_type": "code",
   "execution_count": 14,
   "id": "a62b7139",
   "metadata": {},
   "outputs": [
    {
     "name": "stdout",
     "output_type": "stream",
     "text": [
      "[[0, 9, 19], [1, 8, 18], [2, 7, 17], [3, 6, 16], [4, 5, 15], [5, 4, 14], [6, 3, 13], [7, 2, 12], [8, 1, 11], [9, 0, 10]]\n",
      "[[9, 0, 10], [8, 1, 11], [7, 2, 12], [6, 3, 13], [5, 4, 14], [4, 5, 15], [3, 6, 16], [2, 7, 17], [1, 8, 18], [0, 9, 19]]\n"
     ]
    }
   ],
   "source": [
    "my_short_function = lambda name: f\"Hello {name}!\"\n",
    "\n",
    "\n",
    "my_short_function(name=\"Super Man\")\n",
    "\n",
    "numbers=[[9, 0, 10],\n",
    "         [8, 1, 11],\n",
    "         [7, 2, 12],\n",
    "         [6, 3, 13],\n",
    "         [5, 4, 14],\n",
    "         [4, 5, 15],\n",
    "         [3, 6, 16],\n",
    "         [2, 7, 17],\n",
    "         [1, 8, 18],\n",
    "         [0, 9, 19]]\n",
    "\n",
    "print(sorted(numbers))                        # Sort by comparing the default key \n",
    "                                        # (i.e. the 1st element) \n",
    "\n",
    "print(sorted(numbers, key=lambda x: x[1]))     # Sort by comparing a custom key\n",
    "                                        # that uses the 2nd element"
   ]
  },
  {
   "cell_type": "markdown",
   "id": "1ee9b86a",
   "metadata": {},
   "source": [
    "### 1.4 Optional arguments"
   ]
  },
  {
   "cell_type": "code",
   "execution_count": 18,
   "id": "beeeb8e9",
   "metadata": {},
   "outputs": [
    {
     "name": "stdout",
     "output_type": "stream",
     "text": [
      "Hello no one!\n",
      "I am Batman!\n",
      "I---am---Batman!\n"
     ]
    }
   ],
   "source": [
    "def greeting(name='no one'):\n",
    "    if name == 'Batman':\n",
    "        return 'Hello Batman! So, nice to meet you!'\n",
    "    else:\n",
    "        return f'Hello {name}!'\n",
    "\n",
    "print(greeting())\n",
    "\n",
    "print('I', 'am', 'Batman!')                 # Just for comparison\n",
    "#> I am Batman!\n",
    "print('I', 'am', 'Batman!', sep='---')  \n",
    "#> I---am---Batman!"
   ]
  },
  {
   "cell_type": "markdown",
   "id": "7383b0dc",
   "metadata": {},
   "source": [
    "## 2 The importance of functions?"
   ]
  },
  {
   "cell_type": "markdown",
   "id": "12f82d3f",
   "metadata": {},
   "source": [
    "### 2.1 An argument for functions"
   ]
  },
  {
   "cell_type": "markdown",
   "id": "410eef45",
   "metadata": {},
   "source": [
    "Abstraction is to break up complicated solutions into modular chunks to make it easier to deal with as yuo do not need to deal with all the information at once."
   ]
  },
  {
   "cell_type": "markdown",
   "id": "2e493781",
   "metadata": {},
   "source": [
    "### 2.2 A word of caution"
   ]
  },
  {
   "cell_type": "markdown",
   "id": "d4e95487",
   "metadata": {},
   "source": [
    "Do not have too many arguments as it will be difficult to read your code and it also increases computational overheads."
   ]
  },
  {
   "cell_type": "markdown",
   "id": "370e07f2",
   "metadata": {},
   "source": [
    "## Exercise 1 :  Do you know why?"
   ]
  },
  {
   "cell_type": "markdown",
   "id": "54f5a720",
   "metadata": {},
   "source": [
    "'Return' is within the 'if' statement, thus, it acts as the alternate 'else' statemnt."
   ]
  },
  {
   "cell_type": "markdown",
   "id": "3c51993e",
   "metadata": {},
   "source": [
    "## Exercise 2 :  Calculator functions"
   ]
  },
  {
   "cell_type": "code",
   "execution_count": 35,
   "id": "2435cb9a",
   "metadata": {},
   "outputs": [
    {
     "name": "stdout",
     "output_type": "stream",
     "text": [
      "[100 100 100 100 100]\n",
      "[-28 -32 -12  52 -46]\n",
      "[2304 2244 2464 1824 1971]\n",
      "[0.5625     0.51515152 0.78571429 3.16666667 0.36986301]\n"
     ]
    }
   ],
   "source": [
    "x=np.array([36, 34, 44, 76, 27])\n",
    "y=np.array([64, 66, 56, 24, 73])\n",
    "\n",
    "def add(var1, var2):\n",
    "    return var1+var2\n",
    "print(add(x, y))\n",
    "\n",
    "def subtract(var1, var2):\n",
    "    return var1-var2\n",
    "print(subtract(x, y))\n",
    "\n",
    "def multiply(var1, var2):\n",
    "    return var1*var2\n",
    "print(multiply(x, y))\n",
    "\n",
    "def divide(var1, var2):\n",
    "    for i in y:\n",
    "        if i==0:\n",
    "            return f\"undefined\"\n",
    "    return var1/var2\n",
    "print(divide(x, y))"
   ]
  },
  {
   "cell_type": "markdown",
   "id": "b0bfef15",
   "metadata": {},
   "source": [
    "## Exercise 3 :  max_info() with NumPy"
   ]
  },
  {
   "cell_type": "code",
   "execution_count": null,
   "id": "9c2907e9",
   "metadata": {},
   "outputs": [],
   "source": [
    "\n",
    "\n",
    "\n",
    "# Your solution here\n",
    "\n",
    "\n"
   ]
  }
 ],
 "metadata": {
  "kernelspec": {
   "display_name": "Python 3 (ipykernel)",
   "language": "python",
   "name": "python3"
  },
  "language_info": {
   "codemirror_mode": {
    "name": "ipython",
    "version": 3
   },
   "file_extension": ".py",
   "mimetype": "text/x-python",
   "name": "python",
   "nbconvert_exporter": "python",
   "pygments_lexer": "ipython3",
   "version": "3.10.8"
  },
  "toc": {
   "base_numbering": 1,
   "nav_menu": {},
   "number_sections": true,
   "sideBar": true,
   "skip_h1_title": false,
   "title_cell": "Table of Contents",
   "title_sidebar": "Contents",
   "toc_cell": false,
   "toc_position": {},
   "toc_section_display": true,
   "toc_window_display": false
  },
  "varInspector": {
   "cols": {
    "lenName": 16,
    "lenType": 16,
    "lenVar": 40
   },
   "kernels_config": {
    "python": {
     "delete_cmd_postfix": "",
     "delete_cmd_prefix": "del ",
     "library": "var_list.py",
     "varRefreshCmd": "print(var_dic_list())"
    },
    "r": {
     "delete_cmd_postfix": ") ",
     "delete_cmd_prefix": "rm(",
     "library": "var_list.r",
     "varRefreshCmd": "cat(var_dic_list()) "
    }
   },
   "types_to_exclude": [
    "module",
    "function",
    "builtin_function_or_method",
    "instance",
    "_Feature"
   ],
   "window_display": false
  },
  "vscode": {
   "interpreter": {
    "hash": "31f2aee4e71d21fbe5cf8b01ff0e069b9275f58929596ceb00d14d90e3e16cd6"
   }
  }
 },
 "nbformat": 4,
 "nbformat_minor": 5
}
