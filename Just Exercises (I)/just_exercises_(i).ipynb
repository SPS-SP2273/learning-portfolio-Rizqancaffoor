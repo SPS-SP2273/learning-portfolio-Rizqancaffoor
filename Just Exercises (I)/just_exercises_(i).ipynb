{
 "cells": [
  {
   "cell_type": "markdown",
   "id": "123456",
   "metadata": {},
   "source": [
    "<div style=\"text-align:left;font-size:2em\"><span style=\"font-weight:bolder;font-size:1.25em\">SP2273 | Learning Portfolio</span><br><br><span style=\"font-weight:bold;color:darkred\">Just Exercises (I)</span></div>"
   ]
  },
  {
   "cell_type": "markdown",
   "id": "a083c6af",
   "metadata": {},
   "source": [
    "## Exercise 1 :  F-strings to the rescue"
   ]
  },
  {
   "cell_type": "code",
   "execution_count": 23,
   "id": "fec60642",
   "metadata": {},
   "outputs": [
    {
     "name": "stdout",
     "output_type": "stream",
     "text": [
      "00001\n",
      "00002\n",
      "00003\n",
      "00004\n",
      "00005\n",
      "00006\n",
      "00007\n",
      "00008\n",
      "00009\n",
      "00010\n"
     ]
    }
   ],
   "source": [
    "for i in range (1,11):\n",
    "    print(f\"{i:05d}\")"
   ]
  },
  {
   "cell_type": "code",
   "execution_count": 53,
   "id": "4051383b",
   "metadata": {},
   "outputs": [
    {
     "name": "stdout",
     "output_type": "stream",
     "text": [
      "001          +\n",
      "002         ++\n",
      "003        +++\n",
      "004       ++++\n",
      "005      +++++\n",
      "006     ++++++\n",
      "007    +++++++\n",
      "008   ++++++++\n",
      "009  +++++++++\n",
      "010 ++++++++++\n"
     ]
    }
   ],
   "source": [
    "for i in range (1,11): \n",
    "    print(f\"{i:03d}\" + ' '*(11-i) + ('+'*i))"
   ]
  },
  {
   "cell_type": "code",
   "execution_count": 57,
   "id": "f091e429",
   "metadata": {},
   "outputs": [
    {
     "name": "stdout",
     "output_type": "stream",
     "text": [
      "001 -+++++++++\n",
      "002 --++++++++\n",
      "003 ---+++++++\n",
      "004 ----++++++\n",
      "005 -----+++++\n",
      "006 ------++++\n",
      "007 -------+++\n",
      "008 --------++\n",
      "009 ---------+\n",
      "010 ----------\n"
     ]
    }
   ],
   "source": [
    "for i in range (1,11):\n",
    "    print(f\"{i:03d} \" + '-'*i + '+'*(10-i))"
   ]
  },
  {
   "cell_type": "code",
   "execution_count": 116,
   "id": "9b4baa19",
   "metadata": {},
   "outputs": [
    {
     "name": "stdout",
     "output_type": "stream",
     "text": [
      "['bruce_exploits.txt', 'bruce_enemies.txt', 'bruce_friends.txt', 'natasha_exploits.txt', 'natasha_enemies.txt', 'natasha_friends.txt', 'tony_exploits.txt', 'tony_enemies.txt', 'tony_friends.txt']\n"
     ]
    }
   ],
   "source": [
    "names = ['bruce', 'natasha', 'tony']\n",
    "info = ['exploits.txt', 'enemies.txt', 'friends.txt']\n",
    "list1 = []\n",
    "for i in names:\n",
    "    for x in info:\n",
    "        var1 = i + '_' + x\n",
    "        list1.append(var1)\n",
    "print(list1)"
   ]
  },
  {
   "cell_type": "code",
   "execution_count": 20,
   "id": "8df2ada7",
   "metadata": {
    "scrolled": false
   },
   "outputs": [
    {
     "data": {
      "text/plain": [
       "['data_sg_exp-01_trial-001.txt',\n",
       " 'data_sg_exp-01_trial-002.txt',\n",
       " 'data_sg_exp-01_trial-003.txt',\n",
       " 'data_sg_exp-01_trial-004.txt',\n",
       " 'data_sg_exp-01_trial-005.txt',\n",
       " 'data_sg_exp-01_trial-006.txt',\n",
       " 'data_sg_exp-01_trial-007.txt',\n",
       " 'data_sg_exp-01_trial-008.txt',\n",
       " 'data_sg_exp-01_trial-009.txt',\n",
       " 'data_sg_exp-01_trial-010.txt',\n",
       " 'data_sg_exp-01_trial-011.txt',\n",
       " 'data_sg_exp-01_trial-012.txt',\n",
       " 'data_sg_exp-01_trial-013.txt',\n",
       " 'data_sg_exp-01_trial-014.txt',\n",
       " 'data_sg_exp-01_trial-015.txt',\n",
       " 'data_sg_exp-01_trial-016.txt',\n",
       " 'data_sg_exp-01_trial-017.txt',\n",
       " 'data_sg_exp-01_trial-018.txt',\n",
       " 'data_sg_exp-01_trial-019.txt',\n",
       " 'data_sg_exp-01_trial-020.txt',\n",
       " 'data_sg_exp-01_trial-021.txt',\n",
       " 'data_sg_exp-01_trial-022.txt',\n",
       " 'data_sg_exp-01_trial-023.txt',\n",
       " 'data_sg_exp-01_trial-024.txt',\n",
       " 'data_sg_exp-01_trial-025.txt',\n",
       " 'data_sg_exp-01_trial-026.txt',\n",
       " 'data_sg_exp-01_trial-027.txt',\n",
       " 'data_sg_exp-01_trial-028.txt',\n",
       " 'data_sg_exp-01_trial-029.txt',\n",
       " 'data_sg_exp-01_trial-030.txt',\n",
       " 'data_sg_exp-01_trial-031.txt',\n",
       " 'data_sg_exp-01_trial-032.txt',\n",
       " 'data_sg_exp-01_trial-033.txt',\n",
       " 'data_sg_exp-01_trial-034.txt',\n",
       " 'data_sg_exp-01_trial-035.txt',\n",
       " 'data_sg_exp-01_trial-036.txt',\n",
       " 'data_sg_exp-01_trial-037.txt',\n",
       " 'data_sg_exp-01_trial-038.txt',\n",
       " 'data_sg_exp-01_trial-039.txt',\n",
       " 'data_sg_exp-01_trial-040.txt',\n",
       " 'data_sg_exp-01_trial-041.txt',\n",
       " 'data_sg_exp-01_trial-042.txt',\n",
       " 'data_sg_exp-01_trial-043.txt',\n",
       " 'data_sg_exp-01_trial-044.txt',\n",
       " 'data_sg_exp-01_trial-045.txt',\n",
       " 'data_sg_exp-01_trial-046.txt',\n",
       " 'data_sg_exp-01_trial-047.txt',\n",
       " 'data_sg_exp-01_trial-048.txt',\n",
       " 'data_sg_exp-01_trial-049.txt',\n",
       " 'data_sg_exp-01_trial-050.txt',\n",
       " 'data_sg_exp-02_trial-001.txt',\n",
       " 'data_sg_exp-02_trial-002.txt',\n",
       " 'data_sg_exp-02_trial-003.txt',\n",
       " 'data_sg_exp-02_trial-004.txt',\n",
       " 'data_sg_exp-02_trial-005.txt',\n",
       " 'data_sg_exp-02_trial-006.txt',\n",
       " 'data_sg_exp-02_trial-007.txt',\n",
       " 'data_sg_exp-02_trial-008.txt',\n",
       " 'data_sg_exp-02_trial-009.txt',\n",
       " 'data_sg_exp-02_trial-010.txt',\n",
       " 'data_sg_exp-02_trial-011.txt',\n",
       " 'data_sg_exp-02_trial-012.txt',\n",
       " 'data_sg_exp-02_trial-013.txt',\n",
       " 'data_sg_exp-02_trial-014.txt',\n",
       " 'data_sg_exp-02_trial-015.txt',\n",
       " 'data_sg_exp-02_trial-016.txt',\n",
       " 'data_sg_exp-02_trial-017.txt',\n",
       " 'data_sg_exp-02_trial-018.txt',\n",
       " 'data_sg_exp-02_trial-019.txt',\n",
       " 'data_sg_exp-02_trial-020.txt',\n",
       " 'data_sg_exp-02_trial-021.txt',\n",
       " 'data_sg_exp-02_trial-022.txt',\n",
       " 'data_sg_exp-02_trial-023.txt',\n",
       " 'data_sg_exp-02_trial-024.txt',\n",
       " 'data_sg_exp-02_trial-025.txt',\n",
       " 'data_sg_exp-02_trial-026.txt',\n",
       " 'data_sg_exp-02_trial-027.txt',\n",
       " 'data_sg_exp-02_trial-028.txt',\n",
       " 'data_sg_exp-02_trial-029.txt',\n",
       " 'data_sg_exp-02_trial-030.txt',\n",
       " 'data_sg_exp-02_trial-031.txt',\n",
       " 'data_sg_exp-02_trial-032.txt',\n",
       " 'data_sg_exp-02_trial-033.txt',\n",
       " 'data_sg_exp-02_trial-034.txt',\n",
       " 'data_sg_exp-02_trial-035.txt',\n",
       " 'data_sg_exp-02_trial-036.txt',\n",
       " 'data_sg_exp-02_trial-037.txt',\n",
       " 'data_sg_exp-02_trial-038.txt',\n",
       " 'data_sg_exp-02_trial-039.txt',\n",
       " 'data_sg_exp-02_trial-040.txt',\n",
       " 'data_sg_exp-02_trial-041.txt',\n",
       " 'data_sg_exp-02_trial-042.txt',\n",
       " 'data_sg_exp-02_trial-043.txt',\n",
       " 'data_sg_exp-02_trial-044.txt',\n",
       " 'data_sg_exp-02_trial-045.txt',\n",
       " 'data_sg_exp-02_trial-046.txt',\n",
       " 'data_sg_exp-02_trial-047.txt',\n",
       " 'data_sg_exp-02_trial-048.txt',\n",
       " 'data_sg_exp-02_trial-049.txt',\n",
       " 'data_sg_exp-02_trial-050.txt',\n",
       " 'data_sg_exp-03_trial-001.txt',\n",
       " 'data_sg_exp-03_trial-002.txt',\n",
       " 'data_sg_exp-03_trial-003.txt',\n",
       " 'data_sg_exp-03_trial-004.txt',\n",
       " 'data_sg_exp-03_trial-005.txt',\n",
       " 'data_sg_exp-03_trial-006.txt',\n",
       " 'data_sg_exp-03_trial-007.txt',\n",
       " 'data_sg_exp-03_trial-008.txt',\n",
       " 'data_sg_exp-03_trial-009.txt',\n",
       " 'data_sg_exp-03_trial-010.txt',\n",
       " 'data_sg_exp-03_trial-011.txt',\n",
       " 'data_sg_exp-03_trial-012.txt',\n",
       " 'data_sg_exp-03_trial-013.txt',\n",
       " 'data_sg_exp-03_trial-014.txt',\n",
       " 'data_sg_exp-03_trial-015.txt',\n",
       " 'data_sg_exp-03_trial-016.txt',\n",
       " 'data_sg_exp-03_trial-017.txt',\n",
       " 'data_sg_exp-03_trial-018.txt',\n",
       " 'data_sg_exp-03_trial-019.txt',\n",
       " 'data_sg_exp-03_trial-020.txt',\n",
       " 'data_sg_exp-03_trial-021.txt',\n",
       " 'data_sg_exp-03_trial-022.txt',\n",
       " 'data_sg_exp-03_trial-023.txt',\n",
       " 'data_sg_exp-03_trial-024.txt',\n",
       " 'data_sg_exp-03_trial-025.txt',\n",
       " 'data_sg_exp-03_trial-026.txt',\n",
       " 'data_sg_exp-03_trial-027.txt',\n",
       " 'data_sg_exp-03_trial-028.txt',\n",
       " 'data_sg_exp-03_trial-029.txt',\n",
       " 'data_sg_exp-03_trial-030.txt',\n",
       " 'data_sg_exp-03_trial-031.txt',\n",
       " 'data_sg_exp-03_trial-032.txt',\n",
       " 'data_sg_exp-03_trial-033.txt',\n",
       " 'data_sg_exp-03_trial-034.txt',\n",
       " 'data_sg_exp-03_trial-035.txt',\n",
       " 'data_sg_exp-03_trial-036.txt',\n",
       " 'data_sg_exp-03_trial-037.txt',\n",
       " 'data_sg_exp-03_trial-038.txt',\n",
       " 'data_sg_exp-03_trial-039.txt',\n",
       " 'data_sg_exp-03_trial-040.txt',\n",
       " 'data_sg_exp-03_trial-041.txt',\n",
       " 'data_sg_exp-03_trial-042.txt',\n",
       " 'data_sg_exp-03_trial-043.txt',\n",
       " 'data_sg_exp-03_trial-044.txt',\n",
       " 'data_sg_exp-03_trial-045.txt',\n",
       " 'data_sg_exp-03_trial-046.txt',\n",
       " 'data_sg_exp-03_trial-047.txt',\n",
       " 'data_sg_exp-03_trial-048.txt',\n",
       " 'data_sg_exp-03_trial-049.txt',\n",
       " 'data_sg_exp-03_trial-050.txt',\n",
       " 'data_gb_exp-01_trial-001.txt',\n",
       " 'data_gb_exp-01_trial-002.txt',\n",
       " 'data_gb_exp-01_trial-003.txt',\n",
       " 'data_gb_exp-01_trial-004.txt',\n",
       " 'data_gb_exp-01_trial-005.txt',\n",
       " 'data_gb_exp-01_trial-006.txt',\n",
       " 'data_gb_exp-01_trial-007.txt',\n",
       " 'data_gb_exp-01_trial-008.txt',\n",
       " 'data_gb_exp-01_trial-009.txt',\n",
       " 'data_gb_exp-01_trial-010.txt',\n",
       " 'data_gb_exp-01_trial-011.txt',\n",
       " 'data_gb_exp-01_trial-012.txt',\n",
       " 'data_gb_exp-01_trial-013.txt',\n",
       " 'data_gb_exp-01_trial-014.txt',\n",
       " 'data_gb_exp-01_trial-015.txt',\n",
       " 'data_gb_exp-01_trial-016.txt',\n",
       " 'data_gb_exp-01_trial-017.txt',\n",
       " 'data_gb_exp-01_trial-018.txt',\n",
       " 'data_gb_exp-01_trial-019.txt',\n",
       " 'data_gb_exp-01_trial-020.txt',\n",
       " 'data_gb_exp-01_trial-021.txt',\n",
       " 'data_gb_exp-01_trial-022.txt',\n",
       " 'data_gb_exp-01_trial-023.txt',\n",
       " 'data_gb_exp-01_trial-024.txt',\n",
       " 'data_gb_exp-01_trial-025.txt',\n",
       " 'data_gb_exp-01_trial-026.txt',\n",
       " 'data_gb_exp-01_trial-027.txt',\n",
       " 'data_gb_exp-01_trial-028.txt',\n",
       " 'data_gb_exp-01_trial-029.txt',\n",
       " 'data_gb_exp-01_trial-030.txt',\n",
       " 'data_gb_exp-01_trial-031.txt',\n",
       " 'data_gb_exp-01_trial-032.txt',\n",
       " 'data_gb_exp-01_trial-033.txt',\n",
       " 'data_gb_exp-01_trial-034.txt',\n",
       " 'data_gb_exp-01_trial-035.txt',\n",
       " 'data_gb_exp-01_trial-036.txt',\n",
       " 'data_gb_exp-01_trial-037.txt',\n",
       " 'data_gb_exp-01_trial-038.txt',\n",
       " 'data_gb_exp-01_trial-039.txt',\n",
       " 'data_gb_exp-01_trial-040.txt',\n",
       " 'data_gb_exp-01_trial-041.txt',\n",
       " 'data_gb_exp-01_trial-042.txt',\n",
       " 'data_gb_exp-01_trial-043.txt',\n",
       " 'data_gb_exp-01_trial-044.txt',\n",
       " 'data_gb_exp-01_trial-045.txt',\n",
       " 'data_gb_exp-01_trial-046.txt',\n",
       " 'data_gb_exp-01_trial-047.txt',\n",
       " 'data_gb_exp-01_trial-048.txt',\n",
       " 'data_gb_exp-01_trial-049.txt',\n",
       " 'data_gb_exp-01_trial-050.txt',\n",
       " 'data_gb_exp-02_trial-001.txt',\n",
       " 'data_gb_exp-02_trial-002.txt',\n",
       " 'data_gb_exp-02_trial-003.txt',\n",
       " 'data_gb_exp-02_trial-004.txt',\n",
       " 'data_gb_exp-02_trial-005.txt',\n",
       " 'data_gb_exp-02_trial-006.txt',\n",
       " 'data_gb_exp-02_trial-007.txt',\n",
       " 'data_gb_exp-02_trial-008.txt',\n",
       " 'data_gb_exp-02_trial-009.txt',\n",
       " 'data_gb_exp-02_trial-010.txt',\n",
       " 'data_gb_exp-02_trial-011.txt',\n",
       " 'data_gb_exp-02_trial-012.txt',\n",
       " 'data_gb_exp-02_trial-013.txt',\n",
       " 'data_gb_exp-02_trial-014.txt',\n",
       " 'data_gb_exp-02_trial-015.txt',\n",
       " 'data_gb_exp-02_trial-016.txt',\n",
       " 'data_gb_exp-02_trial-017.txt',\n",
       " 'data_gb_exp-02_trial-018.txt',\n",
       " 'data_gb_exp-02_trial-019.txt',\n",
       " 'data_gb_exp-02_trial-020.txt',\n",
       " 'data_gb_exp-02_trial-021.txt',\n",
       " 'data_gb_exp-02_trial-022.txt',\n",
       " 'data_gb_exp-02_trial-023.txt',\n",
       " 'data_gb_exp-02_trial-024.txt',\n",
       " 'data_gb_exp-02_trial-025.txt',\n",
       " 'data_gb_exp-02_trial-026.txt',\n",
       " 'data_gb_exp-02_trial-027.txt',\n",
       " 'data_gb_exp-02_trial-028.txt',\n",
       " 'data_gb_exp-02_trial-029.txt',\n",
       " 'data_gb_exp-02_trial-030.txt',\n",
       " 'data_gb_exp-02_trial-031.txt',\n",
       " 'data_gb_exp-02_trial-032.txt',\n",
       " 'data_gb_exp-02_trial-033.txt',\n",
       " 'data_gb_exp-02_trial-034.txt',\n",
       " 'data_gb_exp-02_trial-035.txt',\n",
       " 'data_gb_exp-02_trial-036.txt',\n",
       " 'data_gb_exp-02_trial-037.txt',\n",
       " 'data_gb_exp-02_trial-038.txt',\n",
       " 'data_gb_exp-02_trial-039.txt',\n",
       " 'data_gb_exp-02_trial-040.txt',\n",
       " 'data_gb_exp-02_trial-041.txt',\n",
       " 'data_gb_exp-02_trial-042.txt',\n",
       " 'data_gb_exp-02_trial-043.txt',\n",
       " 'data_gb_exp-02_trial-044.txt',\n",
       " 'data_gb_exp-02_trial-045.txt',\n",
       " 'data_gb_exp-02_trial-046.txt',\n",
       " 'data_gb_exp-02_trial-047.txt',\n",
       " 'data_gb_exp-02_trial-048.txt',\n",
       " 'data_gb_exp-02_trial-049.txt',\n",
       " 'data_gb_exp-02_trial-050.txt',\n",
       " 'data_gb_exp-03_trial-001.txt',\n",
       " 'data_gb_exp-03_trial-002.txt',\n",
       " 'data_gb_exp-03_trial-003.txt',\n",
       " 'data_gb_exp-03_trial-004.txt',\n",
       " 'data_gb_exp-03_trial-005.txt',\n",
       " 'data_gb_exp-03_trial-006.txt',\n",
       " 'data_gb_exp-03_trial-007.txt',\n",
       " 'data_gb_exp-03_trial-008.txt',\n",
       " 'data_gb_exp-03_trial-009.txt',\n",
       " 'data_gb_exp-03_trial-010.txt',\n",
       " 'data_gb_exp-03_trial-011.txt',\n",
       " 'data_gb_exp-03_trial-012.txt',\n",
       " 'data_gb_exp-03_trial-013.txt',\n",
       " 'data_gb_exp-03_trial-014.txt',\n",
       " 'data_gb_exp-03_trial-015.txt',\n",
       " 'data_gb_exp-03_trial-016.txt',\n",
       " 'data_gb_exp-03_trial-017.txt',\n",
       " 'data_gb_exp-03_trial-018.txt',\n",
       " 'data_gb_exp-03_trial-019.txt',\n",
       " 'data_gb_exp-03_trial-020.txt',\n",
       " 'data_gb_exp-03_trial-021.txt',\n",
       " 'data_gb_exp-03_trial-022.txt',\n",
       " 'data_gb_exp-03_trial-023.txt',\n",
       " 'data_gb_exp-03_trial-024.txt',\n",
       " 'data_gb_exp-03_trial-025.txt',\n",
       " 'data_gb_exp-03_trial-026.txt',\n",
       " 'data_gb_exp-03_trial-027.txt',\n",
       " 'data_gb_exp-03_trial-028.txt',\n",
       " 'data_gb_exp-03_trial-029.txt',\n",
       " 'data_gb_exp-03_trial-030.txt',\n",
       " 'data_gb_exp-03_trial-031.txt',\n",
       " 'data_gb_exp-03_trial-032.txt',\n",
       " 'data_gb_exp-03_trial-033.txt',\n",
       " 'data_gb_exp-03_trial-034.txt',\n",
       " 'data_gb_exp-03_trial-035.txt',\n",
       " 'data_gb_exp-03_trial-036.txt',\n",
       " 'data_gb_exp-03_trial-037.txt',\n",
       " 'data_gb_exp-03_trial-038.txt',\n",
       " 'data_gb_exp-03_trial-039.txt',\n",
       " 'data_gb_exp-03_trial-040.txt',\n",
       " 'data_gb_exp-03_trial-041.txt',\n",
       " 'data_gb_exp-03_trial-042.txt',\n",
       " 'data_gb_exp-03_trial-043.txt',\n",
       " 'data_gb_exp-03_trial-044.txt',\n",
       " 'data_gb_exp-03_trial-045.txt',\n",
       " 'data_gb_exp-03_trial-046.txt',\n",
       " 'data_gb_exp-03_trial-047.txt',\n",
       " 'data_gb_exp-03_trial-048.txt',\n",
       " 'data_gb_exp-03_trial-049.txt',\n",
       " 'data_gb_exp-03_trial-050.txt',\n",
       " 'data_us_exp-01_trial-001.txt',\n",
       " 'data_us_exp-01_trial-002.txt',\n",
       " 'data_us_exp-01_trial-003.txt',\n",
       " 'data_us_exp-01_trial-004.txt',\n",
       " 'data_us_exp-01_trial-005.txt',\n",
       " 'data_us_exp-01_trial-006.txt',\n",
       " 'data_us_exp-01_trial-007.txt',\n",
       " 'data_us_exp-01_trial-008.txt',\n",
       " 'data_us_exp-01_trial-009.txt',\n",
       " 'data_us_exp-01_trial-010.txt',\n",
       " 'data_us_exp-01_trial-011.txt',\n",
       " 'data_us_exp-01_trial-012.txt',\n",
       " 'data_us_exp-01_trial-013.txt',\n",
       " 'data_us_exp-01_trial-014.txt',\n",
       " 'data_us_exp-01_trial-015.txt',\n",
       " 'data_us_exp-01_trial-016.txt',\n",
       " 'data_us_exp-01_trial-017.txt',\n",
       " 'data_us_exp-01_trial-018.txt',\n",
       " 'data_us_exp-01_trial-019.txt',\n",
       " 'data_us_exp-01_trial-020.txt',\n",
       " 'data_us_exp-01_trial-021.txt',\n",
       " 'data_us_exp-01_trial-022.txt',\n",
       " 'data_us_exp-01_trial-023.txt',\n",
       " 'data_us_exp-01_trial-024.txt',\n",
       " 'data_us_exp-01_trial-025.txt',\n",
       " 'data_us_exp-01_trial-026.txt',\n",
       " 'data_us_exp-01_trial-027.txt',\n",
       " 'data_us_exp-01_trial-028.txt',\n",
       " 'data_us_exp-01_trial-029.txt',\n",
       " 'data_us_exp-01_trial-030.txt',\n",
       " 'data_us_exp-01_trial-031.txt',\n",
       " 'data_us_exp-01_trial-032.txt',\n",
       " 'data_us_exp-01_trial-033.txt',\n",
       " 'data_us_exp-01_trial-034.txt',\n",
       " 'data_us_exp-01_trial-035.txt',\n",
       " 'data_us_exp-01_trial-036.txt',\n",
       " 'data_us_exp-01_trial-037.txt',\n",
       " 'data_us_exp-01_trial-038.txt',\n",
       " 'data_us_exp-01_trial-039.txt',\n",
       " 'data_us_exp-01_trial-040.txt',\n",
       " 'data_us_exp-01_trial-041.txt',\n",
       " 'data_us_exp-01_trial-042.txt',\n",
       " 'data_us_exp-01_trial-043.txt',\n",
       " 'data_us_exp-01_trial-044.txt',\n",
       " 'data_us_exp-01_trial-045.txt',\n",
       " 'data_us_exp-01_trial-046.txt',\n",
       " 'data_us_exp-01_trial-047.txt',\n",
       " 'data_us_exp-01_trial-048.txt',\n",
       " 'data_us_exp-01_trial-049.txt',\n",
       " 'data_us_exp-01_trial-050.txt',\n",
       " 'data_us_exp-02_trial-001.txt',\n",
       " 'data_us_exp-02_trial-002.txt',\n",
       " 'data_us_exp-02_trial-003.txt',\n",
       " 'data_us_exp-02_trial-004.txt',\n",
       " 'data_us_exp-02_trial-005.txt',\n",
       " 'data_us_exp-02_trial-006.txt',\n",
       " 'data_us_exp-02_trial-007.txt',\n",
       " 'data_us_exp-02_trial-008.txt',\n",
       " 'data_us_exp-02_trial-009.txt',\n",
       " 'data_us_exp-02_trial-010.txt',\n",
       " 'data_us_exp-02_trial-011.txt',\n",
       " 'data_us_exp-02_trial-012.txt',\n",
       " 'data_us_exp-02_trial-013.txt',\n",
       " 'data_us_exp-02_trial-014.txt',\n",
       " 'data_us_exp-02_trial-015.txt',\n",
       " 'data_us_exp-02_trial-016.txt',\n",
       " 'data_us_exp-02_trial-017.txt',\n",
       " 'data_us_exp-02_trial-018.txt',\n",
       " 'data_us_exp-02_trial-019.txt',\n",
       " 'data_us_exp-02_trial-020.txt',\n",
       " 'data_us_exp-02_trial-021.txt',\n",
       " 'data_us_exp-02_trial-022.txt',\n",
       " 'data_us_exp-02_trial-023.txt',\n",
       " 'data_us_exp-02_trial-024.txt',\n",
       " 'data_us_exp-02_trial-025.txt',\n",
       " 'data_us_exp-02_trial-026.txt',\n",
       " 'data_us_exp-02_trial-027.txt',\n",
       " 'data_us_exp-02_trial-028.txt',\n",
       " 'data_us_exp-02_trial-029.txt',\n",
       " 'data_us_exp-02_trial-030.txt',\n",
       " 'data_us_exp-02_trial-031.txt',\n",
       " 'data_us_exp-02_trial-032.txt',\n",
       " 'data_us_exp-02_trial-033.txt',\n",
       " 'data_us_exp-02_trial-034.txt',\n",
       " 'data_us_exp-02_trial-035.txt',\n",
       " 'data_us_exp-02_trial-036.txt',\n",
       " 'data_us_exp-02_trial-037.txt',\n",
       " 'data_us_exp-02_trial-038.txt',\n",
       " 'data_us_exp-02_trial-039.txt',\n",
       " 'data_us_exp-02_trial-040.txt',\n",
       " 'data_us_exp-02_trial-041.txt',\n",
       " 'data_us_exp-02_trial-042.txt',\n",
       " 'data_us_exp-02_trial-043.txt',\n",
       " 'data_us_exp-02_trial-044.txt',\n",
       " 'data_us_exp-02_trial-045.txt',\n",
       " 'data_us_exp-02_trial-046.txt',\n",
       " 'data_us_exp-02_trial-047.txt',\n",
       " 'data_us_exp-02_trial-048.txt',\n",
       " 'data_us_exp-02_trial-049.txt',\n",
       " 'data_us_exp-02_trial-050.txt',\n",
       " 'data_us_exp-03_trial-001.txt',\n",
       " 'data_us_exp-03_trial-002.txt',\n",
       " 'data_us_exp-03_trial-003.txt',\n",
       " 'data_us_exp-03_trial-004.txt',\n",
       " 'data_us_exp-03_trial-005.txt',\n",
       " 'data_us_exp-03_trial-006.txt',\n",
       " 'data_us_exp-03_trial-007.txt',\n",
       " 'data_us_exp-03_trial-008.txt',\n",
       " 'data_us_exp-03_trial-009.txt',\n",
       " 'data_us_exp-03_trial-010.txt',\n",
       " 'data_us_exp-03_trial-011.txt',\n",
       " 'data_us_exp-03_trial-012.txt',\n",
       " 'data_us_exp-03_trial-013.txt',\n",
       " 'data_us_exp-03_trial-014.txt',\n",
       " 'data_us_exp-03_trial-015.txt',\n",
       " 'data_us_exp-03_trial-016.txt',\n",
       " 'data_us_exp-03_trial-017.txt',\n",
       " 'data_us_exp-03_trial-018.txt',\n",
       " 'data_us_exp-03_trial-019.txt',\n",
       " 'data_us_exp-03_trial-020.txt',\n",
       " 'data_us_exp-03_trial-021.txt',\n",
       " 'data_us_exp-03_trial-022.txt',\n",
       " 'data_us_exp-03_trial-023.txt',\n",
       " 'data_us_exp-03_trial-024.txt',\n",
       " 'data_us_exp-03_trial-025.txt',\n",
       " 'data_us_exp-03_trial-026.txt',\n",
       " 'data_us_exp-03_trial-027.txt',\n",
       " 'data_us_exp-03_trial-028.txt',\n",
       " 'data_us_exp-03_trial-029.txt',\n",
       " 'data_us_exp-03_trial-030.txt',\n",
       " 'data_us_exp-03_trial-031.txt',\n",
       " 'data_us_exp-03_trial-032.txt',\n",
       " 'data_us_exp-03_trial-033.txt',\n",
       " 'data_us_exp-03_trial-034.txt',\n",
       " 'data_us_exp-03_trial-035.txt',\n",
       " 'data_us_exp-03_trial-036.txt',\n",
       " 'data_us_exp-03_trial-037.txt',\n",
       " 'data_us_exp-03_trial-038.txt',\n",
       " 'data_us_exp-03_trial-039.txt',\n",
       " 'data_us_exp-03_trial-040.txt',\n",
       " 'data_us_exp-03_trial-041.txt',\n",
       " 'data_us_exp-03_trial-042.txt',\n",
       " 'data_us_exp-03_trial-043.txt',\n",
       " 'data_us_exp-03_trial-044.txt',\n",
       " 'data_us_exp-03_trial-045.txt',\n",
       " 'data_us_exp-03_trial-046.txt',\n",
       " 'data_us_exp-03_trial-047.txt',\n",
       " 'data_us_exp-03_trial-048.txt',\n",
       " 'data_us_exp-03_trial-049.txt',\n",
       " 'data_us_exp-03_trial-050.txt']"
      ]
     },
     "execution_count": 20,
     "metadata": {},
     "output_type": "execute_result"
    }
   ],
   "source": [
    "country = ['sg', 'gb', 'us']\n",
    "experiment = ['exp-01', 'exp-02', 'exp-03']\n",
    "\n",
    "number2 = []\n",
    "for i in range (1,51):\n",
    "    number1 = f\"{i:03d}\"\n",
    "    number2.append(number1)\n",
    "\n",
    "list2 = []\n",
    "for c in country:\n",
    "    for e in experiment:\n",
    "        for n in number2:\n",
    "            list1 = 'data_' + c + '_' + e + '_trial-' + n + '.txt'\n",
    "            list2.append(list1)\n",
    "\n",
    "list2"
   ]
  },
  {
   "cell_type": "markdown",
   "id": "b53482b8",
   "metadata": {},
   "source": [
    "## Exercise 2 :  Tutti frutti"
   ]
  },
  {
   "cell_type": "code",
   "execution_count": 37,
   "id": "3528c2b1",
   "metadata": {},
   "outputs": [
    {
     "name": "stdout",
     "output_type": "stream",
     "text": [
      "'mango' is incuded in the list\n"
     ]
    }
   ],
   "source": [
    "fruits = [\"apple\", \"banana\", \"pineapple\", \"jackfruit\",\n",
    "        \"peach\", \"durian\", \"watermelon\", \"mango\",\n",
    "        \"strawberry\", \"passionfruit\"]\n",
    "\n",
    "if 'mango' in fruits:\n",
    "    print(\"'mango' is incuded in the list\")\n",
    "else:\n",
    "    print(\"'mango' is not included in the list\")"
   ]
  },
  {
   "cell_type": "code",
   "execution_count": 24,
   "id": "40b43ee4",
   "metadata": {},
   "outputs": [
    {
     "name": "stdout",
     "output_type": "stream",
     "text": [
      "[('a', 'e'), ('b', 'a'), ('p', 'e'), ('j', 't'), ('p', 'h'), ('d', 'n'), ('w', 'n'), ('m', 'o'), ('s', 'y'), ('p', 't')]\n"
     ]
    }
   ],
   "source": [
    "fruits = [\"apple\", \"banana\", \"pineapple\", \"jackfruit\",\n",
    "        \"peach\", \"durian\", \"watermelon\", \"mango\",\n",
    "        \"strawberry\", \"passionfruit\"]\n",
    "fruits1 = []\n",
    "\n",
    "for i in fruits:\n",
    "    fruits2 = i[0],i[-1]\n",
    "    fruits1.append(fruits2)\n",
    "\n",
    "print(fruits1)"
   ]
  },
  {
   "cell_type": "code",
   "execution_count": 31,
   "id": "5ebcd107",
   "metadata": {},
   "outputs": [
    {
     "name": "stdout",
     "output_type": "stream",
     "text": [
      "apple\n",
      "banana\n",
      "PINEAPPLE\n",
      "jackfruit\n",
      "PEACH\n",
      "durian\n",
      "watermelon\n",
      "mango\n",
      "strawberry\n",
      "PASSIONFRUIT\n"
     ]
    }
   ],
   "source": [
    "fruits = [\"apple\", \"banana\", \"pineapple\", \"jackfruit\",\n",
    "        \"peach\", \"durian\", \"watermelon\", \"mango\",\n",
    "        \"strawberry\", \"passionfruit\"]\n",
    "\n",
    "for i in fruits:\n",
    "    if i[0] == 'p':\n",
    "        print(i.upper())\n",
    "    else:\n",
    "        print(i)\n",
    "    "
   ]
  },
  {
   "cell_type": "code",
   "execution_count": 37,
   "id": "89aeb10c",
   "metadata": {},
   "outputs": [
    {
     "name": "stdout",
     "output_type": "stream",
     "text": [
      "['apple', 'banana', 'pineapple', 'jackfruit', 'peach', 'durian', 'watermelon', 'mango', 'strawberry', 'passionfruit', 'dragon fruit', 'apricots', 'oranges']\n"
     ]
    }
   ],
   "source": [
    "fruits = [\"apple\", \"banana\", \"pineapple\", \"jackfruit\",\n",
    "        \"peach\", \"durian\", \"watermelon\", \"mango\",\n",
    "        \"strawberry\", \"passionfruit\"]\n",
    "fruits1 = [\"dragon fruit\", \"apricots\", \"oranges\"]\n",
    "\n",
    "for i in fruits1:\n",
    "    fruits.append(i)\n",
    "    \n",
    "print(fruits)"
   ]
  },
  {
   "cell_type": "code",
   "execution_count": 38,
   "id": "34dce9b6",
   "metadata": {},
   "outputs": [
    {
     "name": "stdout",
     "output_type": "stream",
     "text": [
      "['dragon fruit', 'apricots', 'oranges', 'apple', 'banana', 'pineapple', 'jackfruit', 'peach', 'durian', 'watermelon', 'mango', 'strawberry', 'passionfruit']\n"
     ]
    }
   ],
   "source": [
    "fruits = [\"apple\", \"banana\", \"pineapple\", \"jackfruit\",\n",
    "        \"peach\", \"durian\", \"watermelon\", \"mango\",\n",
    "        \"strawberry\", \"passionfruit\"]\n",
    "fruits1 = [\"dragon fruit\", \"apricots\", \"oranges\"]\n",
    "\n",
    "for i in fruits:\n",
    "    fruits1.append(i)\n",
    "    \n",
    "print(fruits1)"
   ]
  },
  {
   "cell_type": "code",
   "execution_count": 46,
   "id": "6349a9bf",
   "metadata": {},
   "outputs": [
    {
     "name": "stdout",
     "output_type": "stream",
     "text": [
      "['apple', 'banana', 'pineapple', 'jackfruit', 'peach', 'dragon fruit', 'apricots', 'oranges', 'durian', 'watermelon', 'mango', 'strawberry', 'passionfruit']\n"
     ]
    }
   ],
   "source": [
    "fruits = [\"apple\", \"banana\", \"pineapple\", \"jackfruit\",\n",
    "        \"peach\", \"durian\", \"watermelon\", \"mango\",\n",
    "        \"strawberry\", \"passionfruit\"]\n",
    "fruits1 = [\"dragon fruit\", \"apricots\", \"oranges\"]\n",
    "\n",
    "print(fruits[0:5] + fruits1 + fruits[5:10])"
   ]
  },
  {
   "cell_type": "code",
   "execution_count": 55,
   "id": "fb42f1bc",
   "metadata": {},
   "outputs": [
    {
     "name": "stdout",
     "output_type": "stream",
     "text": [
      "pineapple\n",
      "jackfruit\n",
      "watermelon\n",
      "strawberry\n",
      "passionfruit\n"
     ]
    }
   ],
   "source": [
    "fruits = [\"apple\", \"banana\", \"pineapple\", \"jackfruit\",\n",
    "        \"peach\", \"durian\", \"watermelon\", \"mango\",\n",
    "        \"strawberry\", \"passionfruit\"]\n",
    "for i in fruits:\n",
    "    if len(i) > 8:\n",
    "        print(i)"
   ]
  },
  {
   "cell_type": "markdown",
   "id": "623b1bc4",
   "metadata": {},
   "source": [
    "## Exercise 3 :  Ciao Fibonacci"
   ]
  },
  {
   "cell_type": "code",
   "execution_count": 5,
   "id": "f365724c",
   "metadata": {},
   "outputs": [
    {
     "name": "stdout",
     "output_type": "stream",
     "text": [
      "[0, 1, 1, 2, 3, 5, 8, 13, 21, 34, 55, 89, 144, 233, 377]\n"
     ]
    }
   ],
   "source": [
    "fibonacci=[0, 1]\n",
    "\n",
    "while len(fibonacci) < 15:\n",
    "    var3 = fibonacci[-1] + fibonacci[-2]\n",
    "    fibonacci.append(var3)\n",
    "\n",
    "print(fibonacci)"
   ]
  },
  {
   "cell_type": "markdown",
   "id": "fd3deaff",
   "metadata": {},
   "source": [
    "## Exercise 4 :  A function for Fibonacci"
   ]
  },
  {
   "cell_type": "code",
   "execution_count": 23,
   "id": "9da889ef",
   "metadata": {},
   "outputs": [
    {
     "data": {
      "text/plain": [
       "[0, 1, 1, 2, 3, 5, 8, 13, 21, 34, 55, 89, 144, 233, 377, 610, 987, 1597]"
      ]
     },
     "execution_count": 23,
     "metadata": {},
     "output_type": "execute_result"
    }
   ],
   "source": [
    "f=[0, 1]\n",
    "\n",
    "def fibonacci(n):\n",
    "    while len(f) < n:\n",
    "        var3 = f[-1] + f[-2]\n",
    "        f.append(var3)\n",
    "    return f\n",
    "            \n",
    "fibonacci(18)"
   ]
  },
  {
   "cell_type": "markdown",
   "id": "69d89bb9",
   "metadata": {},
   "source": [
    "## Exercise 5 :  max_info() without NumPy"
   ]
  },
  {
   "cell_type": "code",
   "execution_count": 45,
   "id": "1898551a",
   "metadata": {},
   "outputs": [
    {
     "data": {
      "text/plain": [
       "(83, 2)"
      ]
     },
     "execution_count": 45,
     "metadata": {},
     "output_type": "execute_result"
    }
   ],
   "source": [
    "numbers = [40, 27, 83, 44, 74, 51, 76, 77, 10, 49]\n",
    "\n",
    "def max_info(numbers):\n",
    "    my_max, my_max_index = 0, 0\n",
    "    for i in range(len(numbers)):\n",
    "        if numbers[i] > my_max:\n",
    "            my_max = numbers[i]\n",
    "            my_max_index = i\n",
    "    return my_max, my_max_index\n",
    "\n",
    "max_info(numbers)"
   ]
  },
  {
   "cell_type": "markdown",
   "id": "4865f495",
   "metadata": {},
   "source": [
    "## Exercise 6 :  Take count"
   ]
  },
  {
   "cell_type": "code",
   "execution_count": 67,
   "id": "0117382f",
   "metadata": {},
   "outputs": [
    {
     "name": "stdout",
     "output_type": "stream",
     "text": [
      "{'A': 247, 'C': 250, 'G': 249, 'T': 254}\n",
      "(array(['A', 'C', 'G', 'T'], dtype='<U1'), array([247, 250, 249, 254], dtype=int64))\n",
      "['AGGC', 'AAGA', 'AGCT', 'AGAA', 'TTCT', 'GGCC', 'TGAG', 'TATC', 'TCAG', 'TACA', 'GGCG', 'CAGT', 'CGAA', 'TCTT', 'CCGG', 'AATC', 'ACAT', 'TGCT', 'CGCG', 'CTTA', 'AACC', 'CGCT', 'CTAA', 'ACCT', 'TTGA', 'GTAA', 'TTCG', 'ACGA', 'CATT', 'GGGT', 'TCCC', 'TCCG', 'ACGC', 'TGTC', 'TGAC', 'AACT', 'CTTT', 'AAGA', 'TCCT', 'TGGC', 'ACGA', 'TGTC', 'GATA', 'GACA', 'TTGT', 'CCCT', 'GATG', 'ACGC', 'CTCA', 'CAAG', 'GTAA', 'CCTG', 'GCTC', 'TAGT', 'AGGG', 'TGGT', 'CTTT', 'GCTG', 'CGGA', 'ACTT', 'ACCA', 'CCTG', 'GTGG']\n"
     ]
    }
   ],
   "source": [
    "DNA = 'AGGCAAGAAGCTAGAATTCTGGCCTGAGTATCTCAGTACAGGCGCAGTCGAATCTTCCGGAATCACATTGCTCGCGCTTAAACCCGCTCTAAACCTTTGAGTAATTCGACGACATTGGGTTCCCTCCGACGCTGTCTGACAACTCTTTAAGATCCTTGGCACGATGTCGATAGACATTGTCCCTGATGACGCCTCACAAGGTAACCTGGCTCTAGTAGGGTGGTCTTTGCTGCGGAACTTACCACCTGGTGGATCCAAGCACCAGAGGAGTTCGAAGAGGCTGGGGTACCCCCTATTTAGGAAGGGCGAGACTACGGTCACAAATTCCAAATGGCTTCCCTCGATTCATGACGCCAGAATGCCTGGCTGTGCCAATTTGTCGCCTTGCGTCGTTCTGTCAATCTTTACTCGTGTCGTGTTGTGATAAATGACAAACCCTGCACAACGTAGGGCTCACACAAGGGAATCTAGAGTATCCGATACAGGGAGCTTTAGCTTCCGTCCCTTATAGCCTGCCATATTCTTGCGGTAGCACGAGCCTCAGATCTTCTCACTCCGGAAATGGGAGCTTCGACGGTCAAGGGCTAAGACGTCTTCGGGAGAAATACCTAGGCGATGACCCTGAGTGGTTTTCCGCGTATAACTCATCCTGGTTGCAAATGATTACCGTTATAGCCTGGGGATATGCCTCAATTCCGAACCCAGGAGCATCACTCGAGCAATAGCGGTAAAGGAGGCTATTAGCAAAATTGTCACGATAAGCGCCGTTGTAGTGAAATTAAGATACATACATCGTTTAGCACATCACTCTCACGGCGTCTAGAAGCTGATCTTCATATGCTGACTCAGAAGGCTCGGATAATAGAGGACGAAGGTAGTTTACTCATCGCTGCCCCGACTATTACGTGTGCATGATAAAGTCTGACCCTGACGTTCCCAAGCCGAGGCAGAGGGGTTTTACGCTGAATGTCCGCTCTCTGTCGGATGATTTCGGAAGCTG'\n",
    "DNA1 = [*DNA]\n",
    "counterT = 0\n",
    "counterA = 0\n",
    "counterC = 0\n",
    "counterG = 0\n",
    "\n",
    "for i in DNA1:\n",
    "    if i == 'T':\n",
    "        counterT += 1\n",
    "    else:\n",
    "        counterT += 0\n",
    "\n",
    "for i in DNA1:\n",
    "    if i == 'A':\n",
    "        counterA += 1\n",
    "    else:\n",
    "        counterA += 0\n",
    "        \n",
    "for i in DNA1:\n",
    "    if i == 'C':\n",
    "        counterC += 1\n",
    "    else:\n",
    "        counterC += 0\n",
    "        \n",
    "for i in DNA1:\n",
    "    if i == 'G':\n",
    "        counterG += 1\n",
    "    else:\n",
    "        counterG += 0\n",
    "        \n",
    "DNA_counter = {\n",
    "    'A' : counterA,\n",
    "    'C' : counterC,\n",
    "    'G' : counterG,\n",
    "    'T' : counterT\n",
    "}\n",
    "\n",
    "print(DNA_counter)\n",
    "\n",
    "DNA2 = np.array(DNA1)\n",
    "print(np.unique(DNA2, return_counts=True))\n",
    "\n",
    "words = []\n",
    "for n in range(0, len(DNA) // 4, 4):\n",
    "    words.append(DNA[n:n+4])\n",
    "print(words)"
   ]
  },
  {
   "cell_type": "code",
   "execution_count": null,
   "id": "92abf84b",
   "metadata": {},
   "outputs": [],
   "source": []
  }
 ],
 "metadata": {
  "kernelspec": {
   "display_name": "Python 3 (ipykernel)",
   "language": "python",
   "name": "python3"
  },
  "language_info": {
   "codemirror_mode": {
    "name": "ipython",
    "version": 3
   },
   "file_extension": ".py",
   "mimetype": "text/x-python",
   "name": "python",
   "nbconvert_exporter": "python",
   "pygments_lexer": "ipython3",
   "version": "3.10.8"
  },
  "toc": {
   "base_numbering": 1,
   "nav_menu": {},
   "number_sections": true,
   "sideBar": true,
   "skip_h1_title": false,
   "title_cell": "Table of Contents",
   "title_sidebar": "Contents",
   "toc_cell": false,
   "toc_position": {},
   "toc_section_display": true,
   "toc_window_display": false
  },
  "varInspector": {
   "cols": {
    "lenName": 16,
    "lenType": 16,
    "lenVar": 40
   },
   "kernels_config": {
    "python": {
     "delete_cmd_postfix": "",
     "delete_cmd_prefix": "del ",
     "library": "var_list.py",
     "varRefreshCmd": "print(var_dic_list())"
    },
    "r": {
     "delete_cmd_postfix": ") ",
     "delete_cmd_prefix": "rm(",
     "library": "var_list.r",
     "varRefreshCmd": "cat(var_dic_list()) "
    }
   },
   "types_to_exclude": [
    "module",
    "function",
    "builtin_function_or_method",
    "instance",
    "_Feature"
   ],
   "window_display": false
  },
  "vscode": {
   "interpreter": {
    "hash": "31f2aee4e71d21fbe5cf8b01ff0e069b9275f58929596ceb00d14d90e3e16cd6"
   }
  }
 },
 "nbformat": 4,
 "nbformat_minor": 5
}
