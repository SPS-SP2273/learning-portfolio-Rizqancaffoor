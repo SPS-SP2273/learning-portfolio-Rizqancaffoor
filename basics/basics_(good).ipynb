{
 "cells": [
  {
   "cell_type": "markdown",
   "id": "123456",
   "metadata": {},
   "source": [
    "<div style=\"text-align:left;font-size:2em\"><span style=\"font-weight:bolder;font-size:1.25em\">SP2273 | Learning Portfolio</span><br><br><span style=\"font-weight:bold;color:darkred\">Basics (Good)</span></div>"
   ]
  },
  {
   "cell_type": "markdown",
   "id": "76038250",
   "metadata": {},
   "source": [
    "## 1 More Python Basics"
   ]
  },
  {
   "cell_type": "markdown",
   "id": "e56ff120",
   "metadata": {},
   "source": [
    "### 1.1 Computers read = from Right to Left!"
   ]
  },
  {
   "cell_type": "code",
   "execution_count": 6,
   "id": "6a4fd13f",
   "metadata": {},
   "outputs": [
    {
     "name": "stdout",
     "output_type": "stream",
     "text": [
      "42\n"
     ]
    }
   ],
   "source": [
    "x = 40\n",
    "y = x + 2\n",
    "\n",
    "y = 40\n",
    "y = y + 2\n",
    "print(y)\n",
    "\n",
    "x = y = 10"
   ]
  },
  {
   "cell_type": "markdown",
   "id": "4bd61063",
   "metadata": {},
   "source": [
    "### 1.2 Shorter and cleaner"
   ]
  },
  {
   "cell_type": "code",
   "execution_count": 10,
   "id": "676ba099",
   "metadata": {},
   "outputs": [
    {
     "name": "stdout",
     "output_type": "stream",
     "text": [
      "42\n",
      "38\n",
      "20.0\n",
      "80\n"
     ]
    }
   ],
   "source": [
    "y = 40\n",
    "y = y + 2\n",
    "\n",
    "y = 40\n",
    "y += 2    # Same as y = y + 2\n",
    "print(y)\n",
    "\n",
    "y = 40\n",
    "y -= 2     # Same as y = y - 2\n",
    "print(y)\n",
    "\n",
    "y = 40\n",
    "y /= 2    # Same as y = y/2\n",
    "print(y)\n",
    "\n",
    "y = 40\n",
    "y *= 2    # Same as y = y * 2\n",
    "print(y)"
   ]
  },
  {
   "cell_type": "markdown",
   "id": "b9d88699",
   "metadata": {},
   "source": [
    "### 1.3 Asking questions"
   ]
  },
  {
   "cell_type": "code",
   "execution_count": 17,
   "id": "a5887101",
   "metadata": {},
   "outputs": [
    {
     "name": "stdout",
     "output_type": "stream",
     "text": [
      "True\n",
      "False\n",
      "True\n",
      "True\n",
      "True\n",
      "False\n",
      "True\n",
      "True\n"
     ]
    }
   ],
   "source": [
    "fruits = [\"apple\", \"banana\", \"pineapple\", \"jackfruit\"]\n",
    "vegetables = [\"celery\", \"potato\", \"broccoli\", \"kale\"]\n",
    "\n",
    "print(\"apple\" in fruits)\n",
    "\n",
    "print(\"peach\" in fruits)\n",
    "\n",
    "print(\"peach\" not in fruits)\n",
    "\n",
    "print((\"apple\" in fruits) and (\"celery\" in vegetables))\n",
    "\n",
    "print((\"apple\" in fruits) or (\"celery\" in vegetables))\n",
    "\n",
    "print('apples' > 'oranges')\n",
    "\n",
    "print((x > 5) and (x < 15))\n",
    "\n",
    "print(5 < x < 15)"
   ]
  },
  {
   "cell_type": "markdown",
   "id": "271d2626",
   "metadata": {},
   "source": [
    "### 1.4 There is more to if"
   ]
  },
  {
   "cell_type": "code",
   "execution_count": 18,
   "id": "80f54adc",
   "metadata": {},
   "outputs": [
    {
     "name": "stdout",
     "output_type": "stream",
     "text": [
      "Hello Hero | Batman!\n"
     ]
    }
   ],
   "source": [
    "name = 'Batman'\n",
    "\n",
    "if name == 'Batman':\n",
    "    print('Hello Hero | Batman!')\n",
    "elif name == 'Robin':\n",
    "    print('Hello Sidekick | Robin!')\n",
    "else:\n",
    "    print('Hello World!')"
   ]
  },
  {
   "cell_type": "markdown",
   "id": "9dfa944d",
   "metadata": {},
   "source": [
    "### 1.5 Python stores information in different formats or types."
   ]
  },
  {
   "cell_type": "code",
   "execution_count": 21,
   "id": "d7228f93",
   "metadata": {},
   "outputs": [
    {
     "name": "stdout",
     "output_type": "stream",
     "text": [
      "1 <class 'int'>\n",
      "1.234 <class 'str'>\n",
      "1.234 <class 'float'>\n",
      "(1.234+0j) <class 'complex'>\n",
      "1.234 <class 'str'>\n",
      "1.234 <class 'float'>\n"
     ]
    }
   ],
   "source": [
    "x = int(1.234)\n",
    "print(x, type(x))\n",
    "\n",
    "x = str(1.234)\n",
    "print(x, type(x))\n",
    "\n",
    "x = float(1.234)\n",
    "print(x, type(x))\n",
    "\n",
    "x = complex(1.234)\n",
    "print(x, type(x))\n",
    "\n",
    "x = '1.234'\n",
    "print(x, type(x))\n",
    "\n",
    "x = float(x)\n",
    "print(x, type(x))"
   ]
  },
  {
   "cell_type": "markdown",
   "id": "287d5f52",
   "metadata": {},
   "source": [
    "### 1.6 Combining English and variables"
   ]
  },
  {
   "cell_type": "code",
   "execution_count": 22,
   "id": "af37e201",
   "metadata": {},
   "outputs": [
    {
     "name": "stdout",
     "output_type": "stream",
     "text": [
      "Hello Batman!\n",
      "Hello BATMAN!\n",
      "The value of 10 squared is 100!\n",
      "Bruce Wayne is Batman.\n",
      "        Bruce Wayne is Batman.\n",
      "    Bruce Wayne is Batman.    \n",
      "Bruce Wayne is Batman.        \n",
      "The cube of pi to 6 decimal places is 31.006277\n",
      "The cube of pi to 6 decimal places is 3.100628e+01\n"
     ]
    }
   ],
   "source": [
    "name = \"Batman\"\n",
    "print(f\"Hello {name}!\")\n",
    "\n",
    "name = \"Batman\"\n",
    "print(f\"Hello {name.upper()}!\")\n",
    "\n",
    "x = 10\n",
    "print(f\"The value of {x} squared is {x**2}!\")\n",
    "\n",
    "text = 'Bruce Wayne is Batman.'\n",
    "print(f'{text}')\n",
    "\n",
    "print(f'{text:>30}')      # A block of 30 characters; aligned right\n",
    "\n",
    "print(f'{text:^30}')      # A block of 30 characters; aligned centre\n",
    "\n",
    "print(f'{text:<30}')      # A block of 30 characters; aligned left\n",
    "\n",
    "print(f'The cube of pi to 6 decimal places is {np.pi**3:.6f}')\n",
    "\n",
    "print(f'The cube of pi to 6 decimal places is {np.pi**3:.6e}')"
   ]
  },
  {
   "cell_type": "markdown",
   "id": "ccc122c7",
   "metadata": {},
   "source": [
    "### 1.7 Python can be a prima-donna."
   ]
  },
  {
   "cell_type": "code",
   "execution_count": 25,
   "id": "0e0ee422",
   "metadata": {},
   "outputs": [
    {
     "name": "stdout",
     "output_type": "stream",
     "text": [
      "Fixing errors with code is called debugging.\n"
     ]
    }
   ],
   "source": [
    "print('Fixing errors with code is called debugging.')"
   ]
  },
  {
   "cell_type": "markdown",
   "id": "198cfa22",
   "metadata": {},
   "source": [
    "## 2 Best Practices for Scientific Computing"
   ]
  },
  {
   "cell_type": "markdown",
   "id": "6afdc182",
   "metadata": {},
   "source": [
    "### 2.1 Some tips"
   ]
  },
  {
   "cell_type": "markdown",
   "id": "be90eb43",
   "metadata": {},
   "source": [
    "1. Write programs for people, not computers.\n",
    "2. Optimise software only after it works correctly.\n",
    "3. Document design and purpose, not mechanics.\n",
    "4. Collaborate."
   ]
  },
  {
   "cell_type": "markdown",
   "id": "848ece2a",
   "metadata": {},
   "source": [
    "### 2.2 Getting help."
   ]
  },
  {
   "cell_type": "code",
   "execution_count": 33,
   "id": "3c989cbe",
   "metadata": {},
   "outputs": [
    {
     "name": "stdout",
     "output_type": "stream",
     "text": [
      "Help on built-in function print in module builtins:\n",
      "\n",
      "print(...)\n",
      "    print(value, ..., sep=' ', end='\\n', file=sys.stdout, flush=False)\n",
      "    \n",
      "    Prints the values to a stream, or to sys.stdout by default.\n",
      "    Optional keyword arguments:\n",
      "    file:  a file-like object (stream); defaults to the current sys.stdout.\n",
      "    sep:   string inserted between values, default a space.\n",
      "    end:   string appended after the last value, default a newline.\n",
      "    flush: whether to forcibly flush the stream.\n",
      "\n"
     ]
    }
   ],
   "source": [
    "help(print)"
   ]
  },
  {
   "cell_type": "markdown",
   "id": "efe1c601",
   "metadata": {},
   "source": [
    "## Exercise 1 :  Bias for some heroes"
   ]
  },
  {
   "cell_type": "code",
   "execution_count": 56,
   "id": "45e7694b",
   "metadata": {
    "code_folding": []
   },
   "outputs": [
    {
     "name": "stdout",
     "output_type": "stream",
     "text": [
      "Hello BATMAN!\n",
      "Hello BLACK WIDOW!\n",
      "Hello aqua man\n"
     ]
    }
   ],
   "source": [
    "def hello(name):\n",
    "    if name == 'Batman':\n",
    "        print('Hello BATMAN!')\n",
    "    elif name == 'Black Widow':\n",
    "        print('Hello BLACK WIDOW!')\n",
    "    else:\n",
    "        print('Hello '+name.lower())\n",
    "        \n",
    "hello('Batman')\n",
    "\n",
    "hello('Black Widow')\n",
    "\n",
    "hello('Aqua Man')"
   ]
  },
  {
   "cell_type": "code",
   "execution_count": 55,
   "id": "1359896a",
   "metadata": {},
   "outputs": [
    {
     "name": "stdout",
     "output_type": "stream",
     "text": [
      "Hello BATMAN\n",
      "Hello BLACK WIDOW\n",
      "Hello aquaman\n"
     ]
    }
   ],
   "source": [
    "def hello(name):\n",
    "    if name == 'Batman' or name == 'Black Widow':\n",
    "        print('Hello '+name.upper())\n",
    "    else :\n",
    "        print('Hello '+name.lower())\n",
    "        \n",
    "hello('Batman')\n",
    "\n",
    "hello('Black Widow')\n",
    "\n",
    "hello('Aquaman')"
   ]
  },
  {
   "cell_type": "markdown",
   "id": "41a4bed5",
   "metadata": {},
   "source": [
    "## Exercise 2 :  Bias for some heroes, continues"
   ]
  },
  {
   "cell_type": "code",
   "execution_count": 60,
   "id": "4377348a",
   "metadata": {},
   "outputs": [
    {
     "name": "stdout",
     "output_type": "stream",
     "text": [
      "Hello batman\n"
     ]
    }
   ],
   "source": [
    "def hello(name):\n",
    "    if name == 'Batman':\n",
    "        print('Hello BATMAN!')\n",
    "    elif name == 'Black Widow':\n",
    "        print('Hello BLACK WIDOW!')\n",
    "    else:\n",
    "        print('Hello '+name.lower())\n",
    "        \n",
    "hello('batMan')     #as intended it does not work"
   ]
  },
  {
   "cell_type": "code",
   "execution_count": 64,
   "id": "b9800395",
   "metadata": {},
   "outputs": [
    {
     "name": "stdout",
     "output_type": "stream",
     "text": [
      "Hello BATMAN\n",
      "Hello BLACK WIDOW\n",
      "Hello aquaman\n"
     ]
    }
   ],
   "source": [
    "def hello(name):\n",
    "    if name.lower() == 'batman' or name.lower() == 'black widow':\n",
    "        print('Hello '+name.upper())\n",
    "    else :\n",
    "        print('Hello '+name.lower())\n",
    "        \n",
    "hello('baTman')\n",
    "\n",
    "hello('BLack Widow')\n",
    "\n",
    "hello('Aquaman')"
   ]
  },
  {
   "cell_type": "markdown",
   "id": "eb99f27f",
   "metadata": {},
   "source": [
    "## Exercise 3 :  Look for help to replace"
   ]
  },
  {
   "cell_type": "code",
   "execution_count": 65,
   "id": "a5cc0914",
   "metadata": {},
   "outputs": [
    {
     "name": "stdout",
     "output_type": "stream",
     "text": [
      "string after replacing:The Batman lives in Gotham City.\n"
     ]
    }
   ],
   "source": [
    "str = 'The Joker lives in Gotham City.'\n",
    "str_replace = str.replace('Joker', 'Batman')\n",
    "print('string after replacing:' + str_replace)\n"
   ]
  }
 ],
 "metadata": {
  "kernelspec": {
   "display_name": "Python 3 (ipykernel)",
   "language": "python",
   "name": "python3"
  },
  "language_info": {
   "codemirror_mode": {
    "name": "ipython",
    "version": 3
   },
   "file_extension": ".py",
   "mimetype": "text/x-python",
   "name": "python",
   "nbconvert_exporter": "python",
   "pygments_lexer": "ipython3",
   "version": "3.10.8"
  },
  "toc": {
   "base_numbering": 1,
   "nav_menu": {},
   "number_sections": true,
   "sideBar": true,
   "skip_h1_title": false,
   "title_cell": "Table of Contents",
   "title_sidebar": "Contents",
   "toc_cell": false,
   "toc_position": {},
   "toc_section_display": true,
   "toc_window_display": false
  },
  "varInspector": {
   "cols": {
    "lenName": 16,
    "lenType": 16,
    "lenVar": 40
   },
   "kernels_config": {
    "python": {
     "delete_cmd_postfix": "",
     "delete_cmd_prefix": "del ",
     "library": "var_list.py",
     "varRefreshCmd": "print(var_dic_list())"
    },
    "r": {
     "delete_cmd_postfix": ") ",
     "delete_cmd_prefix": "rm(",
     "library": "var_list.r",
     "varRefreshCmd": "cat(var_dic_list()) "
    }
   },
   "types_to_exclude": [
    "module",
    "function",
    "builtin_function_or_method",
    "instance",
    "_Feature"
   ],
   "window_display": false
  },
  "vscode": {
   "interpreter": {
    "hash": "31f2aee4e71d21fbe5cf8b01ff0e069b9275f58929596ceb00d14d90e3e16cd6"
   }
  }
 },
 "nbformat": 4,
 "nbformat_minor": 5
}
