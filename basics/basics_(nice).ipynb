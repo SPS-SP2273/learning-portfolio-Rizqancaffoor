{
 "cells": [
  {
   "cell_type": "markdown",
   "id": "123456",
   "metadata": {},
   "source": [
    "<div style=\"text-align:left;font-size:2em\"><span style=\"font-weight:bolder;font-size:1.25em\">SP2273 | Learning Portfolio</span><br><br><span style=\"font-weight:bold;color:darkred\">Basics (Nice)</span></div>"
   ]
  },
  {
   "cell_type": "markdown",
   "id": "e26282c7",
   "metadata": {},
   "source": [
    "## 1 Beyond Python Basics"
   ]
  },
  {
   "cell_type": "markdown",
   "id": "3937a6b5",
   "metadata": {},
   "source": [
    "### 1.1 If if is not enough"
   ]
  },
  {
   "cell_type": "code",
   "execution_count": 1,
   "id": "4709e027",
   "metadata": {},
   "outputs": [
    {
     "name": "stdout",
     "output_type": "stream",
     "text": [
      "Hello Hero | Batman!\n"
     ]
    }
   ],
   "source": [
    "name = 'Batman'\n",
    "\n",
    "match name:\n",
    "    case 'Batman':\n",
    "        print('Hello Hero | Batman!')\n",
    "    case 'Robin':\n",
    "        print('Hello Sidekick | Robin!')\n",
    "    case _:\n",
    "        print('Hello World!')"
   ]
  },
  {
   "cell_type": "markdown",
   "id": "6e96e46e",
   "metadata": {},
   "source": [
    "### 1.2 Ternary operators or Conditional Statements"
   ]
  },
  {
   "cell_type": "code",
   "execution_count": 30,
   "id": "581f5dfa",
   "metadata": {},
   "outputs": [
    {
     "name": "stdout",
     "output_type": "stream",
     "text": [
      "Bonjour!\n",
      "Bonjour!\n",
      "Bonjour!\n",
      "No message!\n"
     ]
    }
   ],
   "source": [
    "def Hello(nationality):\n",
    "    if nationality == 'French':\n",
    "        greeting = \"Bonjour!\"\n",
    "    else:\n",
    "        greeting = \"Hello!\"\n",
    "    print(greeting)\n",
    "        \n",
    "Hello('French')\n",
    "\n",
    "def Hello(nationality):\n",
    "    greeting = \"Bonjour!\" if nationality == 'French' else \"Hello!\"\n",
    "    print(greeting)\n",
    "\n",
    "Hello('French')\n",
    "\n",
    "def Hello(nationality):\n",
    "    greeting = (\"Hello!\", \"Bonjour!\")[nationality == 'French']\n",
    "    print(greeting)\n",
    "    \n",
    "Hello('French')\n",
    "\n",
    "text = None\n",
    "message = text or \"No message!\"\n",
    "\n",
    "print(message)"
   ]
  },
  {
   "cell_type": "markdown",
   "id": "dc68c501",
   "metadata": {},
   "source": [
    "### 1.3 Swapping values"
   ]
  },
  {
   "cell_type": "code",
   "execution_count": 31,
   "id": "effa40bc",
   "metadata": {},
   "outputs": [
    {
     "name": "stdout",
     "output_type": "stream",
     "text": [
      "2 1\n"
     ]
    }
   ],
   "source": [
    "a, b = 1, 2\n",
    "a, b = b, a\n",
    "print(a, b)"
   ]
  },
  {
   "cell_type": "markdown",
   "id": "c95760f2",
   "metadata": {},
   "source": [
    "### 1.4 Never compare floats directly"
   ]
  },
  {
   "cell_type": "code",
   "execution_count": 36,
   "id": "75ef44e5",
   "metadata": {},
   "outputs": [
    {
     "name": "stdout",
     "output_type": "stream",
     "text": [
      "False\n",
      "0.29999999999999999\n",
      "True\n",
      "True\n"
     ]
    }
   ],
   "source": [
    "a = 0.1\n",
    "a3 = 0.3\n",
    "print(a * 3 == a3)\n",
    "\n",
    "print(f\"{0.3:1.17f}\")\n",
    "\n",
    "eps = 1E-10\n",
    "print(abs(a * 3 - a3) < eps)\n",
    "\n",
    "print(np.isclose(a * 3, a3))"
   ]
  },
  {
   "cell_type": "markdown",
   "id": "52154822",
   "metadata": {},
   "source": [
    "### 1.5 Operator precedance"
   ]
  },
  {
   "cell_type": "markdown",
   "id": "e125e9e7",
   "metadata": {},
   "source": [
    "1. Highest precedence at the top, lowest at the bottom.\n",
    "2. Operators in the same box evaluate left to right.\n"
   ]
  },
  {
   "cell_type": "markdown",
   "id": "8c534f9d",
   "metadata": {},
   "source": [
    "## 2 Variables in Python"
   ]
  },
  {
   "cell_type": "markdown",
   "id": "d764a4f2",
   "metadata": {},
   "source": [
    "### 2.1 Variables in Python are just names"
   ]
  },
  {
   "cell_type": "code",
   "execution_count": 39,
   "id": "5936abd1",
   "metadata": {},
   "outputs": [
    {
     "name": "stdout",
     "output_type": "stream",
     "text": [
      "x: [1, 2, 3], y: [1, 2, 3]\n",
      "x: 2000316858608, y: 2000316858608, 1: 2000316858608\n",
      "x: 2000316858608, y: 2000316858640\n",
      "1: 2000316858608, 2: 2000316858640\n"
     ]
    }
   ],
   "source": [
    "x = [1, 2]\n",
    "y = x\n",
    "y.append(3)\n",
    "\n",
    "print(f\"x: {x}, y: {y}\")\n",
    "\n",
    "x = 1\n",
    "y = 1\n",
    "\n",
    "print(f\"x: {id(x)}, y: {id(y)}, 1: {id(1)}\")\n",
    "\n",
    "x = 1\n",
    "y = x + 1\n",
    "\n",
    "print(f\"x: {id(x)}, y: {id(y)}\")\n",
    "\n",
    "print(f\"1: {id(1)}, 2: {id(2)}\")\n",
    "\n",
    "# x is bound to a list object with a value [1 ,2]\n",
    "x = [1, 2]\n",
    "\n",
    "# y is bound to the SAME list object with a value [1 ,2]\n",
    "y = x\n",
    "\n",
    "# y is used to change the value of the object from  [1, 2] to [1, 2, 3]\n",
    "y.append(3)\n",
    "\n",
    "y = x.copy()"
   ]
  },
  {
   "cell_type": "markdown",
   "id": "c514b675",
   "metadata": {},
   "source": [
    "### 2.2 == is not the same as is"
   ]
  },
  {
   "cell_type": "markdown",
   "id": "83b0f79a",
   "metadata": {},
   "source": [
    "x is y checks for identity. i. e., it asks if x and y are bound to the same object by comparing the ID.\n",
    "\n",
    "x == y checks for equality by running a function that checks for equality (such as _eq_ of a class). You will understand more of this as we develop the idea of classes in later chapters.\n"
   ]
  }
 ],
 "metadata": {
  "kernelspec": {
   "display_name": "Python 3 (ipykernel)",
   "language": "python",
   "name": "python3"
  },
  "language_info": {
   "codemirror_mode": {
    "name": "ipython",
    "version": 3
   },
   "file_extension": ".py",
   "mimetype": "text/x-python",
   "name": "python",
   "nbconvert_exporter": "python",
   "pygments_lexer": "ipython3",
   "version": "3.10.8"
  },
  "toc": {
   "base_numbering": 1,
   "nav_menu": {},
   "number_sections": true,
   "sideBar": true,
   "skip_h1_title": false,
   "title_cell": "Table of Contents",
   "title_sidebar": "Contents",
   "toc_cell": false,
   "toc_position": {},
   "toc_section_display": true,
   "toc_window_display": false
  },
  "varInspector": {
   "cols": {
    "lenName": 16,
    "lenType": 16,
    "lenVar": 40
   },
   "kernels_config": {
    "python": {
     "delete_cmd_postfix": "",
     "delete_cmd_prefix": "del ",
     "library": "var_list.py",
     "varRefreshCmd": "print(var_dic_list())"
    },
    "r": {
     "delete_cmd_postfix": ") ",
     "delete_cmd_prefix": "rm(",
     "library": "var_list.r",
     "varRefreshCmd": "cat(var_dic_list()) "
    }
   },
   "types_to_exclude": [
    "module",
    "function",
    "builtin_function_or_method",
    "instance",
    "_Feature"
   ],
   "window_display": false
  },
  "vscode": {
   "interpreter": {
    "hash": "31f2aee4e71d21fbe5cf8b01ff0e069b9275f58929596ceb00d14d90e3e16cd6"
   }
  }
 },
 "nbformat": 4,
 "nbformat_minor": 5
}
