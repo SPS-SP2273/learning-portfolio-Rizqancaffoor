{
 "cells": [
  {
   "cell_type": "markdown",
   "id": "123456",
   "metadata": {},
   "source": [
    "<div style=\"text-align:left;font-size:2em\"><span style=\"font-weight:bolder;font-size:1.25em\">SP2273 | Learning Portfolio</span><br><br><span style=\"font-weight:bold;color:darkred\">Files, Folders and OS (Need)</span></div>"
   ]
  },
  {
   "cell_type": "markdown",
   "id": "62746b14",
   "metadata": {},
   "source": [
    "## 1 Important concepts"
   ]
  },
  {
   "cell_type": "markdown",
   "id": "9847cf96",
   "metadata": {},
   "source": [
    "### 1.1 Path"
   ]
  },
  {
   "cell_type": "code",
   "execution_count": null,
   "id": "4a7b58b8",
   "metadata": {},
   "outputs": [],
   "source": [
    "\n",
    "# Your code here\n"
   ]
  },
  {
   "cell_type": "markdown",
   "id": "d1778296",
   "metadata": {},
   "source": [
    "### 1.2 More about relative paths"
   ]
  },
  {
   "cell_type": "code",
   "execution_count": null,
   "id": "a383dcd4",
   "metadata": {},
   "outputs": [],
   "source": [
    "\n",
    "# Your code here\n"
   ]
  },
  {
   "cell_type": "markdown",
   "id": "700242e4",
   "metadata": {},
   "source": [
    "### 1.3 Path separator"
   ]
  },
  {
   "cell_type": "code",
   "execution_count": null,
   "id": "d6e50c66",
   "metadata": {},
   "outputs": [],
   "source": [
    "\n",
    "# Your code here\n"
   ]
  },
  {
   "cell_type": "markdown",
   "id": "d24523e2",
   "metadata": {},
   "source": [
    "### Text files vs Binary files"
   ]
  },
  {
   "cell_type": "code",
   "execution_count": null,
   "id": "04e1b4b0",
   "metadata": {},
   "outputs": [],
   "source": [
    "\n",
    "# Your code here\n"
   ]
  },
  {
   "cell_type": "markdown",
   "id": "4458068f",
   "metadata": {},
   "source": [
    "### Extentions"
   ]
  },
  {
   "cell_type": "code",
   "execution_count": null,
   "id": "4bb5e565",
   "metadata": {},
   "outputs": [],
   "source": [
    "\n",
    "# Your code here\n"
   ]
  },
  {
   "cell_type": "markdown",
   "id": "2e7af2a6",
   "metadata": {},
   "source": [
    "### 1.4 Opening and closing files"
   ]
  },
  {
   "cell_type": "code",
   "execution_count": null,
   "id": "30ff54c6",
   "metadata": {},
   "outputs": [],
   "source": [
    "\n",
    "# Your code here\n"
   ]
  },
  {
   "cell_type": "markdown",
   "id": "301f32a4",
   "metadata": {},
   "source": [
    "## 2 Playing with the OS"
   ]
  },
  {
   "cell_type": "markdown",
   "id": "38fabbc9",
   "metadata": {},
   "source": [
    "### 2.1 Some packages"
   ]
  },
  {
   "cell_type": "code",
   "execution_count": 2,
   "id": "b128466b",
   "metadata": {},
   "outputs": [],
   "source": [
    "import os\n",
    "import glob\n",
    "import shutil"
   ]
  },
  {
   "cell_type": "markdown",
   "id": "34b572b2",
   "metadata": {},
   "source": [
    "### 2.2 OS safe paths"
   ]
  },
  {
   "cell_type": "code",
   "execution_count": 4,
   "id": "61d35db0",
   "metadata": {},
   "outputs": [
    {
     "name": "stdout",
     "output_type": "stream",
     "text": [
      ".\\all-data\\sg-data\\data-01.txt\n"
     ]
    }
   ],
   "source": [
    "path = os.path.join('.', 'all-data', 'sg-data', 'data-01.txt')\n",
    "print(path)"
   ]
  },
  {
   "cell_type": "markdown",
   "id": "b6b08977",
   "metadata": {},
   "source": [
    "### 2.3 Creating folders"
   ]
  },
  {
   "cell_type": "code",
   "execution_count": 5,
   "id": "81c06f07",
   "metadata": {},
   "outputs": [
    {
     "name": "stdout",
     "output_type": "stream",
     "text": [
      "Creating people\\Jonh\n",
      "Creating people\\Paul\n",
      "Creating people\\Ringo\n"
     ]
    }
   ],
   "source": [
    "os.mkdir('people')\n",
    "\n",
    "for person in ['Jonh', 'Paul', 'Ringo']:\n",
    "    path = os.path.join('people', person)\n",
    "    print(f'Creating {path}')\n",
    "    os.mkdir(path)"
   ]
  },
  {
   "cell_type": "markdown",
   "id": "17a8daa4",
   "metadata": {},
   "source": [
    "### 2.4 Checking for existence"
   ]
  },
  {
   "cell_type": "code",
   "execution_count": 6,
   "id": "74c24ca9",
   "metadata": {},
   "outputs": [
    {
     "name": "stdout",
     "output_type": "stream",
     "text": [
      "people\\Jonh already exists; skipping creation.\n",
      "people\\Paul already exists; skipping creation.\n",
      "people\\Ringo already exists; skipping creation.\n"
     ]
    }
   ],
   "source": [
    "for person in ['Jonh', 'Paul', 'Ringo']:\n",
    "    path = os.path.join('people', person)\n",
    "    try:\n",
    "        os.mkdir(path)\n",
    "        print(f'Creating {path}')\n",
    "    except FileExistsError:\n",
    "        print(f'{path} already exists; skipping creation.')"
   ]
  },
  {
   "cell_type": "code",
   "execution_count": 7,
   "id": "2d54c131",
   "metadata": {},
   "outputs": [
    {
     "name": "stdout",
     "output_type": "stream",
     "text": [
      "people\\Jonh already exists; skipping creation.\n",
      "people\\Paul already exists; skipping creation.\n",
      "people\\Ringo already exists; skipping creation.\n"
     ]
    }
   ],
   "source": [
    "for person in ['Jonh', 'Paul', 'Ringo']:\n",
    "    path = os.path.join('people', person)\n",
    "    if os.path.exists(path):\n",
    "        print(f'{path} already exists; skipping creation.')\n",
    "    else:\n",
    "        os.mkdir(path)\n",
    "        print(f'Creating {path}')"
   ]
  },
  {
   "cell_type": "markdown",
   "id": "ba62b3db",
   "metadata": {},
   "source": [
    "### 2.5 Copying files"
   ]
  },
  {
   "cell_type": "code",
   "execution_count": 8,
   "id": "8fa131ab",
   "metadata": {},
   "outputs": [
    {
     "name": "stdout",
     "output_type": "stream",
     "text": [
      "Copied file to people\\Jonh\n",
      "Copied file to people\\Paul\n",
      "Copied file to people\\Ringo\n"
     ]
    }
   ],
   "source": [
    "for person in ['Jonh', 'Paul', 'Ringo']:\n",
    "    path_to_destination = os.path.join('people', person)\n",
    "    shutil.copy('sp2273_logo.png', path_to_destination)\n",
    "    print(f'Copied file to {path_to_destination}')"
   ]
  },
  {
   "cell_type": "code",
   "execution_count": 9,
   "id": "ef5e735a",
   "metadata": {},
   "outputs": [
    {
     "name": "stdout",
     "output_type": "stream",
     "text": [
      "Moved logo to people\\Jonh\\imgs\\sp2273_logo.png\n",
      "Moved logo to people\\Paul\\imgs\\sp2273_logo.png\n",
      "Moved logo to people\\Ringo\\imgs\\sp2273_logo.png\n"
     ]
    }
   ],
   "source": [
    "for person in ['Jonh', 'Paul', 'Ringo']:\n",
    "    # Create folder 'imgs'\n",
    "    path_to_imgs = os.path.join('people', person, 'imgs')\n",
    "    if not os.path.exists(path_to_imgs):\n",
    "        os.mkdir(path_to_imgs)\n",
    "\n",
    "    # Move logo file\n",
    "    current_path_of_logo = os.path.join('people', person, 'sp2273_logo.png')\n",
    "    new_path_of_logo = os.path.join('people', person, 'imgs', 'sp2273_logo.png')\n",
    "\n",
    "    shutil.move(current_path_of_logo, new_path_of_logo)\n",
    "    print(f'Moved logo to {new_path_of_logo}')"
   ]
  },
  {
   "cell_type": "markdown",
   "id": "1c11aaf6",
   "metadata": {},
   "source": [
    "### 2.6 Listing files"
   ]
  },
  {
   "cell_type": "code",
   "execution_count": 18,
   "id": "1310164d",
   "metadata": {},
   "outputs": [
    {
     "data": {
      "text/plain": [
       "['files,_folders_and_os_(need).ipynb', 'people', 'sp2273_logo.png']"
      ]
     },
     "execution_count": 18,
     "metadata": {},
     "output_type": "execute_result"
    }
   ],
   "source": [
    "glob.glob('*')"
   ]
  },
  {
   "cell_type": "code",
   "execution_count": 19,
   "id": "b2db5b2d",
   "metadata": {},
   "outputs": [
    {
     "data": {
      "text/plain": [
       "['people']"
      ]
     },
     "execution_count": 19,
     "metadata": {},
     "output_type": "execute_result"
    }
   ],
   "source": [
    "glob.glob('peo*')"
   ]
  },
  {
   "cell_type": "code",
   "execution_count": 20,
   "id": "5c499500",
   "metadata": {},
   "outputs": [
    {
     "data": {
      "text/plain": [
       "['people\\\\Jonh', 'people\\\\Paul', 'people\\\\Ringo']"
      ]
     },
     "execution_count": 20,
     "metadata": {},
     "output_type": "execute_result"
    }
   ],
   "source": [
    "glob.glob('peo*/*')"
   ]
  },
  {
   "cell_type": "code",
   "execution_count": 21,
   "id": "dbaa4f15",
   "metadata": {},
   "outputs": [
    {
     "data": {
      "text/plain": [
       "['people\\\\',\n",
       " 'people\\\\Jonh',\n",
       " 'people\\\\Jonh\\\\imgs',\n",
       " 'people\\\\Jonh\\\\imgs\\\\sp2273_logo.png',\n",
       " 'people\\\\Paul',\n",
       " 'people\\\\Paul\\\\imgs',\n",
       " 'people\\\\Paul\\\\imgs\\\\sp2273_logo.png',\n",
       " 'people\\\\Ringo',\n",
       " 'people\\\\Ringo\\\\imgs',\n",
       " 'people\\\\Ringo\\\\imgs\\\\sp2273_logo.png']"
      ]
     },
     "execution_count": 21,
     "metadata": {},
     "output_type": "execute_result"
    }
   ],
   "source": [
    "glob.glob('people/**', recursive=True)"
   ]
  },
  {
   "cell_type": "markdown",
   "id": "f08a24e3",
   "metadata": {},
   "source": [
    "### 2.7 Moving about"
   ]
  },
  {
   "cell_type": "code",
   "execution_count": 22,
   "id": "47c1ff09",
   "metadata": {},
   "outputs": [
    {
     "data": {
      "text/plain": [
       "'C:\\\\Users\\\\Rizqan\\\\Documents\\\\NUS\\\\SP2273\\\\learning-portfolio-Rizqancaffoor\\\\files, folders and os'"
      ]
     },
     "execution_count": 22,
     "metadata": {},
     "output_type": "execute_result"
    }
   ],
   "source": [
    "os.getcwd()"
   ]
  },
  {
   "cell_type": "code",
   "execution_count": 23,
   "id": "167f0e1c",
   "metadata": {},
   "outputs": [],
   "source": [
    "os.chdir('people/Ringo')"
   ]
  },
  {
   "cell_type": "markdown",
   "id": "dfa8eb8e",
   "metadata": {},
   "source": [
    "### 2.8 Extracting Info"
   ]
  },
  {
   "cell_type": "code",
   "execution_count": 24,
   "id": "642a71be",
   "metadata": {},
   "outputs": [
    {
     "name": "stdout",
     "output_type": "stream",
     "text": [
      "people/Ringo/imgs/sp2273_logo.png png\n"
     ]
    }
   ],
   "source": [
    "path = 'people/Ringo/imgs/sp2273_logo.png'\n",
    "filename = path.split(os.path.sep)[-1]\n",
    "extension = filename.split('.')[-1]\n",
    "print(filename, extension)"
   ]
  },
  {
   "cell_type": "code",
   "execution_count": 26,
   "id": "5e67da98",
   "metadata": {},
   "outputs": [
    {
     "data": {
      "text/plain": [
       "('people/Ringo/imgs', 'sp2273_logo.png')"
      ]
     },
     "execution_count": 26,
     "metadata": {},
     "output_type": "execute_result"
    }
   ],
   "source": [
    "path = 'people/Ringo/imgs/sp2273_logo.png'\n",
    "os.path.split(path)      # Split filename from the rest"
   ]
  },
  {
   "cell_type": "code",
   "execution_count": 27,
   "id": "bd2990a2",
   "metadata": {},
   "outputs": [
    {
     "data": {
      "text/plain": [
       "('people/Ringo/imgs/sp2273_logo', '.png')"
      ]
     },
     "execution_count": 27,
     "metadata": {},
     "output_type": "execute_result"
    }
   ],
   "source": [
    "os.path.splitext(path)   # Split extension"
   ]
  },
  {
   "cell_type": "code",
   "execution_count": 28,
   "id": "26d7ee25",
   "metadata": {},
   "outputs": [
    {
     "data": {
      "text/plain": [
       "'people/Ringo/imgs'"
      ]
     },
     "execution_count": 28,
     "metadata": {},
     "output_type": "execute_result"
    }
   ],
   "source": [
    "os.path.dirname(path)    # Show the directory"
   ]
  },
  {
   "cell_type": "markdown",
   "id": "38039332",
   "metadata": {},
   "source": [
    "### 2.9 Deleting stuff"
   ]
  },
  {
   "cell_type": "code",
   "execution_count": null,
   "id": "4a130cde",
   "metadata": {},
   "outputs": [],
   "source": [
    "\n",
    "# Your code here\n"
   ]
  },
  {
   "cell_type": "markdown",
   "id": "1352480a",
   "metadata": {},
   "source": [
    "## Exercise 7 :  The OS is my oyster"
   ]
  },
  {
   "cell_type": "code",
   "execution_count": 30,
   "id": "c48655ae",
   "metadata": {},
   "outputs": [
    {
     "data": {
      "text/plain": [
       "'C:\\\\Users\\\\Rizqan\\\\Documents\\\\NUS\\\\SP2273\\\\learning-portfolio-Rizqancaffoor\\\\files, folders and os\\\\people\\\\Ringo'"
      ]
     },
     "execution_count": 30,
     "metadata": {},
     "output_type": "execute_result"
    }
   ],
   "source": [
    "os.getcwd()"
   ]
  },
  {
   "cell_type": "code",
   "execution_count": 33,
   "id": "764e46ab",
   "metadata": {},
   "outputs": [
    {
     "data": {
      "text/plain": [
       "'C:\\\\Users\\\\Rizqan\\\\Documents\\\\NUS\\\\SP2273\\\\learning-portfolio-Rizqancaffoor\\\\files, folders and os\\\\people\\\\Ringo\\\\python_today\\\\python_today'"
      ]
     },
     "execution_count": 33,
     "metadata": {},
     "output_type": "execute_result"
    }
   ],
   "source": [
    "os.mkdir('python_today')\n",
    "os.chdir('python_today')\n",
    "os.getcwd()"
   ]
  },
  {
   "cell_type": "code",
   "execution_count": 60,
   "id": "b29721c4",
   "metadata": {},
   "outputs": [],
   "source": [
    "for i in range(1, 51):\n",
    "    os.mkdir(f\"new_directory_{i:>02}\")"
   ]
  },
  {
   "cell_type": "code",
   "execution_count": 61,
   "id": "f4e4cd0f",
   "metadata": {},
   "outputs": [],
   "source": [
    "for i in range(1, 51, 2):\n",
    "    os.rmdir(f\"new_directory_{i:>02}\")"
   ]
  },
  {
   "cell_type": "code",
   "execution_count": 62,
   "id": "8516a3ca",
   "metadata": {},
   "outputs": [
    {
     "data": {
      "text/plain": [
       "['new_directory_02',\n",
       " 'new_directory_04',\n",
       " 'new_directory_06',\n",
       " 'new_directory_08',\n",
       " 'new_directory_10',\n",
       " 'new_directory_12',\n",
       " 'new_directory_14',\n",
       " 'new_directory_16',\n",
       " 'new_directory_18',\n",
       " 'new_directory_20',\n",
       " 'new_directory_22',\n",
       " 'new_directory_24',\n",
       " 'new_directory_26',\n",
       " 'new_directory_28',\n",
       " 'new_directory_30',\n",
       " 'new_directory_32',\n",
       " 'new_directory_34',\n",
       " 'new_directory_36',\n",
       " 'new_directory_38',\n",
       " 'new_directory_40',\n",
       " 'new_directory_42',\n",
       " 'new_directory_44',\n",
       " 'new_directory_46',\n",
       " 'new_directory_48',\n",
       " 'new_directory_50']"
      ]
     },
     "execution_count": 62,
     "metadata": {},
     "output_type": "execute_result"
    }
   ],
   "source": [
    "os.listdir()"
   ]
  },
  {
   "cell_type": "code",
   "execution_count": 63,
   "id": "78d4fe3b",
   "metadata": {},
   "outputs": [
    {
     "name": "stdout",
     "output_type": "stream",
     "text": [
      "Creating new_directory_10\n",
      "Creating new_directory_20\n",
      "Creating new_directory_30\n",
      "Creating new_directory_40\n",
      "Creating new_directory_50\n"
     ]
    }
   ],
   "source": [
    "for i in range(10, 51, 10):\n",
    "    path = os.path.join(f\"new_directory_{i:>02}\")\n",
    "    try:\n",
    "        print(f'Creating {path}')\n",
    "    except FileExistsError:\n",
    "        print(f'{path} already exists; skipping creation.')\n",
    "for i in range(10, 51, 10):\n",
    "    os.rename(f\"new_directory_{i:>02}\", f\"haha_{i:>02}\")"
   ]
  },
  {
   "cell_type": "code",
   "execution_count": 64,
   "id": "516d1e1f",
   "metadata": {},
   "outputs": [
    {
     "data": {
      "text/plain": [
       "['haha_10',\n",
       " 'haha_20',\n",
       " 'haha_30',\n",
       " 'haha_40',\n",
       " 'haha_50',\n",
       " 'new_directory_02',\n",
       " 'new_directory_04',\n",
       " 'new_directory_06',\n",
       " 'new_directory_08',\n",
       " 'new_directory_12',\n",
       " 'new_directory_14',\n",
       " 'new_directory_16',\n",
       " 'new_directory_18',\n",
       " 'new_directory_22',\n",
       " 'new_directory_24',\n",
       " 'new_directory_26',\n",
       " 'new_directory_28',\n",
       " 'new_directory_32',\n",
       " 'new_directory_34',\n",
       " 'new_directory_36',\n",
       " 'new_directory_38',\n",
       " 'new_directory_42',\n",
       " 'new_directory_44',\n",
       " 'new_directory_46',\n",
       " 'new_directory_48']"
      ]
     },
     "execution_count": 64,
     "metadata": {},
     "output_type": "execute_result"
    }
   ],
   "source": [
    "os.listdir()"
   ]
  },
  {
   "cell_type": "code",
   "execution_count": 17,
   "id": "5c026d9c",
   "metadata": {},
   "outputs": [
    {
     "name": "stdout",
     "output_type": "stream",
     "text": [
      "Copied file to haha_10\n",
      "Copied file to haha_20\n",
      "Copied file to haha_30\n",
      "Copied file to haha_40\n",
      "Copied file to haha_50\n"
     ]
    }
   ],
   "source": [
    "myglob = glob.glob('haha_**')\n",
    "for i in myglob:\n",
    "    path_to_destination = os.path.join(i)\n",
    "    shutil.copy('sp2273_logo.png', path_to_destination)\n",
    "    print(f'Copied file to {path_to_destination}')"
   ]
  },
  {
   "cell_type": "markdown",
   "id": "bddcba13",
   "metadata": {},
   "source": [
    "## Exercise 8 :  Tidying a collaboration"
   ]
  },
  {
   "cell_type": "code",
   "execution_count": 29,
   "id": "f078788e",
   "metadata": {},
   "outputs": [
    {
     "data": {
      "text/plain": [
       "'C:\\\\Users\\\\Rizqan\\\\Documents\\\\NUS\\\\SP2273\\\\learning-portfolio-Rizqancaffoor\\\\files, folders and os\\\\os-collaboration-exercise-data'"
      ]
     },
     "execution_count": 29,
     "metadata": {},
     "output_type": "execute_result"
    }
   ],
   "source": [
    "os.chdir('C:\\\\Users\\\\Rizqan\\\\Documents\\\\NUS\\\\SP2273\\\\learning-portfolio-Rizqancaffoor\\\\files, folders and os\\\\os-collaboration-exercise-data')\n",
    "os.getcwd()"
   ]
  },
  {
   "cell_type": "code",
   "execution_count": 30,
   "id": "60feaed1",
   "metadata": {},
   "outputs": [
    {
     "name": "stdout",
     "output_type": "stream",
     "text": [
      "['01-01_manila.txt', '01-01_osaka.txt', '01-02_cairo.txt', '01-02_karachi.txt', '01-02_manila.txt', '01-03_cairo.txt', '01-03_jakarta.txt', '01-03_karachi.txt', '01-03_shanghai.txt', '01-04_cairo.txt', '01-04_jakarta.txt', '01-04_karachi.txt', '01-04_manila.txt', '01-05_cairo.txt', '01-05_melbourne.txt', '01-05_osaka.txt', '01-06_jakarta.txt', '01-06_karachi.txt', '01-06_melbourne.txt', '01-07_cairo.txt', '01-08_cairo.txt', '01-08_manila.txt', '01-08_osaka.txt', '01-08_tokyo.txt', '01-09_cairo.txt', '01-09_karachi.txt', '01-09_manila.txt', '01-09_melbourne.txt', '01-10_jakarta.txt', '01-10_karachi.txt', '01-10_shanghai.txt', '01-11_cairo.txt', '01-11_manila.txt', '01-11_melbourne.txt', '01-12_cairo.txt', '01-12_jakarta.txt', '01-12_karachi.txt', '01-12_melbourne.txt', '01-12_osaka.txt', '01-12_tokyo.txt', '01-13_cairo.txt', '01-13_jakarta.txt', '01-13_melbourne.txt', '01-14_karachi.txt', '01-14_manila.txt', '01-15_cairo.txt', '01-15_dhaka.txt', '01-15_manila.txt', '01-15_osaka.txt', '01-15_singapore.txt', '01-16_cairo.txt', '01-16_jakarta.txt', '01-16_melbourne.txt', '01-16_tokyo.txt', '01-17_karachi.txt', '01-18_karachi.txt', '01-18_manila.txt', '01-18_melbourne.txt', '01-18_osaka.txt', '01-19_cairo.txt', '01-19_jakarta.txt', '01-19_karachi.txt', '01-19_manila.txt', '01-19_melbourne.txt', '01-19_osaka.txt', '01-19_tokyo.txt', '01-20_cairo.txt', '01-20_karachi.txt', '01-20_osaka.txt', '01-20_tokyo.txt', '01-21_cairo.txt', '01-21_karachi.txt', '01-21_melbourne.txt', '01-22_karachi.txt', '01-22_melbourne.txt', '01-22_osaka.txt', '01-22_shanghai.txt', '01-22_tokyo.txt', '01-23_cairo.txt', '01-23_jakarta.txt', '01-23_manila.txt', '01-24_jakarta.txt', '01-24_karachi.txt', '01-24_manila.txt', '01-24_melbourne.txt', '01-24_tokyo.txt', '01-25_karachi.txt', '01-25_manila.txt', '01-25_melbourne.txt', '01-25_osaka.txt', '01-26_jakarta.txt', '01-26_karachi.txt', '01-26_manila.txt', '01-26_shanghai.txt', '01-27_cairo.txt', '01-27_melbourne.txt', '01-27_osaka.txt', '01-28_karachi.txt', '01-29_melbourne.txt', '01-29_shanghai.txt', '01-30_cairo.txt', '01-30_jakarta.txt', '01-30_karachi.txt', '01-30_manila.txt', '02-01_dhaka.txt', '02-01_manila.txt', '02-01_osaka.txt', '02-01_shanghai.txt', '02-01_singapore.txt', '02-02_jakarta.txt', '02-02_osaka.txt', '02-02_singapore.txt', '02-03_manila.txt', '02-03_osaka.txt', '02-03_singapore.txt', '02-03_tokyo.txt', '02-04_dhaka.txt', '02-04_jakarta.txt', '02-04_manila.txt', '02-04_osaka.txt', '02-04_singapore.txt', '02-04_tokyo.txt', '02-05_manila.txt', '02-05_shanghai.txt', '02-05_singapore.txt', '02-05_tokyo.txt', '02-06_jakarta.txt', '02-06_karachi.txt', '02-06_manila.txt', '02-06_osaka.txt', '02-06_tokyo.txt', '02-07_manila.txt', '02-07_osaka.txt', '02-07_tokyo.txt', '02-08_dhaka.txt', '02-08_karachi.txt', '02-08_manila.txt', '02-08_singapore.txt', '02-09_jakarta.txt', '02-09_manila.txt', '02-09_osaka.txt', '02-09_tokyo.txt', '02-10_cairo.txt', '02-10_jakarta.txt', '02-10_manila.txt', '02-10_osaka.txt', '02-11_osaka.txt', '02-11_shanghai.txt', '02-12_dhaka.txt', '02-12_manila.txt', '02-12_shanghai.txt', '02-12_singapore.txt', '02-12_tokyo.txt', '02-13_manila.txt', '02-13_melbourne.txt', '02-13_shanghai.txt', '02-13_singapore.txt', '02-13_tokyo.txt', '02-14_dhaka.txt', '02-14_jakarta.txt', '02-14_osaka.txt', '02-14_singapore.txt', '02-14_tokyo.txt', '02-15_jakarta.txt', '02-15_manila.txt', '02-15_shanghai.txt', '02-15_singapore.txt', '02-16_melbourne.txt', '02-16_osaka.txt', '02-16_shanghai.txt', '02-16_tokyo.txt', '02-17_cairo.txt', '02-17_karachi.txt', '02-17_shanghai.txt', '02-17_singapore.txt', '02-18_manila.txt', '02-18_shanghai.txt', '02-19_osaka.txt', '02-19_singapore.txt', '02-19_tokyo.txt', '02-20_cairo.txt', '02-20_dhaka.txt', '02-20_jakarta.txt', '02-20_osaka.txt', '02-20_singapore.txt', '02-20_tokyo.txt', '02-21_jakarta.txt', '02-21_manila.txt', '02-21_osaka.txt', '02-21_tokyo.txt', '02-22_cairo.txt', '02-22_dhaka.txt', '02-22_manila.txt', '02-22_tokyo.txt', '02-23_manila.txt', '02-23_shanghai.txt', '02-23_singapore.txt', '02-24_manila.txt', '02-24_osaka.txt', '02-24_singapore.txt', '02-24_tokyo.txt', '02-25_cairo.txt', '02-26_cairo.txt', '02-26_jakarta.txt', '02-26_manila.txt', '02-26_osaka.txt', '02-27_jakarta.txt', '02-27_manila.txt', '02-27_osaka.txt', '02-27_singapore.txt', '02-27_tokyo.txt', '03-02_manila.txt', '03-04_jakarta.txt', '03-04_osaka.txt', '03-04_tokyo.txt', '03-05_cairo.txt', '03-05_singapore.txt', '03-05_tokyo.txt', '03-06_cairo.txt', '03-06_karachi.txt', '03-07_melbourne.txt', '03-08_manila.txt', '03-08_osaka.txt', '03-09_jakarta.txt', '03-09_manila.txt', '03-09_tokyo.txt', '03-10_manila.txt', '03-10_osaka.txt', '03-11_jakarta.txt', '03-11_osaka.txt', '03-12_cairo.txt', '03-12_manila.txt', '03-12_osaka.txt', '03-13_manila.txt', '03-14_cairo.txt', '03-14_shanghai.txt', '03-14_tokyo.txt', '03-15_jakarta.txt', '03-15_tokyo.txt', '03-16_dhaka.txt', '03-16_manila.txt', '03-16_shanghai.txt', '03-16_tokyo.txt', '03-17_jakarta.txt', '03-17_manila.txt', '03-18_jakarta.txt', '03-18_manila.txt', '03-18_tokyo.txt', '03-19_cairo.txt', '03-19_osaka.txt', '03-20_jakarta.txt', '03-20_manila.txt', '03-22_manila.txt', '03-22_osaka.txt', '03-23_jakarta.txt', '03-24_cairo.txt', '03-24_manila.txt', '03-25_jakarta.txt', '03-25_manila.txt', '03-26_manila.txt', '03-26_tokyo.txt', '03-27_osaka.txt', '03-27_tokyo.txt', '03-29_manila.txt', '03-30_jakarta.txt', '03-30_osaka.txt', '04-01_melbourne.txt', '04-01_shanghai.txt', '04-01_singapore.txt', '04-02_cairo.txt', '04-02_jakarta.txt', '04-02_karachi.txt', '04-02_shanghai.txt', '04-03_manila.txt', '04-03_osaka.txt', '04-03_singapore.txt', '04-03_tokyo.txt', '04-04_manila.txt', '04-04_melbourne.txt', '04-04_shanghai.txt', '04-04_singapore.txt', '04-05_karachi.txt', '04-05_melbourne.txt', '04-05_shanghai.txt', '04-05_singapore.txt', '04-06_cairo.txt', '04-06_jakarta.txt', '04-06_karachi.txt', '04-06_manila.txt', '04-07_cairo.txt', '04-07_manila.txt', '04-07_melbourne.txt', '04-07_osaka.txt', '04-07_singapore.txt', '04-07_tokyo.txt', '04-08_shanghai.txt', '04-10_cairo.txt', '04-10_manila.txt', '04-10_melbourne.txt', '04-10_shanghai.txt', '04-10_singapore.txt', '04-10_tokyo.txt', '04-11_melbourne.txt', '04-11_shanghai.txt', '04-11_tokyo.txt', '04-12_cairo.txt', '04-12_karachi.txt', '04-12_melbourne.txt', '04-12_osaka.txt', '04-12_shanghai.txt', '04-12_singapore.txt', '04-12_tokyo.txt', '04-13_cairo.txt', '04-13_jakarta.txt', '04-13_manila.txt', '04-13_melbourne.txt', '04-13_shanghai.txt', '04-13_singapore.txt', '04-14_cairo.txt', '04-14_manila.txt', '04-14_melbourne.txt', '04-14_osaka.txt', '04-14_singapore.txt', '04-15_cairo.txt', '04-15_jakarta.txt', '04-15_melbourne.txt', '04-15_singapore.txt', '04-15_tokyo.txt', '04-16_jakarta.txt', '04-16_karachi.txt', '04-16_melbourne.txt', '04-16_osaka.txt', '04-16_shanghai.txt', '04-17_cairo.txt', '04-17_manila.txt', '04-17_shanghai.txt', '04-17_tokyo.txt', '04-18_osaka.txt', '04-18_shanghai.txt', '04-18_tokyo.txt', '04-19_dhaka.txt', '04-19_melbourne.txt', '04-19_shanghai.txt', '04-19_singapore.txt', '04-20_cairo.txt', '04-20_dhaka.txt', '04-20_jakarta.txt', '04-20_karachi.txt', '04-20_tokyo.txt', '04-21_cairo.txt', '04-21_jakarta.txt', '04-21_manila.txt', '04-21_melbourne.txt', '04-21_osaka.txt', '04-21_shanghai.txt', '04-21_singapore.txt', '04-21_tokyo.txt', '04-22_cairo.txt', '04-22_manila.txt', '04-22_singapore.txt', '04-23_cairo.txt', '04-23_dhaka.txt', '04-23_jakarta.txt', '04-23_osaka.txt', '04-23_shanghai.txt', '04-23_singapore.txt', '04-23_tokyo.txt', '04-24_cairo.txt', '04-24_jakarta.txt', '04-24_manila.txt', '04-24_melbourne.txt', '04-24_tokyo.txt', '04-25_manila.txt', '04-25_osaka.txt', '04-25_singapore.txt', '04-26_jakarta.txt', '04-26_karachi.txt', '04-26_singapore.txt', '04-27_karachi.txt', '04-27_melbourne.txt', '04-27_shanghai.txt', '04-27_tokyo.txt', '04-28_jakarta.txt', '04-28_manila.txt', '04-28_tokyo.txt', '04-29_manila.txt', '04-29_melbourne.txt', '04-29_shanghai.txt', '04-29_tokyo.txt', '05-01_cairo.txt', '05-01_dhaka.txt', '05-01_jakarta.txt', '05-01_shanghai.txt', '05-01_singapore.txt', '05-01_tokyo.txt', '05-02_cairo.txt', '05-02_dhaka.txt', '05-02_jakarta.txt', '05-02_melbourne.txt', '05-02_osaka.txt', '05-02_tokyo.txt', '05-03_jakarta.txt', '05-03_karachi.txt', '05-03_melbourne.txt', '05-03_shanghai.txt', '05-03_tokyo.txt', '05-04_dhaka.txt', '05-04_manila.txt', '05-04_melbourne.txt', '05-04_singapore.txt', '05-05_dhaka.txt', '05-05_jakarta.txt', '05-05_karachi.txt', '05-05_manila.txt', '05-05_melbourne.txt', '05-05_tokyo.txt', '05-06_karachi.txt', '05-06_shanghai.txt', '05-06_singapore.txt', '05-07_jakarta.txt', '05-08_jakarta.txt', '05-08_melbourne.txt', '05-08_singapore.txt', '05-08_tokyo.txt', '05-09_manila.txt', '05-09_melbourne.txt', '05-09_singapore.txt', '05-10_dhaka.txt', '05-10_karachi.txt', '05-10_manila.txt', '05-11_dhaka.txt', '05-11_manila.txt', '05-11_melbourne.txt', '05-12_cairo.txt', '05-12_singapore.txt', '05-13_jakarta.txt', '05-13_melbourne.txt', '05-13_singapore.txt', '05-14_dhaka.txt', '05-14_shanghai.txt', '05-15_dhaka.txt', '05-15_jakarta.txt', '05-15_tokyo.txt', '05-16_jakarta.txt', '05-16_melbourne.txt', '05-16_singapore.txt', '05-16_tokyo.txt', '05-17_cairo.txt', '05-17_dhaka.txt', '05-17_jakarta.txt', '05-17_karachi.txt', '05-17_tokyo.txt', '05-18_karachi.txt', '05-18_shanghai.txt', '05-19_melbourne.txt', '05-20_karachi.txt', '05-21_dhaka.txt', '05-21_melbourne.txt', '05-22_jakarta.txt', '05-22_melbourne.txt', '05-23_karachi.txt', '05-23_melbourne.txt', '05-23_singapore.txt', '05-23_tokyo.txt', '05-24_dhaka.txt', '05-24_manila.txt', '05-24_melbourne.txt', '05-25_cairo.txt', '05-25_jakarta.txt', '05-26_dhaka.txt', '05-26_karachi.txt', '05-26_manila.txt', '05-26_melbourne.txt', '05-26_shanghai.txt', '05-27_cairo.txt', '05-27_dhaka.txt', '05-27_karachi.txt', '05-27_manila.txt', '05-27_melbourne.txt', '05-28_dhaka.txt', '05-28_jakarta.txt', '05-28_karachi.txt', '05-28_shanghai.txt', '05-28_singapore.txt', '05-28_tokyo.txt', '05-29_cairo.txt', '05-29_dhaka.txt', '05-29_jakarta.txt', '05-29_karachi.txt', '05-30_cairo.txt', '05-30_dhaka.txt', '05-30_karachi.txt', '05-30_manila.txt', '05-30_melbourne.txt', '05-30_singapore.txt', '05-30_tokyo.txt', '06-01_singapore.txt', '06-02_dhaka.txt', '06-02_singapore.txt', '06-03_jakarta.txt', '06-03_manila.txt', '06-03_osaka.txt', '06-03_shanghai.txt', '06-04_dhaka.txt', '06-04_jakarta.txt', '06-04_osaka.txt', '06-05_dhaka.txt', '06-05_manila.txt', '06-05_osaka.txt', '06-05_singapore.txt', '06-05_tokyo.txt', '06-06_melbourne.txt', '06-06_osaka.txt', '06-06_shanghai.txt', '06-06_singapore.txt', '06-07_dhaka.txt', '06-07_shanghai.txt', '06-07_singapore.txt', '06-07_tokyo.txt', '06-08_jakarta.txt', '06-08_melbourne.txt', '06-08_shanghai.txt', '06-08_singapore.txt', '06-08_tokyo.txt', '06-09_dhaka.txt', '06-09_karachi.txt', '06-09_singapore.txt', '06-10_jakarta.txt', '06-10_manila.txt', '06-10_shanghai.txt', '06-11_dhaka.txt', '06-11_karachi.txt', '06-11_osaka.txt', '06-11_shanghai.txt', '06-11_singapore.txt', '06-11_tokyo.txt', '06-12_dhaka.txt', '06-12_karachi.txt', '06-12_manila.txt', '06-12_osaka.txt', '06-12_shanghai.txt', '06-12_tokyo.txt', '06-13_manila.txt', '06-13_shanghai.txt', '06-14_tokyo.txt', '06-15_jakarta.txt', '06-15_manila.txt', '06-15_melbourne.txt', '06-15_osaka.txt', '06-15_singapore.txt', '06-16_karachi.txt', '06-16_manila.txt', '06-16_melbourne.txt', '06-16_osaka.txt', '06-16_singapore.txt', '06-17_dhaka.txt', '06-17_manila.txt', '06-17_tokyo.txt', '06-18_dhaka.txt', '06-18_karachi.txt', '06-18_manila.txt', '06-18_tokyo.txt', '06-19_dhaka.txt', '06-19_osaka.txt', '06-20_dhaka.txt', '06-20_manila.txt', '06-20_tokyo.txt', '06-21_dhaka.txt', '06-21_jakarta.txt', '06-22_dhaka.txt', '06-22_jakarta.txt', '06-22_karachi.txt', '06-22_manila.txt', '06-22_tokyo.txt', '06-23_dhaka.txt', '06-23_osaka.txt', '06-23_singapore.txt', '06-23_tokyo.txt', '06-24_dhaka.txt', '06-24_manila.txt', '06-24_osaka.txt', '06-25_dhaka.txt', '06-25_jakarta.txt', '06-25_manila.txt', '06-25_tokyo.txt', '06-26_dhaka.txt', '06-26_manila.txt', '06-27_dhaka.txt', '06-27_manila.txt', '06-28_cairo.txt', '06-28_dhaka.txt', '06-28_jakarta.txt', '06-28_melbourne.txt', '06-28_osaka.txt', '06-28_tokyo.txt', '06-29_karachi.txt', '06-29_osaka.txt', '06-29_tokyo.txt', '07-01_dhaka.txt', '07-01_karachi.txt', '07-01_manila.txt', '07-01_melbourne.txt', '07-02_dhaka.txt', '07-02_melbourne.txt', '07-02_shanghai.txt', '07-02_singapore.txt', '07-02_tokyo.txt', '07-03_manila.txt', '07-03_melbourne.txt', '07-03_shanghai.txt', '07-03_singapore.txt', '07-04_cairo.txt', '07-04_jakarta.txt', '07-04_karachi.txt', '07-04_singapore.txt', '07-04_tokyo.txt', '07-05_dhaka.txt', '07-05_shanghai.txt', '07-05_singapore.txt', '07-05_tokyo.txt', '07-06_dhaka.txt', '07-06_manila.txt', '07-06_melbourne.txt', '07-06_osaka.txt', '07-06_shanghai.txt', '07-06_singapore.txt', '07-06_tokyo.txt', '07-07_manila.txt', '07-07_melbourne.txt', '07-07_osaka.txt', '07-07_singapore.txt', '07-08_cairo.txt', '07-08_dhaka.txt', '07-08_karachi.txt', '07-08_manila.txt', '07-08_shanghai.txt', '07-08_singapore.txt', '07-09_dhaka.txt', '07-09_jakarta.txt', '07-09_karachi.txt', '07-09_melbourne.txt', '07-09_shanghai.txt', '07-09_singapore.txt', '07-10_cairo.txt', '07-10_dhaka.txt', '07-10_shanghai.txt', '07-10_tokyo.txt', '07-11_dhaka.txt', '07-11_shanghai.txt', '07-11_tokyo.txt', '07-12_dhaka.txt', '07-12_jakarta.txt', '07-12_karachi.txt', '07-12_shanghai.txt', '07-12_tokyo.txt', '07-13_cairo.txt', '07-13_dhaka.txt', '07-13_osaka.txt', '07-13_tokyo.txt', '07-14_cairo.txt', '07-14_jakarta.txt', '07-14_karachi.txt', '07-14_singapore.txt', '07-15_cairo.txt', '07-15_dhaka.txt', '07-15_manila.txt', '07-15_osaka.txt', '07-15_shanghai.txt', '07-15_tokyo.txt', '07-16_cairo.txt', '07-16_dhaka.txt', '07-16_jakarta.txt', '07-16_karachi.txt', '07-16_manila.txt', '07-16_melbourne.txt', '07-16_osaka.txt', '07-16_singapore.txt', '07-17_cairo.txt', '07-17_melbourne.txt', '07-17_shanghai.txt', '07-17_singapore.txt', '07-18_dhaka.txt', '07-18_jakarta.txt', '07-18_singapore.txt', '07-19_cairo.txt', '07-19_manila.txt', '07-19_osaka.txt', '07-19_shanghai.txt', '07-19_tokyo.txt', '07-20_manila.txt', '07-20_melbourne.txt', '07-20_tokyo.txt', '07-21_jakarta.txt', '07-21_karachi.txt', '07-21_manila.txt', '07-21_melbourne.txt', '07-21_osaka.txt', '07-22_manila.txt', '07-22_melbourne.txt', '07-22_shanghai.txt', '07-22_singapore.txt', '07-23_dhaka.txt', '07-23_jakarta.txt', '07-23_karachi.txt', '07-23_melbourne.txt', '07-23_shanghai.txt', '07-23_singapore.txt', '07-24_cairo.txt', '07-24_dhaka.txt', '07-24_jakarta.txt', '07-24_karachi.txt', '07-24_shanghai.txt', '07-25_karachi.txt', '07-25_manila.txt', '07-25_melbourne.txt', '07-25_singapore.txt', '07-26_cairo.txt', '07-26_melbourne.txt', '07-26_shanghai.txt', '07-26_singapore.txt', '07-26_tokyo.txt', '07-27_cairo.txt', '07-27_jakarta.txt', '07-27_manila.txt', '07-27_melbourne.txt', '07-27_osaka.txt', '07-27_singapore.txt', '07-27_tokyo.txt', '07-28_dhaka.txt', '07-28_jakarta.txt', '07-28_manila.txt', '07-28_singapore.txt', '07-28_tokyo.txt', '07-29_cairo.txt', '07-29_singapore.txt', '07-29_tokyo.txt', '07-30_cairo.txt', '07-30_dhaka.txt', '07-30_jakarta.txt', '07-30_melbourne.txt', '08-01_cairo.txt', '08-01_shanghai.txt', '08-02_dhaka.txt', '08-02_jakarta.txt', '08-02_karachi.txt', '08-02_osaka.txt', '08-02_shanghai.txt', '08-03_cairo.txt', '08-03_dhaka.txt', '08-03_manila.txt', '08-03_melbourne.txt', '08-03_osaka.txt', '08-04_cairo.txt', '08-04_karachi.txt', '08-04_melbourne.txt', '08-04_shanghai.txt', '08-05_cairo.txt', '08-05_dhaka.txt', '08-05_jakarta.txt', '08-05_manila.txt', '08-05_shanghai.txt', '08-05_tokyo.txt', '08-06_dhaka.txt', '08-06_melbourne.txt', '08-06_osaka.txt', '08-06_singapore.txt', '08-07_cairo.txt', '08-07_jakarta.txt', '08-08_cairo.txt', '08-08_dhaka.txt', '08-08_melbourne.txt', '08-08_osaka.txt', '08-08_singapore.txt', '08-09_dhaka.txt', '08-09_jakarta.txt', '08-09_singapore.txt', '08-10_cairo.txt', '08-10_dhaka.txt', '08-10_melbourne.txt', '08-10_osaka.txt', '08-11_dhaka.txt', '08-11_jakarta.txt', '08-11_karachi.txt', '08-11_manila.txt', '08-11_melbourne.txt', '08-12_cairo.txt', '08-12_jakarta.txt', '08-12_karachi.txt', '08-12_manila.txt', '08-12_osaka.txt', '08-12_shanghai.txt', '08-12_tokyo.txt', '08-13_jakarta.txt', '08-13_manila.txt', '08-13_melbourne.txt', '08-13_osaka.txt', '08-13_shanghai.txt', '08-14_cairo.txt', '08-14_dhaka.txt', '08-14_karachi.txt', '08-14_shanghai.txt', '08-14_tokyo.txt', '08-15_manila.txt', '08-15_melbourne.txt', '08-15_osaka.txt', '08-15_shanghai.txt', '08-16_manila.txt', '08-16_shanghai.txt', '08-17_jakarta.txt', '08-17_karachi.txt', '08-17_manila.txt', '08-17_osaka.txt', '08-17_shanghai.txt', '08-18_cairo.txt', '08-18_dhaka.txt', '08-18_shanghai.txt', '08-19_cairo.txt', '08-19_dhaka.txt', '08-19_karachi.txt', '08-19_manila.txt', '08-19_melbourne.txt', '08-19_osaka.txt', '08-19_shanghai.txt', '08-20_cairo.txt', '08-20_dhaka.txt', '08-20_jakarta.txt', '08-20_karachi.txt', '08-20_osaka.txt', '08-20_tokyo.txt', '08-21_jakarta.txt', '08-21_karachi.txt', '08-21_manila.txt', '08-21_osaka.txt', '08-22_dhaka.txt', '08-22_jakarta.txt', '08-22_manila.txt', '08-22_melbourne.txt', '08-22_osaka.txt', '08-23_dhaka.txt', '08-24_cairo.txt', '08-24_manila.txt', '08-24_melbourne.txt', '08-24_osaka.txt', '08-24_singapore.txt', '08-25_cairo.txt', '08-25_dhaka.txt', '08-25_manila.txt', '08-25_melbourne.txt', '08-25_osaka.txt', '08-25_shanghai.txt', '08-26_cairo.txt', '08-26_dhaka.txt', '08-26_jakarta.txt', '08-26_karachi.txt', '08-26_manila.txt', '08-26_shanghai.txt', '08-27_dhaka.txt', '08-27_melbourne.txt', '08-28_jakarta.txt', '08-28_manila.txt', '08-28_melbourne.txt', '08-28_osaka.txt', '08-28_shanghai.txt', '08-29_karachi.txt', '08-29_manila.txt', '08-29_shanghai.txt', '08-30_dhaka.txt', '09-01_manila.txt', '09-01_melbourne.txt', '09-01_osaka.txt', '09-01_tokyo.txt', '09-02_cairo.txt', '09-02_melbourne.txt', '09-02_osaka.txt', '09-02_tokyo.txt', '09-03_jakarta.txt', '09-03_osaka.txt', '09-03_shanghai.txt', '09-03_singapore.txt', '09-04_cairo.txt', '09-04_karachi.txt', '09-04_shanghai.txt', '09-04_tokyo.txt', '09-05_cairo.txt', '09-05_jakarta.txt', '09-05_manila.txt', '09-05_shanghai.txt', '09-05_tokyo.txt', '09-06_karachi.txt', '09-06_melbourne.txt', '09-06_osaka.txt', '09-06_tokyo.txt', '09-07_cairo.txt', '09-07_karachi.txt', '09-07_osaka.txt', '09-07_shanghai.txt', '09-07_singapore.txt', '09-07_tokyo.txt', '09-08_cairo.txt', '09-08_osaka.txt', '09-08_shanghai.txt', '09-09_manila.txt', '09-09_melbourne.txt', '09-09_osaka.txt', '09-09_shanghai.txt', '09-10_karachi.txt', '09-10_tokyo.txt', '09-11_cairo.txt', '09-11_jakarta.txt', '09-11_manila.txt', '09-11_melbourne.txt', '09-11_osaka.txt', '09-11_shanghai.txt', '09-11_singapore.txt', '09-11_tokyo.txt', '09-12_cairo.txt', '09-12_jakarta.txt', '09-12_melbourne.txt', '09-12_singapore.txt', '09-13_cairo.txt', '09-13_jakarta.txt', '09-13_melbourne.txt', '09-13_osaka.txt', '09-13_singapore.txt', '09-13_tokyo.txt', '09-14_melbourne.txt', '09-14_osaka.txt', '09-14_tokyo.txt', '09-15_jakarta.txt', '09-15_melbourne.txt', '09-15_osaka.txt', '09-15_shanghai.txt', '09-16_cairo.txt', '09-16_jakarta.txt', '09-16_osaka.txt', '09-16_tokyo.txt', '09-17_manila.txt', '09-17_tokyo.txt', '09-18_cairo.txt', '09-18_jakarta.txt', '09-19_dhaka.txt', '09-19_jakarta.txt', '09-19_melbourne.txt', '09-19_osaka.txt', '09-19_shanghai.txt', '09-19_singapore.txt', '09-19_tokyo.txt', '09-20_cairo.txt', '09-20_jakarta.txt', '09-20_karachi.txt', '09-20_osaka.txt', '09-20_shanghai.txt', '09-20_singapore.txt', '09-20_tokyo.txt', '09-21_jakarta.txt', '09-21_karachi.txt', '09-21_melbourne.txt', '09-21_osaka.txt', '09-21_shanghai.txt', '09-21_singapore.txt', '09-21_tokyo.txt', '09-22_cairo.txt', '09-22_karachi.txt', '09-22_osaka.txt', '09-22_tokyo.txt', '09-23_cairo.txt', '09-23_osaka.txt', '09-23_shanghai.txt', '09-23_singapore.txt', '09-24_cairo.txt', '09-24_jakarta.txt', '09-24_melbourne.txt', '09-24_osaka.txt', '09-24_singapore.txt', '09-25_cairo.txt', '09-25_dhaka.txt', '09-25_jakarta.txt', '09-25_karachi.txt', '09-25_osaka.txt', '09-25_shanghai.txt', '09-25_singapore.txt', '09-26_cairo.txt', '09-26_karachi.txt', '09-26_melbourne.txt', '09-26_osaka.txt', '09-26_shanghai.txt', '09-26_tokyo.txt', '09-27_jakarta.txt', '09-27_shanghai.txt', '09-28_cairo.txt', '09-28_karachi.txt', '09-28_melbourne.txt', '09-29_dhaka.txt', '09-29_jakarta.txt', '09-29_karachi.txt', '09-29_osaka.txt', '09-29_singapore.txt', '10-01_dhaka.txt', '10-01_singapore.txt', '10-01_tokyo.txt', '10-02_dhaka.txt', '10-02_manila.txt', '10-02_osaka.txt', '10-02_shanghai.txt', '10-03_jakarta.txt', '10-03_karachi.txt', '10-03_shanghai.txt', '10-04_dhaka.txt', '10-04_jakarta.txt', '10-04_manila.txt', '10-04_shanghai.txt', '10-04_singapore.txt', '10-05_dhaka.txt', '10-05_jakarta.txt', '10-05_karachi.txt', '10-05_manila.txt', '10-05_shanghai.txt', '10-05_singapore.txt', '10-05_tokyo.txt', '10-06_jakarta.txt', '10-06_manila.txt', '10-06_melbourne.txt', '10-06_singapore.txt', '10-06_tokyo.txt', '10-07_dhaka.txt', '10-07_jakarta.txt', '10-07_shanghai.txt', '10-07_singapore.txt', '10-08_jakarta.txt', '10-08_manila.txt', '10-08_shanghai.txt', '10-08_tokyo.txt', '10-09_dhaka.txt', '10-09_jakarta.txt', '10-09_manila.txt', '10-09_shanghai.txt', '10-10_dhaka.txt', '10-10_jakarta.txt', '10-10_manila.txt', '10-10_singapore.txt', '10-11_dhaka.txt', '10-11_manila.txt', '10-11_shanghai.txt', '10-11_singapore.txt', '10-12_dhaka.txt', '10-12_jakarta.txt', '10-12_singapore.txt', '10-13_jakarta.txt', '10-13_manila.txt', '10-13_singapore.txt', '10-13_tokyo.txt', '10-14_dhaka.txt', '10-14_jakarta.txt', '10-14_manila.txt', '10-14_shanghai.txt', '10-14_tokyo.txt', '10-15_jakarta.txt', '10-15_shanghai.txt', '10-16_jakarta.txt', '10-16_osaka.txt', '10-16_shanghai.txt', '10-16_singapore.txt', '10-17_jakarta.txt', '10-17_tokyo.txt', '10-18_dhaka.txt', '10-18_shanghai.txt', '10-18_singapore.txt', '10-19_karachi.txt', '10-19_manila.txt', '10-19_melbourne.txt', '10-19_shanghai.txt', '10-19_singapore.txt', '10-19_tokyo.txt', '10-20_manila.txt', '10-20_singapore.txt', '10-20_tokyo.txt', '10-21_dhaka.txt', '10-21_manila.txt', '10-21_shanghai.txt', '10-21_singapore.txt', '10-22_shanghai.txt', '10-22_singapore.txt', '10-23_cairo.txt', '10-23_jakarta.txt', '10-24_dhaka.txt', '10-24_jakarta.txt', '10-24_shanghai.txt', '10-24_singapore.txt', '10-24_tokyo.txt', '10-25_manila.txt', '10-25_tokyo.txt', '10-26_jakarta.txt', '10-26_shanghai.txt', '10-26_tokyo.txt', '10-27_dhaka.txt', '10-27_jakarta.txt', '10-27_shanghai.txt', '10-28_karachi.txt', '10-28_manila.txt', '10-29_dhaka.txt', '10-29_jakarta.txt', '10-29_singapore.txt', '10-30_dhaka.txt', '10-30_manila.txt', '10-30_melbourne.txt', '11-01_dhaka.txt', '11-01_karachi.txt', '11-01_shanghai.txt', '11-01_tokyo.txt', '11-02_dhaka.txt', '11-02_manila.txt', '11-02_melbourne.txt', '11-02_singapore.txt', '11-02_tokyo.txt', '11-03_cairo.txt', '11-03_dhaka.txt', '11-03_melbourne.txt', '11-03_singapore.txt', '11-03_tokyo.txt', '11-04_cairo.txt', '11-04_dhaka.txt', '11-04_melbourne.txt', '11-04_osaka.txt', '11-04_singapore.txt', '11-04_tokyo.txt', '11-05_cairo.txt', '11-05_manila.txt', '11-05_melbourne.txt', '11-05_tokyo.txt', '11-06_dhaka.txt', '11-07_dhaka.txt', '11-07_singapore.txt', '11-08_dhaka.txt', '11-08_manila.txt', '11-08_melbourne.txt', '11-08_singapore.txt', '11-08_tokyo.txt', '11-09_karachi.txt', '11-09_manila.txt', '11-09_tokyo.txt', '11-10_cairo.txt', '11-10_manila.txt', '11-10_melbourne.txt', '11-11_dhaka.txt', '11-11_singapore.txt', '11-12_shanghai.txt', '11-12_singapore.txt', '11-12_tokyo.txt', '11-13_singapore.txt', '11-13_tokyo.txt', '11-14_cairo.txt', '11-14_dhaka.txt', '11-14_karachi.txt', '11-14_manila.txt', '11-15_dhaka.txt', '11-15_manila.txt', '11-15_tokyo.txt', '11-16_dhaka.txt', '11-16_melbourne.txt', '11-16_osaka.txt', '11-16_singapore.txt', '11-17_cairo.txt', '11-17_manila.txt', '11-17_melbourne.txt', '11-17_osaka.txt', '11-17_singapore.txt', '11-17_tokyo.txt', '11-18_dhaka.txt', '11-18_melbourne.txt', '11-18_tokyo.txt', '11-19_cairo.txt', '11-19_jakarta.txt', '11-19_melbourne.txt', '11-20_dhaka.txt', '11-20_jakarta.txt', '11-20_manila.txt', '11-20_melbourne.txt', '11-20_singapore.txt', '11-21_cairo.txt', '11-21_manila.txt', '11-21_melbourne.txt', '11-22_dhaka.txt', '11-22_karachi.txt', '11-22_melbourne.txt', '11-22_tokyo.txt', '11-23_osaka.txt', '11-23_tokyo.txt', '11-24_dhaka.txt', '11-24_melbourne.txt', '11-24_osaka.txt', '11-24_singapore.txt', '11-24_tokyo.txt', '11-25_karachi.txt', '11-25_melbourne.txt', '11-25_osaka.txt', '11-25_singapore.txt', '11-25_tokyo.txt', '11-26_melbourne.txt', '11-26_singapore.txt', '11-27_dhaka.txt', '11-27_melbourne.txt', '11-27_singapore.txt', '11-28_dhaka.txt', '11-28_karachi.txt', '11-28_melbourne.txt', '11-28_singapore.txt', '11-28_tokyo.txt', '11-29_cairo.txt', '11-29_dhaka.txt', '11-29_karachi.txt', '11-29_melbourne.txt', '12-01_cairo.txt', '12-02_dhaka.txt', '12-02_melbourne.txt', '12-02_osaka.txt', '12-02_singapore.txt', '12-03_cairo.txt', '12-03_dhaka.txt', '12-03_jakarta.txt', '12-04_cairo.txt', '12-04_dhaka.txt', '12-04_jakarta.txt', '12-04_osaka.txt', '12-05_cairo.txt', '12-05_shanghai.txt', '12-05_singapore.txt', '12-05_tokyo.txt', '12-06_dhaka.txt', '12-06_osaka.txt', '12-06_shanghai.txt', '12-06_singapore.txt', '12-06_tokyo.txt', '12-07_cairo.txt', '12-07_jakarta.txt', '12-07_karachi.txt', '12-07_osaka.txt', '12-07_shanghai.txt', '12-07_singapore.txt', '12-08_shanghai.txt', '12-09_cairo.txt', '12-09_dhaka.txt', '12-09_jakarta.txt', '12-09_osaka.txt', '12-09_tokyo.txt', '12-10_cairo.txt', '12-10_karachi.txt', '12-10_osaka.txt', '12-10_tokyo.txt', '12-11_dhaka.txt', '12-11_jakarta.txt', '12-11_shanghai.txt', '12-12_jakarta.txt', '12-12_osaka.txt', '12-13_cairo.txt', '12-13_karachi.txt', '12-14_osaka.txt', '12-15_jakarta.txt', '12-15_melbourne.txt', '12-15_osaka.txt', '12-15_shanghai.txt', '12-16_dhaka.txt', '12-16_jakarta.txt', '12-17_cairo.txt', '12-17_dhaka.txt', '12-17_karachi.txt', '12-17_shanghai.txt', '12-17_singapore.txt', '12-18_cairo.txt', '12-18_dhaka.txt', '12-18_jakarta.txt', '12-18_manila.txt', '12-18_shanghai.txt', '12-19_cairo.txt', '12-19_dhaka.txt', '12-19_shanghai.txt', '12-19_tokyo.txt', '12-20_dhaka.txt', '12-20_jakarta.txt', '12-20_karachi.txt', '12-20_shanghai.txt', '12-20_tokyo.txt', '12-21_cairo.txt', '12-21_dhaka.txt', '12-21_osaka.txt', '12-21_shanghai.txt', '12-22_cairo.txt', '12-22_osaka.txt', '12-22_shanghai.txt', '12-22_singapore.txt', '12-23_cairo.txt', '12-23_jakarta.txt', '12-23_manila.txt', '12-23_osaka.txt', '12-23_singapore.txt', '12-24_dhaka.txt', '12-24_shanghai.txt', '12-25_osaka.txt', '12-25_shanghai.txt', '12-25_singapore.txt', '12-25_tokyo.txt', '12-26_cairo.txt', '12-26_jakarta.txt', '12-26_karachi.txt', '12-26_osaka.txt', '12-27_cairo.txt', '12-27_dhaka.txt', '12-27_jakarta.txt', '12-27_karachi.txt', '12-27_shanghai.txt', '12-28_dhaka.txt', '12-28_karachi.txt', '12-28_osaka.txt', '12-28_shanghai.txt', '12-28_singapore.txt', '12-29_cairo.txt', '12-29_dhaka.txt', '12-29_jakarta.txt', '12-29_karachi.txt', '12-29_singapore.txt', '12-30_dhaka.txt', '12-30_jakarta.txt', '12-30_manila.txt', 'apr-01_melbourne.pdf', 'apr-01_melbourne.png', 'apr-01_shanghai.png', 'apr-01_singapore.jpg', 'apr-02_cairo.jpg', 'apr-02_jakarta.png', 'apr-02_karachi.pdf', 'apr-02_karachi.png', 'apr-02_shanghai.jpg', 'apr-02_shanghai.pdf', 'apr-02_shanghai.png', 'apr-03_manila.jpg', 'apr-03_osaka.png', 'apr-03_singapore.jpg', 'apr-03_tokyo.jpg', 'apr-04_manila.jpg', 'apr-04_melbourne.pdf', 'apr-04_melbourne.png', 'apr-04_shanghai.pdf', 'apr-04_singapore.jpg', 'apr-05_karachi.jpg', 'apr-05_melbourne.pdf', 'apr-05_shanghai.jpg', 'apr-05_singapore.png', 'apr-06_cairo.png', 'apr-06_jakarta.pdf', 'apr-06_karachi.pdf', 'apr-06_manila.jpg', 'apr-07_cairo.png', 'apr-07_manila.pdf', 'apr-07_melbourne.pdf', 'apr-07_osaka.pdf', 'apr-07_singapore.pdf', 'apr-07_tokyo.pdf', 'apr-08_shanghai.jpg', 'apr-10_cairo.png', 'apr-10_manila.jpg', 'apr-10_manila.png', 'apr-10_melbourne.jpg', 'apr-10_shanghai.png', 'apr-10_singapore.png', 'apr-10_tokyo.jpg', 'apr-10_tokyo.pdf', 'apr-11_melbourne.pdf', 'apr-11_shanghai.png', 'apr-11_tokyo.jpg', 'apr-12_cairo.pdf', 'apr-12_cairo.png', 'apr-12_karachi.pdf', 'apr-12_melbourne.pdf', 'apr-12_osaka.pdf', 'apr-12_shanghai.pdf', 'apr-12_shanghai.png', 'apr-12_singapore.png', 'apr-12_tokyo.png', 'apr-13_cairo.png', 'apr-13_jakarta.pdf', 'apr-13_jakarta.png', 'apr-13_manila.jpg', 'apr-13_melbourne.png', 'apr-13_shanghai.pdf', 'apr-13_singapore.pdf', 'apr-13_singapore.png', 'apr-14_cairo.jpg', 'apr-14_cairo.png', 'apr-14_manila.jpg', 'apr-14_manila.pdf', 'apr-14_melbourne.pdf', 'apr-14_osaka.jpg', 'apr-14_singapore.png', 'apr-15_cairo.jpg', 'apr-15_jakarta.pdf', 'apr-15_jakarta.png', 'apr-15_melbourne.jpg', 'apr-15_singapore.jpg', 'apr-15_tokyo.pdf', 'apr-16_jakarta.png', 'apr-16_karachi.pdf', 'apr-16_karachi.png', 'apr-16_melbourne.pdf', 'apr-16_osaka.pdf', 'apr-16_shanghai.png', 'apr-17_cairo.jpg', 'apr-17_cairo.pdf', 'apr-17_cairo.png', 'apr-17_manila.jpg', 'apr-17_manila.pdf', 'apr-17_shanghai.png', 'apr-17_tokyo.pdf', 'apr-18_osaka.jpg', 'apr-18_shanghai.jpg', 'apr-18_shanghai.png', 'apr-18_tokyo.png', 'apr-19_dhaka.png', 'apr-19_melbourne.pdf', 'apr-19_shanghai.jpg', 'apr-19_shanghai.pdf', 'apr-19_shanghai.png', 'apr-19_singapore.png', 'apr-20_cairo.jpg', 'apr-20_dhaka.png', 'apr-20_jakarta.pdf', 'apr-20_karachi.jpg', 'apr-20_tokyo.pdf', 'apr-20_tokyo.png', 'apr-21_cairo.pdf', 'apr-21_jakarta.png', 'apr-21_manila.jpg', 'apr-21_manila.pdf', 'apr-21_manila.png', 'apr-21_melbourne.png', 'apr-21_osaka.jpg', 'apr-21_shanghai.pdf', 'apr-21_shanghai.png', 'apr-21_singapore.png', 'apr-21_tokyo.png', 'apr-22_cairo.pdf', 'apr-22_manila.png', 'apr-22_singapore.jpg', 'apr-23_cairo.jpg', 'apr-23_dhaka.pdf', 'apr-23_jakarta.pdf', 'apr-23_jakarta.png', 'apr-23_osaka.png', 'apr-23_shanghai.pdf', 'apr-23_shanghai.png', 'apr-23_singapore.jpg', 'apr-23_tokyo.jpg', 'apr-23_tokyo.pdf', 'apr-24_cairo.jpg', 'apr-24_jakarta.png', 'apr-24_manila.jpg', 'apr-24_manila.pdf', 'apr-24_manila.png', 'apr-24_melbourne.jpg', 'apr-24_melbourne.pdf', 'apr-24_tokyo.pdf', 'apr-25_manila.jpg', 'apr-25_osaka.jpg', 'apr-25_singapore.jpg', 'apr-26_jakarta.jpg', 'apr-26_jakarta.pdf', 'apr-26_karachi.png', 'apr-26_singapore.png', 'apr-27_karachi.pdf', 'apr-27_karachi.png', 'apr-27_melbourne.jpg', 'apr-27_shanghai.jpg', 'apr-27_tokyo.png', 'apr-28_jakarta.pdf', 'apr-28_manila.png', 'apr-28_tokyo.png', 'apr-29_manila.pdf', 'apr-29_melbourne.jpg', 'apr-29_melbourne.png', 'apr-29_shanghai.jpg', 'apr-29_tokyo.pdf', 'aug-01_cairo.jpg', 'aug-01_cairo.png', 'aug-01_shanghai.pdf', 'aug-02_dhaka.jpg', 'aug-02_jakarta.jpg', 'aug-02_karachi.pdf', 'aug-02_osaka.jpg', 'aug-02_osaka.pdf', 'aug-02_shanghai.jpg', 'aug-03_cairo.png', 'aug-03_dhaka.jpg', 'aug-03_dhaka.png', 'aug-03_manila.jpg', 'aug-03_manila.pdf', 'aug-03_melbourne.png', 'aug-03_osaka.png', 'aug-04_cairo.jpg', 'aug-04_cairo.pdf', 'aug-04_karachi.png', 'aug-04_melbourne.jpg', 'aug-04_shanghai.pdf', 'aug-05_cairo.pdf', 'aug-05_dhaka.png', 'aug-05_jakarta.jpg', 'aug-05_manila.pdf', 'aug-05_manila.png', 'aug-05_shanghai.png', 'aug-05_tokyo.jpg', 'aug-06_dhaka.pdf', 'aug-06_melbourne.jpg', 'aug-06_osaka.jpg', 'aug-06_singapore.pdf', 'aug-07_cairo.png', 'aug-07_jakarta.jpg', 'aug-07_jakarta.png', 'aug-08_cairo.jpg', 'aug-08_dhaka.pdf', 'aug-08_melbourne.png', 'aug-08_osaka.pdf', 'aug-08_singapore.jpg', 'aug-09_dhaka.pdf', 'aug-09_jakarta.jpg', 'aug-09_singapore.png', 'aug-10_cairo.png', 'aug-10_dhaka.jpg', 'aug-10_dhaka.pdf', 'aug-10_melbourne.jpg', 'aug-10_osaka.jpg', 'aug-10_osaka.pdf', 'aug-11_dhaka.pdf', 'aug-11_jakarta.jpg', 'aug-11_karachi.jpg', 'aug-11_manila.jpg', 'aug-11_melbourne.png', 'aug-12_cairo.jpg', 'aug-12_jakarta.pdf', 'aug-12_karachi.pdf', 'aug-12_manila.png', 'aug-12_osaka.png', 'aug-12_shanghai.jpg', 'aug-12_shanghai.png', 'aug-12_tokyo.jpg', 'aug-12_tokyo.pdf', 'aug-13_jakarta.jpg', 'aug-13_manila.jpg', 'aug-13_melbourne.jpg', 'aug-13_osaka.jpg', 'aug-13_shanghai.pdf', 'aug-14_cairo.jpg', 'aug-14_cairo.png', 'aug-14_dhaka.pdf', 'aug-14_karachi.jpg', 'aug-14_shanghai.jpg', 'aug-14_tokyo.pdf', 'aug-15_manila.jpg', 'aug-15_manila.pdf', 'aug-15_melbourne.pdf', 'aug-15_osaka.pdf', 'aug-15_shanghai.jpg', 'aug-16_manila.pdf', 'aug-16_shanghai.jpg', 'aug-16_shanghai.png', 'aug-17_jakarta.png', 'aug-17_karachi.pdf', 'aug-17_manila.png', 'aug-17_osaka.jpg', 'aug-17_shanghai.jpg', 'aug-17_shanghai.pdf', 'aug-18_cairo.jpg', 'aug-18_dhaka.png', 'aug-18_shanghai.pdf', 'aug-19_cairo.jpg', 'aug-19_dhaka.jpg', 'aug-19_karachi.png', 'aug-19_manila.pdf', 'aug-19_melbourne.jpg', 'aug-19_osaka.pdf', 'aug-19_osaka.png', 'aug-19_shanghai.png', 'aug-20_cairo.png', 'aug-20_dhaka.pdf', 'aug-20_jakarta.jpg', 'aug-20_jakarta.png', 'aug-20_karachi.png', 'aug-20_osaka.pdf', 'aug-20_osaka.png', 'aug-20_tokyo.jpg', 'aug-20_tokyo.pdf', 'aug-21_jakarta.pdf', 'aug-21_karachi.jpg', 'aug-21_karachi.pdf', 'aug-21_manila.jpg', 'aug-21_osaka.pdf', 'aug-22_dhaka.png', 'aug-22_jakarta.pdf', 'aug-22_manila.jpg', 'aug-22_melbourne.pdf', 'aug-22_osaka.pdf', 'aug-23_dhaka.pdf', 'aug-24_cairo.pdf', 'aug-24_manila.jpg', 'aug-24_melbourne.jpg', 'aug-24_osaka.jpg', 'aug-24_singapore.png', 'aug-25_cairo.png', 'aug-25_dhaka.jpg', 'aug-25_manila.png', 'aug-25_melbourne.jpg', 'aug-25_osaka.png', 'aug-25_shanghai.png', 'aug-26_cairo.png', 'aug-26_dhaka.jpg', 'aug-26_jakarta.pdf', 'aug-26_karachi.pdf', 'aug-26_manila.png', 'aug-26_shanghai.jpg', 'aug-27_dhaka.png', 'aug-27_melbourne.png', 'aug-28_jakarta.jpg', 'aug-28_manila.pdf', 'aug-28_melbourne.png', 'aug-28_osaka.pdf', 'aug-28_osaka.png', 'aug-28_shanghai.pdf', 'aug-29_karachi.jpg', 'aug-29_manila.png', 'aug-29_shanghai.png', 'aug-30_dhaka.pdf', 'dec-01_cairo.jpg', 'dec-02_dhaka.png', 'dec-02_melbourne.pdf', 'dec-02_osaka.jpg', 'dec-02_singapore.pdf', 'dec-02_singapore.png', 'dec-03_cairo.jpg', 'dec-03_cairo.png', 'dec-03_dhaka.pdf', 'dec-03_jakarta.png', 'dec-04_cairo.jpg', 'dec-04_cairo.pdf', 'dec-04_cairo.png', 'dec-04_dhaka.pdf', 'dec-04_jakarta.png', 'dec-04_osaka.pdf', 'dec-04_osaka.png', 'dec-05_cairo.png', 'dec-05_shanghai.jpg', 'dec-05_shanghai.png', 'dec-05_singapore.jpg', 'dec-05_tokyo.pdf', 'dec-06_dhaka.jpg', 'dec-06_osaka.jpg', 'dec-06_shanghai.png', 'dec-06_singapore.jpg', 'dec-06_singapore.pdf', 'dec-06_tokyo.png', 'dec-07_cairo.jpg', 'dec-07_jakarta.jpg', 'dec-07_karachi.jpg', 'dec-07_karachi.pdf', 'dec-07_osaka.pdf', 'dec-07_shanghai.pdf', 'dec-07_singapore.pdf', 'dec-08_shanghai.jpg', 'dec-09_cairo.png', 'dec-09_dhaka.jpg', 'dec-09_jakarta.jpg', 'dec-09_osaka.png', 'dec-09_tokyo.png', 'dec-10_cairo.jpg', 'dec-10_cairo.pdf', 'dec-10_karachi.pdf', 'dec-10_osaka.jpg', 'dec-10_osaka.png', 'dec-10_tokyo.jpg', 'dec-11_dhaka.png', 'dec-11_jakarta.jpg', 'dec-11_shanghai.png', 'dec-12_jakarta.pdf', 'dec-12_osaka.jpg', 'dec-12_osaka.pdf', 'dec-13_cairo.pdf', 'dec-13_karachi.pdf', 'dec-14_osaka.jpg', 'dec-14_osaka.png', 'dec-15_jakarta.jpg', 'dec-15_jakarta.png', 'dec-15_melbourne.pdf', 'dec-15_osaka.pdf', 'dec-15_shanghai.pdf', 'dec-16_dhaka.pdf', 'dec-16_dhaka.png', 'dec-16_jakarta.png', 'dec-17_cairo.png', 'dec-17_dhaka.pdf', 'dec-17_karachi.jpg', 'dec-17_karachi.pdf', 'dec-17_shanghai.jpg', 'dec-17_singapore.jpg', 'dec-18_cairo.jpg', 'dec-18_dhaka.png', 'dec-18_jakarta.pdf', 'dec-18_manila.pdf', 'dec-18_shanghai.jpg', 'dec-18_shanghai.pdf', 'dec-19_cairo.pdf', 'dec-19_dhaka.png', 'dec-19_shanghai.pdf', 'dec-19_shanghai.png', 'dec-19_tokyo.pdf', 'dec-20_dhaka.jpg', 'dec-20_jakarta.jpg', 'dec-20_jakarta.pdf', 'dec-20_karachi.pdf', 'dec-20_shanghai.jpg', 'dec-20_shanghai.png', 'dec-20_tokyo.pdf', 'dec-21_cairo.png', 'dec-21_dhaka.pdf', 'dec-21_dhaka.png', 'dec-21_osaka.pdf', 'dec-21_shanghai.jpg', 'dec-22_cairo.jpg', 'dec-22_osaka.png', 'dec-22_shanghai.pdf', 'dec-22_shanghai.png', 'dec-22_singapore.png', 'dec-23_cairo.pdf', 'dec-23_jakarta.jpg', 'dec-23_manila.jpg', 'dec-23_osaka.jpg', 'dec-23_singapore.pdf', 'dec-24_dhaka.pdf', 'dec-24_shanghai.pdf', 'dec-25_osaka.pdf', 'dec-25_shanghai.pdf', 'dec-25_singapore.pdf', 'dec-25_singapore.png', 'dec-25_tokyo.png', 'dec-26_cairo.pdf', 'dec-26_jakarta.pdf', 'dec-26_karachi.png', 'dec-26_osaka.jpg', 'dec-27_cairo.png', 'dec-27_dhaka.jpg', 'dec-27_jakarta.png', 'dec-27_karachi.jpg', 'dec-27_karachi.pdf', 'dec-27_shanghai.jpg', 'dec-28_dhaka.jpg', 'dec-28_karachi.jpg', 'dec-28_osaka.jpg', 'dec-28_shanghai.pdf', 'dec-28_shanghai.png', 'dec-28_singapore.jpg', 'dec-29_cairo.jpg', 'dec-29_cairo.png', 'dec-29_dhaka.png', 'dec-29_jakarta.png', 'dec-29_karachi.png', 'dec-29_singapore.jpg', 'dec-29_singapore.png', 'dec-30_dhaka.pdf', 'dec-30_jakarta.png', 'dec-30_manila.jpg', 'feb-01_dhaka.png', 'feb-01_manila.pdf', 'feb-01_osaka.jpg', 'feb-01_osaka.pdf', 'feb-01_shanghai.png', 'feb-01_singapore.png', 'feb-02_jakarta.png', 'feb-02_osaka.pdf', 'feb-02_singapore.png', 'feb-03_manila.jpg', 'feb-03_osaka.jpg', 'feb-03_singapore.jpg', 'feb-03_singapore.png', 'feb-03_tokyo.pdf', 'feb-04_dhaka.pdf', 'feb-04_jakarta.png', 'feb-04_manila.jpg', 'feb-04_osaka.pdf', 'feb-04_osaka.png', 'feb-04_singapore.jpg', 'feb-04_singapore.pdf', 'feb-04_tokyo.jpg', 'feb-05_manila.png', 'feb-05_shanghai.png', 'feb-05_singapore.jpg', 'feb-05_singapore.png', 'feb-05_tokyo.png', 'feb-06_jakarta.jpg', 'feb-06_karachi.pdf', 'feb-06_manila.jpg', 'feb-06_manila.png', 'feb-06_osaka.jpg', 'feb-06_osaka.png', 'feb-06_tokyo.pdf', 'feb-06_tokyo.png', 'feb-07_manila.png', 'feb-07_osaka.jpg', 'feb-07_osaka.pdf', 'feb-07_osaka.png', 'feb-07_tokyo.png', 'feb-08_dhaka.png', 'feb-08_karachi.pdf', 'feb-08_manila.pdf', 'feb-08_manila.png', 'feb-08_singapore.pdf', 'feb-09_jakarta.png', 'feb-09_manila.jpg', 'feb-09_osaka.png', 'feb-09_tokyo.pdf', 'feb-10_cairo.jpg', 'feb-10_cairo.pdf', 'feb-10_jakarta.png', 'feb-10_manila.jpg', 'feb-10_osaka.jpg', 'feb-10_osaka.pdf', 'feb-11_osaka.png', 'feb-11_shanghai.jpg', 'feb-12_dhaka.pdf', 'feb-12_manila.pdf', 'feb-12_shanghai.png', 'feb-12_singapore.png', 'feb-12_tokyo.jpg', 'feb-13_manila.jpg', 'feb-13_melbourne.pdf', 'feb-13_shanghai.jpg', 'feb-13_singapore.jpg', 'feb-13_tokyo.pdf', 'feb-14_dhaka.png', 'feb-14_jakarta.png', 'feb-14_osaka.jpg', 'feb-14_osaka.png', 'feb-14_singapore.jpg', 'feb-14_tokyo.pdf', 'feb-15_jakarta.jpg', 'feb-15_manila.pdf', 'feb-15_manila.png', 'feb-15_shanghai.png', 'feb-15_singapore.png', 'feb-16_melbourne.png', 'feb-16_osaka.pdf', 'feb-16_shanghai.png', 'feb-16_tokyo.jpg', 'feb-17_cairo.jpg', 'feb-17_karachi.png', 'feb-17_shanghai.jpg', 'feb-17_shanghai.pdf', 'feb-17_shanghai.png', 'feb-17_singapore.png', 'feb-18_manila.jpg', 'feb-18_shanghai.jpg', 'feb-18_shanghai.png', 'feb-19_osaka.jpg', 'feb-19_singapore.jpg', 'feb-19_singapore.pdf', 'feb-19_tokyo.pdf', 'feb-20_cairo.png', 'feb-20_dhaka.jpg', 'feb-20_jakarta.pdf', 'feb-20_osaka.jpg', 'feb-20_singapore.pdf', 'feb-20_tokyo.pdf', 'feb-21_jakarta.jpg', 'feb-21_manila.jpg', 'feb-21_osaka.png', 'feb-21_tokyo.pdf', 'feb-21_tokyo.png', 'feb-22_cairo.pdf', 'feb-22_cairo.png', 'feb-22_dhaka.jpg', 'feb-22_manila.pdf', 'feb-22_manila.png', 'feb-22_tokyo.pdf', 'feb-22_tokyo.png', 'feb-23_manila.pdf', 'feb-23_shanghai.pdf', 'feb-23_shanghai.png', 'feb-23_singapore.jpg', 'feb-24_manila.pdf', 'feb-24_osaka.pdf', 'feb-24_singapore.pdf', 'feb-24_tokyo.jpg', 'feb-25_cairo.jpg', 'feb-25_cairo.pdf', 'feb-26_cairo.png', 'feb-26_jakarta.png', 'feb-26_manila.png', 'feb-26_osaka.pdf', 'feb-27_jakarta.png', 'feb-27_manila.pdf', 'feb-27_osaka.jpg', 'feb-27_singapore.pdf', 'feb-27_tokyo.pdf', 'jan-01_manila.jpg', 'jan-01_osaka.pdf', 'jan-02_cairo.pdf', 'jan-02_karachi.jpg', 'jan-02_manila.png', 'jan-03_cairo.pdf', 'jan-03_jakarta.jpg', 'jan-03_karachi.png', 'jan-03_shanghai.jpg', 'jan-04_cairo.jpg', 'jan-04_jakarta.jpg', 'jan-04_karachi.png', 'jan-04_manila.pdf', 'jan-04_manila.png', 'jan-05_cairo.jpg', 'jan-05_melbourne.jpg', 'jan-05_osaka.jpg', 'jan-06_jakarta.jpg', 'jan-06_jakarta.pdf', 'jan-06_jakarta.png', 'jan-06_karachi.pdf', 'jan-06_karachi.png', 'jan-06_melbourne.png', 'jan-07_cairo.jpg', 'jan-08_cairo.png', 'jan-08_manila.png', 'jan-08_osaka.png', 'jan-08_tokyo.jpg', 'jan-09_cairo.jpg', 'jan-09_karachi.jpg', 'jan-09_karachi.png', 'jan-09_manila.pdf', 'jan-09_melbourne.pdf', 'jan-10_jakarta.png', 'jan-10_karachi.pdf', 'jan-10_shanghai.pdf', 'jan-11_cairo.png', 'jan-11_manila.jpg', 'jan-11_manila.png', 'jan-11_melbourne.jpg', 'jan-12_cairo.pdf', 'jan-12_jakarta.jpg', 'jan-12_jakarta.pdf', 'jan-12_karachi.jpg', 'jan-12_melbourne.pdf', 'jan-12_osaka.png', 'jan-12_tokyo.jpg', 'jan-13_cairo.png', 'jan-13_jakarta.jpg', 'jan-13_melbourne.pdf', 'jan-14_karachi.png', 'jan-14_manila.png', 'jan-15_cairo.jpg', 'jan-15_cairo.png', 'jan-15_dhaka.jpg', 'jan-15_manila.png', 'jan-15_osaka.png', 'jan-15_singapore.pdf', 'jan-16_cairo.png', 'jan-16_jakarta.jpg', 'jan-16_jakarta.pdf', 'jan-16_jakarta.png', 'jan-16_melbourne.jpg', 'jan-16_melbourne.png', 'jan-16_tokyo.pdf', 'jan-17_karachi.pdf', 'jan-18_karachi.pdf', 'jan-18_karachi.png', 'jan-18_manila.pdf', 'jan-18_melbourne.jpg', 'jan-18_melbourne.png', 'jan-18_osaka.jpg', 'jan-19_cairo.pdf', 'jan-19_jakarta.jpg', 'jan-19_karachi.pdf', 'jan-19_manila.png', 'jan-19_melbourne.png', 'jan-19_osaka.png', 'jan-19_tokyo.jpg', 'jan-20_cairo.pdf', 'jan-20_karachi.jpg', 'jan-20_osaka.pdf', 'jan-20_osaka.png', 'jan-20_tokyo.pdf', 'jan-21_cairo.jpg', 'jan-21_karachi.png', 'jan-21_melbourne.jpg', 'jan-21_melbourne.pdf', 'jan-22_karachi.png', 'jan-22_melbourne.jpg', 'jan-22_melbourne.pdf', 'jan-22_osaka.jpg', 'jan-22_osaka.png', 'jan-22_shanghai.pdf', 'jan-22_tokyo.png', 'jan-23_cairo.png', 'jan-23_jakarta.jpg', 'jan-23_manila.png', 'jan-24_jakarta.pdf', 'jan-24_karachi.pdf', 'jan-24_manila.jpg', 'jan-24_melbourne.jpg', 'jan-24_tokyo.pdf', 'jan-25_karachi.pdf', 'jan-25_karachi.png', 'jan-25_manila.jpg', 'jan-25_melbourne.jpg', 'jan-25_osaka.pdf', 'jan-26_jakarta.png', 'jan-26_karachi.jpg', 'jan-26_manila.pdf', 'jan-26_shanghai.png', 'jan-27_cairo.jpg', 'jan-27_melbourne.jpg', 'jan-27_osaka.pdf', 'jan-28_karachi.pdf', 'jan-28_karachi.png', 'jan-29_melbourne.jpg', 'jan-29_melbourne.pdf', 'jan-29_shanghai.pdf', 'jan-30_cairo.pdf', 'jan-30_jakarta.jpg', 'jan-30_jakarta.png', 'jan-30_karachi.pdf', 'jan-30_manila.jpg', 'jul-01_dhaka.png', 'jul-01_karachi.png', 'jul-01_manila.pdf', 'jul-01_melbourne.jpg', 'jul-02_dhaka.pdf', 'jul-02_melbourne.pdf', 'jul-02_shanghai.jpg', 'jul-02_singapore.jpg', 'jul-02_singapore.pdf', 'jul-02_tokyo.pdf', 'jul-02_tokyo.png', 'jul-03_manila.jpg', 'jul-03_melbourne.pdf', 'jul-03_shanghai.jpg', 'jul-03_singapore.pdf', 'jul-04_cairo.jpg', 'jul-04_jakarta.png', 'jul-04_karachi.jpg', 'jul-04_singapore.png', 'jul-04_tokyo.png', 'jul-05_dhaka.pdf', 'jul-05_dhaka.png', 'jul-05_shanghai.pdf', 'jul-05_singapore.png', 'jul-05_tokyo.png', 'jul-06_dhaka.pdf', 'jul-06_dhaka.png', 'jul-06_manila.pdf', 'jul-06_melbourne.pdf', 'jul-06_osaka.pdf', 'jul-06_shanghai.pdf', 'jul-06_shanghai.png', 'jul-06_singapore.png', 'jul-06_tokyo.png', 'jul-07_manila.png', 'jul-07_melbourne.jpg', 'jul-07_osaka.pdf', 'jul-07_osaka.png', 'jul-07_singapore.png', 'jul-08_cairo.png', 'jul-08_dhaka.pdf', 'jul-08_karachi.jpg', 'jul-08_manila.pdf', 'jul-08_shanghai.pdf', 'jul-08_singapore.png', 'jul-09_dhaka.jpg', 'jul-09_jakarta.pdf', 'jul-09_karachi.jpg', 'jul-09_melbourne.pdf', 'jul-09_melbourne.png', 'jul-09_shanghai.pdf', 'jul-09_shanghai.png', 'jul-09_singapore.png', 'jul-10_cairo.png', 'jul-10_dhaka.jpg', 'jul-10_dhaka.pdf', 'jul-10_shanghai.pdf', 'jul-10_shanghai.png', 'jul-10_tokyo.pdf', 'jul-11_dhaka.pdf', 'jul-11_shanghai.pdf', 'jul-11_tokyo.png', 'jul-12_dhaka.png', 'jul-12_jakarta.jpg', 'jul-12_jakarta.png', 'jul-12_karachi.pdf', 'jul-12_karachi.png', 'jul-12_shanghai.pdf', 'jul-12_shanghai.png', 'jul-12_tokyo.jpg', 'jul-13_cairo.png', 'jul-13_dhaka.pdf', 'jul-13_osaka.png', 'jul-13_tokyo.jpg', 'jul-13_tokyo.png', 'jul-14_cairo.jpg', 'jul-14_jakarta.png', 'jul-14_karachi.pdf', 'jul-14_karachi.png', 'jul-14_singapore.jpg', 'jul-14_singapore.pdf', 'jul-15_cairo.pdf', 'jul-15_dhaka.png', 'jul-15_manila.png', 'jul-15_osaka.pdf', 'jul-15_shanghai.jpg', 'jul-15_tokyo.pdf', 'jul-16_cairo.png', 'jul-16_dhaka.jpg', 'jul-16_dhaka.pdf', 'jul-16_jakarta.png', 'jul-16_karachi.pdf', 'jul-16_manila.png', 'jul-16_melbourne.pdf', 'jul-16_osaka.jpg', 'jul-16_singapore.jpg', 'jul-17_cairo.pdf', 'jul-17_melbourne.pdf', 'jul-17_shanghai.png', 'jul-17_singapore.pdf', 'jul-18_dhaka.png', 'jul-18_jakarta.pdf', 'jul-18_singapore.jpg', 'jul-19_cairo.jpg', 'jul-19_manila.png', 'jul-19_osaka.png', 'jul-19_shanghai.pdf', 'jul-19_tokyo.jpg', 'jul-19_tokyo.pdf', 'jul-19_tokyo.png', 'jul-20_manila.png', 'jul-20_melbourne.pdf', 'jul-20_tokyo.png', 'jul-21_jakarta.jpg', 'jul-21_karachi.jpg', 'jul-21_manila.png', 'jul-21_melbourne.png', 'jul-21_osaka.jpg', 'jul-22_manila.jpg', 'jul-22_melbourne.jpg', 'jul-22_shanghai.pdf', 'jul-22_shanghai.png', 'jul-22_singapore.pdf', 'jul-23_dhaka.png', 'jul-23_jakarta.jpg', 'jul-23_karachi.png', 'jul-23_melbourne.jpg', 'jul-23_melbourne.pdf', 'jul-23_shanghai.pdf', 'jul-23_shanghai.png', 'jul-23_singapore.jpg', 'jul-23_singapore.pdf', 'jul-24_cairo.pdf', 'jul-24_dhaka.jpg', 'jul-24_jakarta.pdf', 'jul-24_jakarta.png', 'jul-24_karachi.jpg', 'jul-24_shanghai.jpg', 'jul-24_shanghai.pdf', 'jul-24_shanghai.png', 'jul-25_karachi.jpg', 'jul-25_karachi.png', 'jul-25_manila.jpg', 'jul-25_melbourne.pdf', 'jul-25_singapore.pdf', 'jul-26_cairo.png', 'jul-26_melbourne.pdf', 'jul-26_shanghai.pdf', 'jul-26_singapore.pdf', 'jul-26_tokyo.jpg', 'jul-27_cairo.png', 'jul-27_jakarta.pdf', 'jul-27_manila.png', 'jul-27_melbourne.pdf', 'jul-27_osaka.png', 'jul-27_singapore.jpg', 'jul-27_singapore.png', 'jul-27_tokyo.jpg', 'jul-27_tokyo.png', 'jul-28_dhaka.png', 'jul-28_jakarta.pdf', 'jul-28_manila.pdf', 'jul-28_singapore.png', 'jul-28_tokyo.pdf', 'jul-29_cairo.jpg', 'jul-29_singapore.pdf', 'jul-29_tokyo.pdf', 'jul-30_cairo.png', 'jul-30_dhaka.pdf', 'jul-30_jakarta.pdf', 'jul-30_melbourne.jpg', 'jun-01_singapore.jpg', 'jun-01_singapore.pdf', 'jun-02_dhaka.jpg', 'jun-02_singapore.jpg', 'jun-03_jakarta.pdf', 'jun-03_manila.pdf', 'jun-03_manila.png', 'jun-03_osaka.pdf', 'jun-03_osaka.png', 'jun-03_shanghai.jpg', 'jun-03_shanghai.png', 'jun-04_dhaka.pdf', 'jun-04_jakarta.jpg', 'jun-04_osaka.pdf', 'jun-05_dhaka.pdf', 'jun-05_manila.jpg', 'jun-05_manila.png', 'jun-05_osaka.jpg', 'jun-05_osaka.png', 'jun-05_singapore.pdf', 'jun-05_tokyo.pdf', 'jun-06_melbourne.png', 'jun-06_osaka.jpg', 'jun-06_osaka.png', 'jun-06_shanghai.jpg', 'jun-06_shanghai.png', 'jun-06_singapore.png', 'jun-07_dhaka.jpg', 'jun-07_shanghai.pdf', 'jun-07_singapore.pdf', 'jun-07_tokyo.png', 'jun-08_jakarta.png', 'jun-08_melbourne.jpg', 'jun-08_shanghai.pdf', 'jun-08_singapore.jpg', 'jun-08_tokyo.pdf', 'jun-09_dhaka.png', 'jun-09_karachi.png', 'jun-09_singapore.pdf', 'jun-10_jakarta.pdf', 'jun-10_manila.pdf', 'jun-10_shanghai.jpg', 'jun-10_shanghai.pdf', 'jun-11_dhaka.pdf', 'jun-11_karachi.jpg', 'jun-11_osaka.jpg', 'jun-11_shanghai.pdf', 'jun-11_shanghai.png', 'jun-11_singapore.jpg', 'jun-11_singapore.pdf', 'jun-11_tokyo.jpg', 'jun-12_dhaka.pdf', 'jun-12_karachi.png', 'jun-12_manila.jpg', 'jun-12_manila.png', 'jun-12_osaka.pdf', 'jun-12_osaka.png', 'jun-12_shanghai.jpg', 'jun-12_tokyo.pdf', 'jun-13_manila.jpg', 'jun-13_shanghai.png', 'jun-14_tokyo.jpg', 'jun-14_tokyo.pdf', 'jun-15_jakarta.pdf', 'jun-15_jakarta.png', 'jun-15_manila.pdf', 'jun-15_melbourne.jpg', 'jun-15_osaka.png', 'jun-15_singapore.png', 'jun-16_karachi.pdf', 'jun-16_manila.jpg', 'jun-16_manila.png', 'jun-16_melbourne.jpg', 'jun-16_melbourne.pdf', 'jun-16_osaka.jpg', 'jun-16_singapore.jpg', 'jun-16_singapore.pdf', 'jun-16_singapore.png', 'jun-17_dhaka.pdf', 'jun-17_dhaka.png', 'jun-17_manila.jpg', 'jun-17_manila.pdf', 'jun-17_manila.png', 'jun-17_tokyo.pdf', 'jun-18_dhaka.pdf', 'jun-18_dhaka.png', 'jun-18_karachi.pdf', 'jun-18_manila.pdf', 'jun-18_tokyo.pdf', 'jun-19_dhaka.pdf', 'jun-19_dhaka.png', 'jun-19_osaka.jpg', 'jun-20_dhaka.png', 'jun-20_manila.pdf', 'jun-20_manila.png', 'jun-20_tokyo.pdf', 'jun-21_dhaka.pdf', 'jun-21_jakarta.pdf', 'jun-22_dhaka.pdf', 'jun-22_jakarta.jpg', 'jun-22_karachi.pdf', 'jun-22_manila.png', 'jun-22_tokyo.pdf', 'jun-23_dhaka.pdf', 'jun-23_osaka.pdf', 'jun-23_singapore.pdf', 'jun-23_singapore.png', 'jun-23_tokyo.pdf', 'jun-23_tokyo.png', 'jun-24_dhaka.jpg', 'jun-24_manila.pdf', 'jun-24_osaka.pdf', 'jun-25_dhaka.pdf', 'jun-25_jakarta.png', 'jun-25_manila.png', 'jun-25_tokyo.jpg', 'jun-26_dhaka.jpg', 'jun-26_manila.pdf', 'jun-27_dhaka.jpg', 'jun-27_manila.jpg', 'jun-27_manila.png', 'jun-28_cairo.pdf', 'jun-28_dhaka.png', 'jun-28_jakarta.jpg', 'jun-28_jakarta.png', 'jun-28_melbourne.png', 'jun-28_osaka.pdf', 'jun-28_tokyo.pdf', 'jun-29_karachi.png', 'jun-29_osaka.png', 'jun-29_tokyo.pdf', 'mar-02_manila.png', 'mar-04_jakarta.pdf', 'mar-04_osaka.png', 'mar-04_tokyo.jpg', 'mar-05_cairo.pdf', 'mar-05_cairo.png', 'mar-05_singapore.jpg', 'mar-05_tokyo.jpg', 'mar-05_tokyo.png', 'mar-06_cairo.pdf', 'mar-06_karachi.pdf', 'mar-07_melbourne.jpg', 'mar-08_manila.jpg', 'mar-08_osaka.png', 'mar-09_jakarta.pdf', 'mar-09_manila.jpg', 'mar-09_manila.png', 'mar-09_tokyo.pdf', 'mar-09_tokyo.png', 'mar-10_manila.png', 'mar-10_osaka.pdf', 'mar-11_jakarta.jpg', 'mar-11_osaka.png', 'mar-12_cairo.jpg', 'mar-12_manila.jpg', 'mar-12_manila.png', 'mar-12_osaka.pdf', 'mar-13_manila.jpg', 'mar-13_manila.png', 'mar-14_cairo.pdf', 'mar-14_shanghai.jpg', 'mar-14_tokyo.pdf', 'mar-15_jakarta.jpg', 'mar-15_tokyo.pdf', 'mar-16_dhaka.pdf', 'mar-16_manila.jpg', 'mar-16_shanghai.png', 'mar-16_tokyo.pdf', 'mar-16_tokyo.png', 'mar-17_jakarta.jpg', 'mar-17_manila.jpg', 'mar-17_manila.pdf', 'mar-18_jakarta.png', 'mar-18_manila.jpg', 'mar-18_manila.pdf', 'mar-18_manila.png', 'mar-18_tokyo.pdf', 'mar-19_cairo.jpg', 'mar-19_osaka.png', 'mar-20_jakarta.pdf', 'mar-20_manila.jpg', 'mar-22_manila.pdf', 'mar-22_osaka.jpg', 'mar-23_jakarta.jpg', 'mar-23_jakarta.pdf', 'mar-24_cairo.pdf', 'mar-24_manila.pdf', 'mar-25_jakarta.png', 'mar-25_manila.jpg', 'mar-26_manila.png', 'mar-26_tokyo.png', 'mar-27_osaka.jpg', 'mar-27_tokyo.jpg', 'mar-27_tokyo.pdf', 'mar-29_manila.pdf', 'mar-29_manila.png', 'mar-30_jakarta.jpg', 'mar-30_osaka.pdf', 'may-01_cairo.png', 'may-01_dhaka.pdf', 'may-01_dhaka.png', 'may-01_jakarta.jpg', 'may-01_shanghai.pdf', 'may-01_singapore.pdf', 'may-01_tokyo.jpg', 'may-02_cairo.png', 'may-02_dhaka.jpg', 'may-02_dhaka.png', 'may-02_jakarta.jpg', 'may-02_melbourne.png', 'may-02_osaka.png', 'may-02_tokyo.jpg', 'may-03_jakarta.jpg', 'may-03_karachi.jpg', 'may-03_melbourne.pdf', 'may-03_shanghai.pdf', 'may-03_tokyo.jpg', 'may-04_dhaka.pdf', 'may-04_manila.jpg', 'may-04_melbourne.jpg', 'may-04_singapore.png', 'may-05_dhaka.pdf', 'may-05_jakarta.jpg', 'may-05_karachi.pdf', 'may-05_manila.jpg', 'may-05_manila.png', 'may-05_melbourne.jpg', 'may-05_tokyo.jpg', 'may-05_tokyo.pdf', 'may-06_karachi.pdf', 'may-06_shanghai.jpg', 'may-06_singapore.png', 'may-07_jakarta.jpg', 'may-08_jakarta.jpg', 'may-08_jakarta.png', 'may-08_melbourne.png', 'may-08_singapore.pdf', 'may-08_tokyo.png', 'may-09_manila.png', 'may-09_melbourne.pdf', 'may-09_singapore.png', 'may-10_dhaka.png', 'may-10_karachi.pdf', 'may-10_manila.pdf', 'may-11_dhaka.png', 'may-11_manila.png', 'may-11_melbourne.jpg', 'may-12_cairo.png', 'may-12_singapore.png', 'may-13_jakarta.jpg', 'may-13_jakarta.pdf', 'may-13_jakarta.png', 'may-13_melbourne.png', 'may-13_singapore.jpg', 'may-14_dhaka.pdf', 'may-14_shanghai.png', 'may-15_dhaka.png', 'may-15_jakarta.jpg', 'may-15_tokyo.pdf', 'may-16_jakarta.png', 'may-16_melbourne.pdf', 'may-16_singapore.pdf', 'may-16_tokyo.png', 'may-17_cairo.png', 'may-17_dhaka.jpg', 'may-17_dhaka.pdf', 'may-17_jakarta.pdf', 'may-17_jakarta.png', 'may-17_karachi.pdf', 'may-17_tokyo.jpg', 'may-18_karachi.png', 'may-18_shanghai.jpg', 'may-19_melbourne.png', 'may-20_karachi.jpg', 'may-21_dhaka.jpg', 'may-21_melbourne.jpg', 'may-22_jakarta.pdf', 'may-22_melbourne.jpg', 'may-23_karachi.jpg', 'may-23_karachi.png', 'may-23_melbourne.pdf', 'may-23_singapore.png', 'may-23_tokyo.jpg', 'may-24_dhaka.jpg', 'may-24_manila.png', 'may-24_melbourne.png', 'may-25_cairo.png', 'may-25_jakarta.pdf', 'may-26_dhaka.jpg', 'may-26_dhaka.png', 'may-26_karachi.pdf', 'may-26_manila.pdf', 'may-26_melbourne.jpg', 'may-26_shanghai.jpg', 'may-27_cairo.pdf', 'may-27_dhaka.jpg', 'may-27_karachi.jpg', 'may-27_manila.png', 'may-27_melbourne.png', 'may-28_dhaka.png', 'may-28_jakarta.pdf', 'may-28_karachi.jpg', 'may-28_shanghai.jpg', 'may-28_singapore.png', 'may-28_tokyo.png', 'may-29_cairo.pdf', 'may-29_dhaka.jpg', 'may-29_jakarta.png', 'may-29_karachi.pdf', 'may-30_cairo.jpg', 'may-30_cairo.png', 'may-30_dhaka.png', 'may-30_karachi.png', 'may-30_manila.jpg', 'may-30_melbourne.pdf', 'may-30_melbourne.png', 'may-30_singapore.png', 'may-30_tokyo.pdf', 'nov-01_dhaka.pdf', 'nov-01_karachi.jpg', 'nov-01_shanghai.pdf', 'nov-01_tokyo.pdf', 'nov-01_tokyo.png', 'nov-02_dhaka.jpg', 'nov-02_dhaka.pdf', 'nov-02_manila.png', 'nov-02_melbourne.pdf', 'nov-02_singapore.jpg', 'nov-02_tokyo.pdf', 'nov-03_cairo.png', 'nov-03_dhaka.jpg', 'nov-03_melbourne.png', 'nov-03_singapore.jpg', 'nov-03_tokyo.pdf', 'nov-03_tokyo.png', 'nov-04_cairo.pdf', 'nov-04_dhaka.jpg', 'nov-04_melbourne.png', 'nov-04_osaka.pdf', 'nov-04_singapore.jpg', 'nov-04_tokyo.pdf', 'nov-05_cairo.jpg', 'nov-05_cairo.png', 'nov-05_manila.pdf', 'nov-05_melbourne.jpg', 'nov-05_tokyo.pdf', 'nov-06_dhaka.jpg', 'nov-07_dhaka.pdf', 'nov-07_singapore.png', 'nov-08_dhaka.pdf', 'nov-08_manila.png', 'nov-08_melbourne.pdf', 'nov-08_singapore.jpg', 'nov-08_tokyo.png', 'nov-09_karachi.jpg', 'nov-09_manila.pdf', 'nov-09_tokyo.png', 'nov-10_cairo.pdf', 'nov-10_manila.jpg', 'nov-10_melbourne.jpg', 'nov-11_dhaka.jpg', 'nov-11_dhaka.pdf', 'nov-11_singapore.pdf', 'nov-12_shanghai.jpg', 'nov-12_singapore.png', 'nov-12_tokyo.pdf', 'nov-13_singapore.pdf', 'nov-13_tokyo.pdf', 'nov-14_cairo.pdf', 'nov-14_dhaka.jpg', 'nov-14_karachi.pdf', 'nov-14_manila.png', 'nov-15_dhaka.jpg', 'nov-15_dhaka.png', 'nov-15_manila.pdf', 'nov-15_tokyo.jpg', 'nov-15_tokyo.pdf', 'nov-16_dhaka.pdf', 'nov-16_melbourne.jpg', 'nov-16_osaka.pdf', 'nov-16_singapore.jpg', 'nov-17_cairo.pdf', 'nov-17_manila.pdf', 'nov-17_melbourne.jpg', 'nov-17_melbourne.pdf', 'nov-17_osaka.pdf', 'nov-17_osaka.png', 'nov-17_singapore.jpg', 'nov-17_tokyo.png', 'nov-18_dhaka.jpg', 'nov-18_dhaka.pdf', 'nov-18_melbourne.pdf', 'nov-18_tokyo.jpg', 'nov-19_cairo.jpg', 'nov-19_jakarta.jpg', 'nov-19_melbourne.jpg', 'nov-19_melbourne.pdf', 'nov-20_dhaka.png', 'nov-20_jakarta.pdf', 'nov-20_manila.jpg', 'nov-20_melbourne.pdf', 'nov-20_singapore.png', 'nov-21_cairo.pdf', 'nov-21_manila.jpg', 'nov-21_melbourne.pdf', 'nov-22_dhaka.jpg', 'nov-22_karachi.jpg', 'nov-22_melbourne.png', 'nov-22_tokyo.jpg', 'nov-23_osaka.jpg', 'nov-23_tokyo.pdf', 'nov-24_dhaka.png', 'nov-24_melbourne.jpg', 'nov-24_osaka.jpg', 'nov-24_singapore.pdf', 'nov-24_tokyo.jpg', 'nov-24_tokyo.pdf', 'nov-25_karachi.jpg', 'nov-25_karachi.pdf', 'nov-25_melbourne.pdf', 'nov-25_osaka.png', 'nov-25_singapore.jpg', 'nov-25_tokyo.jpg', 'nov-26_melbourne.png', 'nov-26_singapore.jpg', 'nov-26_singapore.pdf', 'nov-27_dhaka.jpg', 'nov-27_melbourne.jpg', 'nov-27_singapore.png', 'nov-28_dhaka.jpg', 'nov-28_karachi.jpg', 'nov-28_karachi.pdf', 'nov-28_melbourne.pdf', 'nov-28_singapore.png', 'nov-28_tokyo.pdf', 'nov-29_cairo.pdf', 'nov-29_dhaka.png', 'nov-29_karachi.png', 'nov-29_melbourne.jpg', 'nov-29_melbourne.pdf', 'oct-01_dhaka.jpg', 'oct-01_singapore.jpg', 'oct-01_singapore.pdf', 'oct-01_tokyo.jpg', 'oct-02_dhaka.pdf', 'oct-02_manila.pdf', 'oct-02_osaka.png', 'oct-02_shanghai.png', 'oct-03_jakarta.pdf', 'oct-03_karachi.png', 'oct-03_shanghai.pdf', 'oct-04_dhaka.pdf', 'oct-04_dhaka.png', 'oct-04_jakarta.pdf', 'oct-04_manila.jpg', 'oct-04_manila.pdf', 'oct-04_shanghai.pdf', 'oct-04_shanghai.png', 'oct-04_singapore.jpg', 'oct-05_dhaka.jpg', 'oct-05_jakarta.jpg', 'oct-05_karachi.png', 'oct-05_manila.pdf', 'oct-05_shanghai.png', 'oct-05_singapore.jpg', 'oct-05_tokyo.jpg', 'oct-06_jakarta.jpg', 'oct-06_manila.png', 'oct-06_melbourne.jpg', 'oct-06_singapore.jpg', 'oct-06_tokyo.jpg', 'oct-07_dhaka.pdf', 'oct-07_jakarta.png', 'oct-07_shanghai.pdf', 'oct-07_singapore.jpg', 'oct-08_jakarta.jpg', 'oct-08_jakarta.pdf', 'oct-08_manila.png', 'oct-08_shanghai.png', 'oct-08_tokyo.png', 'oct-09_dhaka.pdf', 'oct-09_jakarta.png', 'oct-09_manila.pdf', 'oct-09_shanghai.png', 'oct-10_dhaka.pdf', 'oct-10_dhaka.png', 'oct-10_jakarta.jpg', 'oct-10_jakarta.pdf', 'oct-10_manila.pdf', 'oct-10_manila.png', 'oct-10_singapore.jpg', 'oct-10_singapore.pdf', 'oct-10_singapore.png', 'oct-11_dhaka.png', 'oct-11_manila.pdf', 'oct-11_manila.png', 'oct-11_shanghai.jpg', 'oct-11_singapore.png', 'oct-12_dhaka.png', 'oct-12_jakarta.jpg', 'oct-12_jakarta.png', 'oct-12_singapore.jpg', 'oct-12_singapore.png', 'oct-13_jakarta.jpg', 'oct-13_manila.pdf', 'oct-13_singapore.png', 'oct-13_tokyo.jpg', 'oct-14_dhaka.png', 'oct-14_jakarta.pdf', 'oct-14_jakarta.png', 'oct-14_manila.png', 'oct-14_shanghai.png', 'oct-14_tokyo.png', 'oct-15_jakarta.jpg', 'oct-15_shanghai.jpg', 'oct-16_jakarta.jpg', 'oct-16_jakarta.pdf', 'oct-16_osaka.pdf', 'oct-16_shanghai.pdf', 'oct-16_singapore.pdf', 'oct-17_jakarta.png', 'oct-17_tokyo.pdf', 'oct-18_dhaka.jpg', 'oct-18_dhaka.pdf', 'oct-18_shanghai.jpg', 'oct-18_singapore.jpg', 'oct-19_karachi.jpg', 'oct-19_manila.png', 'oct-19_melbourne.jpg', 'oct-19_shanghai.pdf', 'oct-19_singapore.png', 'oct-19_tokyo.png', 'oct-20_manila.pdf', 'oct-20_singapore.png', 'oct-20_tokyo.pdf', 'oct-21_dhaka.pdf', 'oct-21_manila.jpg', 'oct-21_shanghai.pdf', 'oct-21_singapore.pdf', 'oct-22_shanghai.pdf', 'oct-22_singapore.jpg', 'oct-22_singapore.png', 'oct-23_cairo.jpg', 'oct-23_jakarta.jpg', 'oct-24_dhaka.png', 'oct-24_jakarta.png', 'oct-24_shanghai.pdf', 'oct-24_shanghai.png', 'oct-24_singapore.jpg', 'oct-24_singapore.pdf', 'oct-24_tokyo.jpg', 'oct-25_manila.png', 'oct-25_tokyo.pdf', 'oct-26_jakarta.png', 'oct-26_shanghai.jpg', 'oct-26_shanghai.pdf', 'oct-26_tokyo.jpg', 'oct-27_dhaka.jpg', 'oct-27_jakarta.jpg', 'oct-27_shanghai.png', 'oct-28_karachi.png', 'oct-28_manila.jpg', 'oct-29_dhaka.pdf', 'oct-29_dhaka.png', 'oct-29_jakarta.jpg', 'oct-29_jakarta.pdf', 'oct-29_singapore.jpg', 'oct-29_singapore.pdf', 'oct-30_dhaka.jpg', 'oct-30_dhaka.pdf', 'oct-30_manila.jpg', 'oct-30_manila.png', 'oct-30_melbourne.jpg', 'os-collaboration-exercise-data', 'sep-01_manila.png', 'sep-01_melbourne.jpg', 'sep-01_osaka.pdf', 'sep-01_tokyo.png', 'sep-02_cairo.png', 'sep-02_melbourne.jpg', 'sep-02_osaka.png', 'sep-02_tokyo.png', 'sep-03_jakarta.png', 'sep-03_osaka.pdf', 'sep-03_shanghai.png', 'sep-03_singapore.pdf', 'sep-04_cairo.pdf', 'sep-04_karachi.png', 'sep-04_shanghai.jpg', 'sep-04_shanghai.pdf', 'sep-04_tokyo.jpg', 'sep-05_cairo.pdf', 'sep-05_jakarta.pdf', 'sep-05_manila.png', 'sep-05_shanghai.png', 'sep-05_tokyo.png', 'sep-06_karachi.pdf', 'sep-06_karachi.png', 'sep-06_melbourne.png', 'sep-06_osaka.pdf', 'sep-06_tokyo.pdf', 'sep-07_cairo.jpg', 'sep-07_karachi.jpg', 'sep-07_karachi.png', 'sep-07_osaka.jpg', 'sep-07_shanghai.pdf', 'sep-07_singapore.jpg', 'sep-07_tokyo.jpg', 'sep-07_tokyo.png', 'sep-08_cairo.pdf', 'sep-08_osaka.pdf', 'sep-08_shanghai.pdf', 'sep-09_manila.png', 'sep-09_melbourne.jpg', 'sep-09_osaka.pdf', 'sep-09_osaka.png', 'sep-09_shanghai.png', 'sep-10_karachi.jpg', 'sep-10_tokyo.pdf', 'sep-11_cairo.png', 'sep-11_jakarta.pdf', 'sep-11_manila.pdf', 'sep-11_melbourne.png', 'sep-11_osaka.pdf', 'sep-11_shanghai.png', 'sep-11_singapore.jpg', 'sep-11_singapore.png', 'sep-11_tokyo.jpg', 'sep-11_tokyo.png', 'sep-12_cairo.png', 'sep-12_jakarta.pdf', 'sep-12_melbourne.jpg', 'sep-12_singapore.jpg', 'sep-13_cairo.jpg', 'sep-13_cairo.png', 'sep-13_jakarta.jpg', 'sep-13_melbourne.jpg', 'sep-13_osaka.jpg', 'sep-13_osaka.png', 'sep-13_singapore.pdf', 'sep-13_tokyo.png', 'sep-14_melbourne.png', 'sep-14_osaka.png', 'sep-14_tokyo.jpg', 'sep-15_jakarta.jpg', 'sep-15_melbourne.jpg', 'sep-15_melbourne.pdf', 'sep-15_osaka.pdf', 'sep-15_shanghai.png', 'sep-16_cairo.png', 'sep-16_jakarta.jpg', 'sep-16_jakarta.pdf', 'sep-16_jakarta.png', 'sep-16_osaka.pdf', 'sep-16_osaka.png', 'sep-16_tokyo.jpg', 'sep-17_manila.jpg', 'sep-17_tokyo.pdf', 'sep-18_cairo.pdf', 'sep-18_jakarta.jpg', 'sep-19_dhaka.jpg', 'sep-19_jakarta.pdf', 'sep-19_melbourne.png', 'sep-19_osaka.png', 'sep-19_shanghai.jpg', 'sep-19_singapore.png', 'sep-19_tokyo.jpg', 'sep-20_cairo.jpg', 'sep-20_jakarta.pdf', 'sep-20_karachi.png', 'sep-20_osaka.png', 'sep-20_shanghai.pdf', 'sep-20_singapore.png', 'sep-20_tokyo.png', 'sep-21_jakarta.jpg', 'sep-21_karachi.pdf', 'sep-21_melbourne.jpg', 'sep-21_osaka.jpg', 'sep-21_osaka.png', 'sep-21_shanghai.pdf', 'sep-21_singapore.pdf', 'sep-21_tokyo.jpg', 'sep-21_tokyo.pdf', 'sep-22_cairo.pdf', 'sep-22_karachi.jpg', 'sep-22_karachi.png', 'sep-22_osaka.pdf', 'sep-22_tokyo.jpg', 'sep-22_tokyo.pdf', 'sep-22_tokyo.png', 'sep-23_cairo.pdf', 'sep-23_osaka.png', 'sep-23_shanghai.png', 'sep-23_singapore.jpg', 'sep-24_cairo.pdf', 'sep-24_jakarta.jpg', 'sep-24_melbourne.jpg', 'sep-24_osaka.jpg', 'sep-24_osaka.png', 'sep-24_singapore.jpg', 'sep-24_singapore.pdf', 'sep-25_cairo.jpg', 'sep-25_cairo.pdf', 'sep-25_dhaka.png', 'sep-25_jakarta.pdf', 'sep-25_karachi.jpg', 'sep-25_osaka.png', 'sep-25_shanghai.jpg', 'sep-25_shanghai.png', 'sep-25_singapore.jpg', 'sep-25_singapore.pdf', 'sep-26_cairo.pdf', 'sep-26_karachi.pdf', 'sep-26_karachi.png', 'sep-26_melbourne.png', 'sep-26_osaka.jpg', 'sep-26_shanghai.png', 'sep-26_tokyo.jpg', 'sep-27_jakarta.png', 'sep-27_shanghai.png', 'sep-28_cairo.jpg', 'sep-28_cairo.pdf', 'sep-28_cairo.png', 'sep-28_karachi.png', 'sep-28_melbourne.png', 'sep-29_dhaka.jpg', 'sep-29_jakarta.png', 'sep-29_karachi.jpg', 'sep-29_osaka.png', 'sep-29_singapore.jpg']\n"
     ]
    }
   ],
   "source": [
    "Dict = { \n",
    "'jan': '01', 'feb': '02', 'mar': '03', \n",
    "'apr': '04', 'may': '05', 'jun': '06', \n",
    "'jul': '07', 'aug': '08', 'sep': '09', \n",
    "'oct': '10', 'nov': '11', 'dec': '12' \n",
    "} \n",
    " \n",
    "for month in glob.glob('*.txt'): \n",
    "    new = month.replace(month[0:3], Dict[month[0:3]]) \n",
    "    os.rename(month,new) \n",
    " \n",
    "     \n",
    "print(f'{os.listdir()}')"
   ]
  },
  {
   "cell_type": "code",
   "execution_count": 31,
   "id": "6a1197b3",
   "metadata": {},
   "outputs": [
    {
     "name": "stdout",
     "output_type": "stream",
     "text": [
      "09-25_osaka.txt\n"
     ]
    }
   ],
   "source": [
    "test = \"sep-25_osaka.txt\" \n",
    " \n",
    "x = test.replace(\"sep\",\"09\") \n",
    "                  \n",
    "print(x)"
   ]
  },
  {
   "cell_type": "code",
   "execution_count": 33,
   "id": "b10273c7",
   "metadata": {},
   "outputs": [],
   "source": [
    "def rename_my_file(old_file_name): \n",
    "    if:\n",
    "        old_file_name[:3] not in Dict.keys(): \n",
    "        return old_file_name \n",
    "    else:\n",
    "        new_name = old_file_name.replace(old_file_name[0:3], Dict[old_file_name[0:3]]) \n",
    "        return new_name"
   ]
  },
  {
   "cell_type": "code",
   "execution_count": 37,
   "id": "141e517d",
   "metadata": {},
   "outputs": [
    {
     "name": "stdout",
     "output_type": "stream",
     "text": [
      "oct-08_singapore.txt ----> 10-08_singapore.txt\n",
      "jul-10_cairo.txt ----> 07-10_cairo.txt\n",
      "may-15_dhaka.txt ----> 05-15_dhaka.txt\n",
      "may-13_cairo.txt ----> 05-13_cairo.txt\n",
      "oct-21_cairo.txt ----> 10-21_cairo.txt\n",
      "jan-10_singapore.txt ----> 01-10_singapore.txt\n",
      "jun-20_tokyo.txt ----> 06-20_tokyo.txt\n",
      "aug-06_jakarta.txt ----> 08-06_jakarta.txt\n",
      "dec-21_karachi.txt ----> 12-21_karachi.txt\n",
      "jan-01_tokyo.txt ----> 01-01_tokyo.txt\n"
     ]
    }
   ],
   "source": [
    "lst = ['oct-08_singapore.txt', 'jul-10_cairo.txt', 'may-15_dhaka.txt', \n",
    " 'may-13_cairo.txt', 'oct-21_cairo.txt', 'jan-10_singapore.txt', \n",
    " 'jun-20_tokyo.txt', 'aug-06_jakarta.txt', 'dec-21_karachi.txt', \n",
    " 'jan-01_tokyo.txt'] \n",
    " \n",
    " \n",
    " \n",
    "for item in lst: \n",
    "    test = (rename_my_file(item)) \n",
    "    print(item, \"---->\", test)"
   ]
  },
  {
   "cell_type": "code",
   "execution_count": 38,
   "id": "dd91e221",
   "metadata": {},
   "outputs": [],
   "source": [
    "for i in glob.glob('*.txt'): \n",
    "    new = rename_my_file(i) \n",
    "    os.replace(i,new)"
   ]
  },
  {
   "cell_type": "code",
   "execution_count": 43,
   "id": "3e303a11",
   "metadata": {
    "scrolled": true
   },
   "outputs": [
    {
     "ename": "FileExistsError",
     "evalue": "[WinError 183] Cannot create a file when that file already exists: 'Cairo'",
     "output_type": "error",
     "traceback": [
      "\u001b[1;31m---------------------------------------------------------------------------\u001b[0m",
      "\u001b[1;31mFileExistsError\u001b[0m                           Traceback (most recent call last)",
      "Cell \u001b[1;32mIn[43], line 3\u001b[0m\n\u001b[0;32m      1\u001b[0m \u001b[38;5;28;01mfor\u001b[39;00m city \u001b[38;5;129;01min\u001b[39;00m [\u001b[38;5;124m'\u001b[39m\u001b[38;5;124mCairo\u001b[39m\u001b[38;5;124m'\u001b[39m, \u001b[38;5;124m'\u001b[39m\u001b[38;5;124mDhaka\u001b[39m\u001b[38;5;124m'\u001b[39m, \u001b[38;5;124m'\u001b[39m\u001b[38;5;124mJakarta\u001b[39m\u001b[38;5;124m'\u001b[39m, \u001b[38;5;124m'\u001b[39m\u001b[38;5;124mKarachi\u001b[39m\u001b[38;5;124m'\u001b[39m, \u001b[38;5;124m'\u001b[39m\u001b[38;5;124mManila\u001b[39m\u001b[38;5;124m'\u001b[39m, \n\u001b[0;32m      2\u001b[0m  \u001b[38;5;124m'\u001b[39m\u001b[38;5;124mMelbourne\u001b[39m\u001b[38;5;124m'\u001b[39m, \u001b[38;5;124m'\u001b[39m\u001b[38;5;124mOsaka\u001b[39m\u001b[38;5;124m'\u001b[39m, \u001b[38;5;124m'\u001b[39m\u001b[38;5;124mShanghai\u001b[39m\u001b[38;5;124m'\u001b[39m, \u001b[38;5;124m'\u001b[39m\u001b[38;5;124mSingapore\u001b[39m\u001b[38;5;124m'\u001b[39m, \u001b[38;5;124m'\u001b[39m\u001b[38;5;124mTokyo\u001b[39m\u001b[38;5;124m'\u001b[39m]: \n\u001b[1;32m----> 3\u001b[0m     \u001b[43mos\u001b[49m\u001b[38;5;241;43m.\u001b[39;49m\u001b[43mmkdir\u001b[49m\u001b[43m(\u001b[49m\u001b[43mcity\u001b[49m\u001b[43m)\u001b[49m \n\u001b[0;32m      6\u001b[0m \u001b[38;5;66;03m#print(f'{os.listdir()}')\u001b[39;00m\n",
      "\u001b[1;31mFileExistsError\u001b[0m: [WinError 183] Cannot create a file when that file already exists: 'Cairo'"
     ]
    }
   ],
   "source": [
    "for city in ['Cairo', 'Dhaka', 'Jakarta', 'Karachi', 'Manila', \n",
    " 'Melbourne', 'Osaka', 'Shanghai', 'Singapore', 'Tokyo']: \n",
    "    os.mkdir(city) \n",
    "    \n",
    " \n",
    "#print(f'{os.listdir()}')"
   ]
  },
  {
   "cell_type": "code",
   "execution_count": 44,
   "id": "956d8e03",
   "metadata": {},
   "outputs": [
    {
     "name": "stdout",
     "output_type": "stream",
     "text": [
      "['01-02_cairo.txt', '01-03_cairo.txt', '01-04_cairo.txt', '01-05_cairo.txt', '01-07_cairo.txt', '01-08_cairo.txt', '01-09_cairo.txt', '01-11_cairo.txt', '01-12_cairo.txt', '01-13_cairo.txt', '01-15_cairo.txt', '01-16_cairo.txt', '01-19_cairo.txt', '01-20_cairo.txt', '01-21_cairo.txt', '01-23_cairo.txt', '01-27_cairo.txt', '01-30_cairo.txt', '02-10_cairo.txt', '02-17_cairo.txt', '02-20_cairo.txt', '02-22_cairo.txt', '02-25_cairo.txt', '02-26_cairo.txt', '03-05_cairo.txt', '03-06_cairo.txt', '03-12_cairo.txt', '03-14_cairo.txt', '03-19_cairo.txt', '03-24_cairo.txt', '04-02_cairo.txt', '04-06_cairo.txt', '04-07_cairo.txt', '04-10_cairo.txt', '04-12_cairo.txt', '04-13_cairo.txt', '04-14_cairo.txt', '04-15_cairo.txt', '04-17_cairo.txt', '04-20_cairo.txt', '04-21_cairo.txt', '04-22_cairo.txt', '04-23_cairo.txt', '04-24_cairo.txt', '05-01_cairo.txt', '05-02_cairo.txt', '05-12_cairo.txt', '05-17_cairo.txt', '05-25_cairo.txt', '05-27_cairo.txt', '05-29_cairo.txt', '05-30_cairo.txt', '06-28_cairo.txt', '07-04_cairo.txt', '07-08_cairo.txt', '07-10_cairo.txt', '07-13_cairo.txt', '07-14_cairo.txt', '07-15_cairo.txt', '07-16_cairo.txt', '07-17_cairo.txt', '07-19_cairo.txt', '07-24_cairo.txt', '07-26_cairo.txt', '07-27_cairo.txt', '07-29_cairo.txt', '07-30_cairo.txt', '08-01_cairo.txt', '08-03_cairo.txt', '08-04_cairo.txt', '08-05_cairo.txt', '08-07_cairo.txt', '08-08_cairo.txt', '08-10_cairo.txt', '08-12_cairo.txt', '08-14_cairo.txt', '08-18_cairo.txt', '08-19_cairo.txt', '08-20_cairo.txt', '08-24_cairo.txt', '08-25_cairo.txt', '08-26_cairo.txt', '09-02_cairo.txt', '09-04_cairo.txt', '09-05_cairo.txt', '09-07_cairo.txt', '09-08_cairo.txt', '09-11_cairo.txt', '09-12_cairo.txt', '09-13_cairo.txt', '09-16_cairo.txt', '09-18_cairo.txt', '09-20_cairo.txt', '09-22_cairo.txt', '09-23_cairo.txt', '09-24_cairo.txt', '09-25_cairo.txt', '09-26_cairo.txt', '09-28_cairo.txt', '10-23_cairo.txt', '11-03_cairo.txt', '11-04_cairo.txt', '11-05_cairo.txt', '11-10_cairo.txt', '11-14_cairo.txt', '11-17_cairo.txt', '11-19_cairo.txt', '11-21_cairo.txt', '11-29_cairo.txt', '12-01_cairo.txt', '12-03_cairo.txt', '12-04_cairo.txt', '12-05_cairo.txt', '12-07_cairo.txt', '12-09_cairo.txt', '12-10_cairo.txt', '12-13_cairo.txt', '12-17_cairo.txt', '12-18_cairo.txt', '12-19_cairo.txt', '12-21_cairo.txt', '12-22_cairo.txt', '12-23_cairo.txt', '12-26_cairo.txt', '12-27_cairo.txt', '12-29_cairo.txt', 'apr-02_cairo.jpg', 'apr-06_cairo.png', 'apr-07_cairo.png', 'apr-10_cairo.png', 'apr-12_cairo.pdf', 'apr-12_cairo.png', 'apr-13_cairo.png', 'apr-14_cairo.jpg', 'apr-14_cairo.png', 'apr-15_cairo.jpg', 'apr-17_cairo.jpg', 'apr-17_cairo.pdf', 'apr-17_cairo.png', 'apr-20_cairo.jpg', 'apr-21_cairo.pdf', 'apr-22_cairo.pdf', 'apr-23_cairo.jpg', 'apr-24_cairo.jpg', 'aug-01_cairo.jpg', 'aug-01_cairo.png', 'aug-03_cairo.png', 'aug-04_cairo.jpg', 'aug-04_cairo.pdf', 'aug-05_cairo.pdf', 'aug-07_cairo.png', 'aug-08_cairo.jpg', 'aug-10_cairo.png', 'aug-12_cairo.jpg', 'aug-14_cairo.jpg', 'aug-14_cairo.png', 'aug-18_cairo.jpg', 'aug-19_cairo.jpg', 'aug-20_cairo.png', 'aug-24_cairo.pdf', 'aug-25_cairo.png', 'aug-26_cairo.png', 'dec-01_cairo.jpg', 'dec-03_cairo.jpg', 'dec-03_cairo.png', 'dec-04_cairo.jpg', 'dec-04_cairo.pdf', 'dec-04_cairo.png', 'dec-05_cairo.png', 'dec-07_cairo.jpg', 'dec-09_cairo.png', 'dec-10_cairo.jpg', 'dec-10_cairo.pdf', 'dec-13_cairo.pdf', 'dec-17_cairo.png', 'dec-18_cairo.jpg', 'dec-19_cairo.pdf', 'dec-21_cairo.png', 'dec-22_cairo.jpg', 'dec-23_cairo.pdf', 'dec-26_cairo.pdf', 'dec-27_cairo.png', 'dec-29_cairo.jpg', 'dec-29_cairo.png', 'feb-10_cairo.jpg', 'feb-10_cairo.pdf', 'feb-17_cairo.jpg', 'feb-20_cairo.png', 'feb-22_cairo.pdf', 'feb-22_cairo.png', 'feb-25_cairo.jpg', 'feb-25_cairo.pdf', 'feb-26_cairo.png', 'jan-02_cairo.pdf', 'jan-03_cairo.pdf', 'jan-04_cairo.jpg', 'jan-05_cairo.jpg', 'jan-07_cairo.jpg', 'jan-08_cairo.png', 'jan-09_cairo.jpg', 'jan-11_cairo.png', 'jan-12_cairo.pdf', 'jan-13_cairo.png', 'jan-15_cairo.jpg', 'jan-15_cairo.png', 'jan-16_cairo.png', 'jan-19_cairo.pdf', 'jan-20_cairo.pdf', 'jan-21_cairo.jpg', 'jan-23_cairo.png', 'jan-27_cairo.jpg', 'jan-30_cairo.pdf', 'jul-04_cairo.jpg', 'jul-08_cairo.png', 'jul-10_cairo.png', 'jul-13_cairo.png', 'jul-14_cairo.jpg', 'jul-15_cairo.pdf', 'jul-16_cairo.png', 'jul-17_cairo.pdf', 'jul-19_cairo.jpg', 'jul-24_cairo.pdf', 'jul-26_cairo.png', 'jul-27_cairo.png', 'jul-29_cairo.jpg', 'jul-30_cairo.png', 'jun-28_cairo.pdf', 'mar-05_cairo.pdf', 'mar-05_cairo.png', 'mar-06_cairo.pdf', 'mar-12_cairo.jpg', 'mar-14_cairo.pdf', 'mar-19_cairo.jpg', 'mar-24_cairo.pdf', 'may-01_cairo.png', 'may-02_cairo.png', 'may-12_cairo.png', 'may-17_cairo.png', 'may-25_cairo.png', 'may-27_cairo.pdf', 'may-29_cairo.pdf', 'may-30_cairo.jpg', 'may-30_cairo.png', 'nov-03_cairo.png', 'nov-04_cairo.pdf', 'nov-05_cairo.jpg', 'nov-05_cairo.png', 'nov-10_cairo.pdf', 'nov-14_cairo.pdf', 'nov-17_cairo.pdf', 'nov-19_cairo.jpg', 'nov-21_cairo.pdf', 'nov-29_cairo.pdf', 'oct-23_cairo.jpg', 'sep-02_cairo.png', 'sep-04_cairo.pdf', 'sep-05_cairo.pdf', 'sep-07_cairo.jpg', 'sep-08_cairo.pdf', 'sep-11_cairo.png', 'sep-12_cairo.png', 'sep-13_cairo.jpg', 'sep-13_cairo.png', 'sep-16_cairo.png', 'sep-18_cairo.pdf', 'sep-20_cairo.jpg', 'sep-22_cairo.pdf', 'sep-23_cairo.pdf', 'sep-24_cairo.pdf', 'sep-25_cairo.jpg', 'sep-25_cairo.pdf', 'sep-26_cairo.pdf', 'sep-28_cairo.jpg', 'sep-28_cairo.pdf', 'sep-28_cairo.png']\n"
     ]
    }
   ],
   "source": [
    "for file in glob.glob(\"*_cairo.*\"): \n",
    "    path_to_destination = os.path.join('Cairo',file) \n",
    "    shutil.copy(file,path_to_destination) \n",
    "print(f'{os.listdir(\"Cairo\")}')"
   ]
  },
  {
   "cell_type": "code",
   "execution_count": 45,
   "id": "f0bad765",
   "metadata": {},
   "outputs": [
    {
     "name": "stdout",
     "output_type": "stream",
     "text": [
      "['01-02_cairo.txt', '01-03_cairo.txt', '01-04_cairo.txt', '01-05_cairo.txt', '01-07_cairo.txt', '01-08_cairo.txt', '01-09_cairo.txt', '01-11_cairo.txt', '01-12_cairo.txt', '01-13_cairo.txt', '01-15_cairo.txt', '01-16_cairo.txt', '01-19_cairo.txt', '01-20_cairo.txt', '01-21_cairo.txt', '01-23_cairo.txt', '01-27_cairo.txt', '01-30_cairo.txt', '02-10_cairo.txt', '02-17_cairo.txt', '02-20_cairo.txt', '02-22_cairo.txt', '02-25_cairo.txt', '02-26_cairo.txt', '03-05_cairo.txt', '03-06_cairo.txt', '03-12_cairo.txt', '03-14_cairo.txt', '03-19_cairo.txt', '03-24_cairo.txt', '04-02_cairo.txt', '04-06_cairo.txt', '04-07_cairo.txt', '04-10_cairo.txt', '04-12_cairo.txt', '04-13_cairo.txt', '04-14_cairo.txt', '04-15_cairo.txt', '04-17_cairo.txt', '04-20_cairo.txt', '04-21_cairo.txt', '04-22_cairo.txt', '04-23_cairo.txt', '04-24_cairo.txt', '05-01_cairo.txt', '05-02_cairo.txt', '05-12_cairo.txt', '05-17_cairo.txt', '05-25_cairo.txt', '05-27_cairo.txt', '05-29_cairo.txt', '05-30_cairo.txt', '06-28_cairo.txt', '07-04_cairo.txt', '07-08_cairo.txt', '07-10_cairo.txt', '07-13_cairo.txt', '07-14_cairo.txt', '07-15_cairo.txt', '07-16_cairo.txt', '07-17_cairo.txt', '07-19_cairo.txt', '07-24_cairo.txt', '07-26_cairo.txt', '07-27_cairo.txt', '07-29_cairo.txt', '07-30_cairo.txt', '08-01_cairo.txt', '08-03_cairo.txt', '08-04_cairo.txt', '08-05_cairo.txt', '08-07_cairo.txt', '08-08_cairo.txt', '08-10_cairo.txt', '08-12_cairo.txt', '08-14_cairo.txt', '08-18_cairo.txt', '08-19_cairo.txt', '08-20_cairo.txt', '08-24_cairo.txt', '08-25_cairo.txt', '08-26_cairo.txt', '09-02_cairo.txt', '09-04_cairo.txt', '09-05_cairo.txt', '09-07_cairo.txt', '09-08_cairo.txt', '09-11_cairo.txt', '09-12_cairo.txt', '09-13_cairo.txt', '09-16_cairo.txt', '09-18_cairo.txt', '09-20_cairo.txt', '09-22_cairo.txt', '09-23_cairo.txt', '09-24_cairo.txt', '09-25_cairo.txt', '09-26_cairo.txt', '09-28_cairo.txt', '10-23_cairo.txt', '11-03_cairo.txt', '11-04_cairo.txt', '11-05_cairo.txt', '11-10_cairo.txt', '11-14_cairo.txt', '11-17_cairo.txt', '11-19_cairo.txt', '11-21_cairo.txt', '11-29_cairo.txt', '12-01_cairo.txt', '12-03_cairo.txt', '12-04_cairo.txt', '12-05_cairo.txt', '12-07_cairo.txt', '12-09_cairo.txt', '12-10_cairo.txt', '12-13_cairo.txt', '12-17_cairo.txt', '12-18_cairo.txt', '12-19_cairo.txt', '12-21_cairo.txt', '12-22_cairo.txt', '12-23_cairo.txt', '12-26_cairo.txt', '12-27_cairo.txt', '12-29_cairo.txt', 'apr-02_cairo.jpg', 'apr-06_cairo.png', 'apr-07_cairo.png', 'apr-10_cairo.png', 'apr-12_cairo.pdf', 'apr-12_cairo.png', 'apr-13_cairo.png', 'apr-14_cairo.jpg', 'apr-14_cairo.png', 'apr-15_cairo.jpg', 'apr-17_cairo.jpg', 'apr-17_cairo.pdf', 'apr-17_cairo.png', 'apr-20_cairo.jpg', 'apr-21_cairo.pdf', 'apr-22_cairo.pdf', 'apr-23_cairo.jpg', 'apr-24_cairo.jpg', 'aug-01_cairo.jpg', 'aug-01_cairo.png', 'aug-03_cairo.png', 'aug-04_cairo.jpg', 'aug-04_cairo.pdf', 'aug-05_cairo.pdf', 'aug-07_cairo.png', 'aug-08_cairo.jpg', 'aug-10_cairo.png', 'aug-12_cairo.jpg', 'aug-14_cairo.jpg', 'aug-14_cairo.png', 'aug-18_cairo.jpg', 'aug-19_cairo.jpg', 'aug-20_cairo.png', 'aug-24_cairo.pdf', 'aug-25_cairo.png', 'aug-26_cairo.png', 'dec-01_cairo.jpg', 'dec-03_cairo.jpg', 'dec-03_cairo.png', 'dec-04_cairo.jpg', 'dec-04_cairo.pdf', 'dec-04_cairo.png', 'dec-05_cairo.png', 'dec-07_cairo.jpg', 'dec-09_cairo.png', 'dec-10_cairo.jpg', 'dec-10_cairo.pdf', 'dec-13_cairo.pdf', 'dec-17_cairo.png', 'dec-18_cairo.jpg', 'dec-19_cairo.pdf', 'dec-21_cairo.png', 'dec-22_cairo.jpg', 'dec-23_cairo.pdf', 'dec-26_cairo.pdf', 'dec-27_cairo.png', 'dec-29_cairo.jpg', 'dec-29_cairo.png', 'feb-10_cairo.jpg', 'feb-10_cairo.pdf', 'feb-17_cairo.jpg', 'feb-20_cairo.png', 'feb-22_cairo.pdf', 'feb-22_cairo.png', 'feb-25_cairo.jpg', 'feb-25_cairo.pdf', 'feb-26_cairo.png', 'jan-02_cairo.pdf', 'jan-03_cairo.pdf', 'jan-04_cairo.jpg', 'jan-05_cairo.jpg', 'jan-07_cairo.jpg', 'jan-08_cairo.png', 'jan-09_cairo.jpg', 'jan-11_cairo.png', 'jan-12_cairo.pdf', 'jan-13_cairo.png', 'jan-15_cairo.jpg', 'jan-15_cairo.png', 'jan-16_cairo.png', 'jan-19_cairo.pdf', 'jan-20_cairo.pdf', 'jan-21_cairo.jpg', 'jan-23_cairo.png', 'jan-27_cairo.jpg', 'jan-30_cairo.pdf', 'jul-04_cairo.jpg', 'jul-08_cairo.png', 'jul-10_cairo.png', 'jul-13_cairo.png', 'jul-14_cairo.jpg', 'jul-15_cairo.pdf', 'jul-16_cairo.png', 'jul-17_cairo.pdf', 'jul-19_cairo.jpg', 'jul-24_cairo.pdf', 'jul-26_cairo.png', 'jul-27_cairo.png', 'jul-29_cairo.jpg', 'jul-30_cairo.png', 'jun-28_cairo.pdf', 'mar-05_cairo.pdf', 'mar-05_cairo.png', 'mar-06_cairo.pdf', 'mar-12_cairo.jpg', 'mar-14_cairo.pdf', 'mar-19_cairo.jpg', 'mar-24_cairo.pdf', 'may-01_cairo.png', 'may-02_cairo.png', 'may-12_cairo.png', 'may-17_cairo.png', 'may-25_cairo.png', 'may-27_cairo.pdf', 'may-29_cairo.pdf', 'may-30_cairo.jpg', 'may-30_cairo.png', 'nov-03_cairo.png', 'nov-04_cairo.pdf', 'nov-05_cairo.jpg', 'nov-05_cairo.png', 'nov-10_cairo.pdf', 'nov-14_cairo.pdf', 'nov-17_cairo.pdf', 'nov-19_cairo.jpg', 'nov-21_cairo.pdf', 'nov-29_cairo.pdf', 'oct-23_cairo.jpg', 'sep-02_cairo.png', 'sep-04_cairo.pdf', 'sep-05_cairo.pdf', 'sep-07_cairo.jpg', 'sep-08_cairo.pdf', 'sep-11_cairo.png', 'sep-12_cairo.png', 'sep-13_cairo.jpg', 'sep-13_cairo.png', 'sep-16_cairo.png', 'sep-18_cairo.pdf', 'sep-20_cairo.jpg', 'sep-22_cairo.pdf', 'sep-23_cairo.pdf', 'sep-24_cairo.pdf', 'sep-25_cairo.jpg', 'sep-25_cairo.pdf', 'sep-26_cairo.pdf', 'sep-28_cairo.jpg', 'sep-28_cairo.pdf', 'sep-28_cairo.png']\n",
      "['01-15_dhaka.txt', '02-01_dhaka.txt', '02-04_dhaka.txt', '02-08_dhaka.txt', '02-12_dhaka.txt', '02-14_dhaka.txt', '02-20_dhaka.txt', '02-22_dhaka.txt', '03-16_dhaka.txt', '04-19_dhaka.txt', '04-20_dhaka.txt', '04-23_dhaka.txt', '05-01_dhaka.txt', '05-02_dhaka.txt', '05-04_dhaka.txt', '05-05_dhaka.txt', '05-10_dhaka.txt', '05-11_dhaka.txt', '05-14_dhaka.txt', '05-15_dhaka.txt', '05-17_dhaka.txt', '05-21_dhaka.txt', '05-24_dhaka.txt', '05-26_dhaka.txt', '05-27_dhaka.txt', '05-28_dhaka.txt', '05-29_dhaka.txt', '05-30_dhaka.txt', '06-02_dhaka.txt', '06-04_dhaka.txt', '06-05_dhaka.txt', '06-07_dhaka.txt', '06-09_dhaka.txt', '06-11_dhaka.txt', '06-12_dhaka.txt', '06-17_dhaka.txt', '06-18_dhaka.txt', '06-19_dhaka.txt', '06-20_dhaka.txt', '06-21_dhaka.txt', '06-22_dhaka.txt', '06-23_dhaka.txt', '06-24_dhaka.txt', '06-25_dhaka.txt', '06-26_dhaka.txt', '06-27_dhaka.txt', '06-28_dhaka.txt', '07-01_dhaka.txt', '07-02_dhaka.txt', '07-05_dhaka.txt', '07-06_dhaka.txt', '07-08_dhaka.txt', '07-09_dhaka.txt', '07-10_dhaka.txt', '07-11_dhaka.txt', '07-12_dhaka.txt', '07-13_dhaka.txt', '07-15_dhaka.txt', '07-16_dhaka.txt', '07-18_dhaka.txt', '07-23_dhaka.txt', '07-24_dhaka.txt', '07-28_dhaka.txt', '07-30_dhaka.txt', '08-02_dhaka.txt', '08-03_dhaka.txt', '08-05_dhaka.txt', '08-06_dhaka.txt', '08-08_dhaka.txt', '08-09_dhaka.txt', '08-10_dhaka.txt', '08-11_dhaka.txt', '08-14_dhaka.txt', '08-18_dhaka.txt', '08-19_dhaka.txt', '08-20_dhaka.txt', '08-22_dhaka.txt', '08-23_dhaka.txt', '08-25_dhaka.txt', '08-26_dhaka.txt', '08-27_dhaka.txt', '08-30_dhaka.txt', '09-19_dhaka.txt', '09-25_dhaka.txt', '09-29_dhaka.txt', '10-01_dhaka.txt', '10-02_dhaka.txt', '10-04_dhaka.txt', '10-05_dhaka.txt', '10-07_dhaka.txt', '10-09_dhaka.txt', '10-10_dhaka.txt', '10-11_dhaka.txt', '10-12_dhaka.txt', '10-14_dhaka.txt', '10-18_dhaka.txt', '10-21_dhaka.txt', '10-24_dhaka.txt', '10-27_dhaka.txt', '10-29_dhaka.txt', '10-30_dhaka.txt', '11-01_dhaka.txt', '11-02_dhaka.txt', '11-03_dhaka.txt', '11-04_dhaka.txt', '11-06_dhaka.txt', '11-07_dhaka.txt', '11-08_dhaka.txt', '11-11_dhaka.txt', '11-14_dhaka.txt', '11-15_dhaka.txt', '11-16_dhaka.txt', '11-18_dhaka.txt', '11-20_dhaka.txt', '11-22_dhaka.txt', '11-24_dhaka.txt', '11-27_dhaka.txt', '11-28_dhaka.txt', '11-29_dhaka.txt', '12-02_dhaka.txt', '12-03_dhaka.txt', '12-04_dhaka.txt', '12-06_dhaka.txt', '12-09_dhaka.txt', '12-11_dhaka.txt', '12-16_dhaka.txt', '12-17_dhaka.txt', '12-18_dhaka.txt', '12-19_dhaka.txt', '12-20_dhaka.txt', '12-21_dhaka.txt', '12-24_dhaka.txt', '12-27_dhaka.txt', '12-28_dhaka.txt', '12-29_dhaka.txt', '12-30_dhaka.txt', 'apr-19_dhaka.png', 'apr-20_dhaka.png', 'apr-23_dhaka.pdf', 'aug-02_dhaka.jpg', 'aug-03_dhaka.jpg', 'aug-03_dhaka.png', 'aug-05_dhaka.png', 'aug-06_dhaka.pdf', 'aug-08_dhaka.pdf', 'aug-09_dhaka.pdf', 'aug-10_dhaka.jpg', 'aug-10_dhaka.pdf', 'aug-11_dhaka.pdf', 'aug-14_dhaka.pdf', 'aug-18_dhaka.png', 'aug-19_dhaka.jpg', 'aug-20_dhaka.pdf', 'aug-22_dhaka.png', 'aug-23_dhaka.pdf', 'aug-25_dhaka.jpg', 'aug-26_dhaka.jpg', 'aug-27_dhaka.png', 'aug-30_dhaka.pdf', 'dec-02_dhaka.png', 'dec-03_dhaka.pdf', 'dec-04_dhaka.pdf', 'dec-06_dhaka.jpg', 'dec-09_dhaka.jpg', 'dec-11_dhaka.png', 'dec-16_dhaka.pdf', 'dec-16_dhaka.png', 'dec-17_dhaka.pdf', 'dec-18_dhaka.png', 'dec-19_dhaka.png', 'dec-20_dhaka.jpg', 'dec-21_dhaka.pdf', 'dec-21_dhaka.png', 'dec-24_dhaka.pdf', 'dec-27_dhaka.jpg', 'dec-28_dhaka.jpg', 'dec-29_dhaka.png', 'dec-30_dhaka.pdf', 'feb-01_dhaka.png', 'feb-04_dhaka.pdf', 'feb-08_dhaka.png', 'feb-12_dhaka.pdf', 'feb-14_dhaka.png', 'feb-20_dhaka.jpg', 'feb-22_dhaka.jpg', 'jan-15_dhaka.jpg', 'jul-01_dhaka.png', 'jul-02_dhaka.pdf', 'jul-05_dhaka.pdf', 'jul-05_dhaka.png', 'jul-06_dhaka.pdf', 'jul-06_dhaka.png', 'jul-08_dhaka.pdf', 'jul-09_dhaka.jpg', 'jul-10_dhaka.jpg', 'jul-10_dhaka.pdf', 'jul-11_dhaka.pdf', 'jul-12_dhaka.png', 'jul-13_dhaka.pdf', 'jul-15_dhaka.png', 'jul-16_dhaka.jpg', 'jul-16_dhaka.pdf', 'jul-18_dhaka.png', 'jul-23_dhaka.png', 'jul-24_dhaka.jpg', 'jul-28_dhaka.png', 'jul-30_dhaka.pdf', 'jun-02_dhaka.jpg', 'jun-04_dhaka.pdf', 'jun-05_dhaka.pdf', 'jun-07_dhaka.jpg', 'jun-09_dhaka.png', 'jun-11_dhaka.pdf', 'jun-12_dhaka.pdf', 'jun-17_dhaka.pdf', 'jun-17_dhaka.png', 'jun-18_dhaka.pdf', 'jun-18_dhaka.png', 'jun-19_dhaka.pdf', 'jun-19_dhaka.png', 'jun-20_dhaka.png', 'jun-21_dhaka.pdf', 'jun-22_dhaka.pdf', 'jun-23_dhaka.pdf', 'jun-24_dhaka.jpg', 'jun-25_dhaka.pdf', 'jun-26_dhaka.jpg', 'jun-27_dhaka.jpg', 'jun-28_dhaka.png', 'mar-16_dhaka.pdf', 'may-01_dhaka.pdf', 'may-01_dhaka.png', 'may-02_dhaka.jpg', 'may-02_dhaka.png', 'may-04_dhaka.pdf', 'may-05_dhaka.pdf', 'may-10_dhaka.png', 'may-11_dhaka.png', 'may-14_dhaka.pdf', 'may-15_dhaka.png', 'may-17_dhaka.jpg', 'may-17_dhaka.pdf', 'may-21_dhaka.jpg', 'may-24_dhaka.jpg', 'may-26_dhaka.jpg', 'may-26_dhaka.png', 'may-27_dhaka.jpg', 'may-28_dhaka.png', 'may-29_dhaka.jpg', 'may-30_dhaka.png', 'nov-01_dhaka.pdf', 'nov-02_dhaka.jpg', 'nov-02_dhaka.pdf', 'nov-03_dhaka.jpg', 'nov-04_dhaka.jpg', 'nov-06_dhaka.jpg', 'nov-07_dhaka.pdf', 'nov-08_dhaka.pdf', 'nov-11_dhaka.jpg', 'nov-11_dhaka.pdf', 'nov-14_dhaka.jpg', 'nov-15_dhaka.jpg', 'nov-15_dhaka.png', 'nov-16_dhaka.pdf', 'nov-18_dhaka.jpg', 'nov-18_dhaka.pdf', 'nov-20_dhaka.png', 'nov-22_dhaka.jpg', 'nov-24_dhaka.png', 'nov-27_dhaka.jpg', 'nov-28_dhaka.jpg', 'nov-29_dhaka.png', 'oct-01_dhaka.jpg', 'oct-02_dhaka.pdf', 'oct-04_dhaka.pdf', 'oct-04_dhaka.png', 'oct-05_dhaka.jpg', 'oct-07_dhaka.pdf', 'oct-09_dhaka.pdf', 'oct-10_dhaka.pdf', 'oct-10_dhaka.png', 'oct-11_dhaka.png', 'oct-12_dhaka.png', 'oct-14_dhaka.png', 'oct-18_dhaka.jpg', 'oct-18_dhaka.pdf', 'oct-21_dhaka.pdf', 'oct-24_dhaka.png', 'oct-27_dhaka.jpg', 'oct-29_dhaka.pdf', 'oct-29_dhaka.png', 'oct-30_dhaka.jpg', 'oct-30_dhaka.pdf', 'sep-19_dhaka.jpg', 'sep-25_dhaka.png', 'sep-29_dhaka.jpg']\n"
     ]
    },
    {
     "name": "stdout",
     "output_type": "stream",
     "text": [
      "['01-03_jakarta.txt', '01-04_jakarta.txt', '01-06_jakarta.txt', '01-10_jakarta.txt', '01-12_jakarta.txt', '01-13_jakarta.txt', '01-16_jakarta.txt', '01-19_jakarta.txt', '01-23_jakarta.txt', '01-24_jakarta.txt', '01-26_jakarta.txt', '01-30_jakarta.txt', '02-02_jakarta.txt', '02-04_jakarta.txt', '02-06_jakarta.txt', '02-09_jakarta.txt', '02-10_jakarta.txt', '02-14_jakarta.txt', '02-15_jakarta.txt', '02-20_jakarta.txt', '02-21_jakarta.txt', '02-26_jakarta.txt', '02-27_jakarta.txt', '03-04_jakarta.txt', '03-09_jakarta.txt', '03-11_jakarta.txt', '03-15_jakarta.txt', '03-17_jakarta.txt', '03-18_jakarta.txt', '03-20_jakarta.txt', '03-23_jakarta.txt', '03-25_jakarta.txt', '03-30_jakarta.txt', '04-02_jakarta.txt', '04-06_jakarta.txt', '04-13_jakarta.txt', '04-15_jakarta.txt', '04-16_jakarta.txt', '04-20_jakarta.txt', '04-21_jakarta.txt', '04-23_jakarta.txt', '04-24_jakarta.txt', '04-26_jakarta.txt', '04-28_jakarta.txt', '05-01_jakarta.txt', '05-02_jakarta.txt', '05-03_jakarta.txt', '05-05_jakarta.txt', '05-07_jakarta.txt', '05-08_jakarta.txt', '05-13_jakarta.txt', '05-15_jakarta.txt', '05-16_jakarta.txt', '05-17_jakarta.txt', '05-22_jakarta.txt', '05-25_jakarta.txt', '05-28_jakarta.txt', '05-29_jakarta.txt', '06-03_jakarta.txt', '06-04_jakarta.txt', '06-08_jakarta.txt', '06-10_jakarta.txt', '06-15_jakarta.txt', '06-21_jakarta.txt', '06-22_jakarta.txt', '06-25_jakarta.txt', '06-28_jakarta.txt', '07-04_jakarta.txt', '07-09_jakarta.txt', '07-12_jakarta.txt', '07-14_jakarta.txt', '07-16_jakarta.txt', '07-18_jakarta.txt', '07-21_jakarta.txt', '07-23_jakarta.txt', '07-24_jakarta.txt', '07-27_jakarta.txt', '07-28_jakarta.txt', '07-30_jakarta.txt', '08-02_jakarta.txt', '08-05_jakarta.txt', '08-07_jakarta.txt', '08-09_jakarta.txt', '08-11_jakarta.txt', '08-12_jakarta.txt', '08-13_jakarta.txt', '08-17_jakarta.txt', '08-20_jakarta.txt', '08-21_jakarta.txt', '08-22_jakarta.txt', '08-26_jakarta.txt', '08-28_jakarta.txt', '09-03_jakarta.txt', '09-05_jakarta.txt', '09-11_jakarta.txt', '09-12_jakarta.txt', '09-13_jakarta.txt', '09-15_jakarta.txt', '09-16_jakarta.txt', '09-18_jakarta.txt', '09-19_jakarta.txt', '09-20_jakarta.txt', '09-21_jakarta.txt', '09-24_jakarta.txt', '09-25_jakarta.txt', '09-27_jakarta.txt', '09-29_jakarta.txt', '10-03_jakarta.txt', '10-04_jakarta.txt', '10-05_jakarta.txt', '10-06_jakarta.txt', '10-07_jakarta.txt', '10-08_jakarta.txt', '10-09_jakarta.txt', '10-10_jakarta.txt', '10-12_jakarta.txt', '10-13_jakarta.txt', '10-14_jakarta.txt', '10-15_jakarta.txt', '10-16_jakarta.txt', '10-17_jakarta.txt', '10-23_jakarta.txt', '10-24_jakarta.txt', '10-26_jakarta.txt', '10-27_jakarta.txt', '10-29_jakarta.txt', '11-19_jakarta.txt', '11-20_jakarta.txt', '12-03_jakarta.txt', '12-04_jakarta.txt', '12-07_jakarta.txt', '12-09_jakarta.txt', '12-11_jakarta.txt', '12-12_jakarta.txt', '12-15_jakarta.txt', '12-16_jakarta.txt', '12-18_jakarta.txt', '12-20_jakarta.txt', '12-23_jakarta.txt', '12-26_jakarta.txt', '12-27_jakarta.txt', '12-29_jakarta.txt', '12-30_jakarta.txt', 'apr-02_jakarta.png', 'apr-06_jakarta.pdf', 'apr-13_jakarta.pdf', 'apr-13_jakarta.png', 'apr-15_jakarta.pdf', 'apr-15_jakarta.png', 'apr-16_jakarta.png', 'apr-20_jakarta.pdf', 'apr-21_jakarta.png', 'apr-23_jakarta.pdf', 'apr-23_jakarta.png', 'apr-24_jakarta.png', 'apr-26_jakarta.jpg', 'apr-26_jakarta.pdf', 'apr-28_jakarta.pdf', 'aug-02_jakarta.jpg', 'aug-05_jakarta.jpg', 'aug-07_jakarta.jpg', 'aug-07_jakarta.png', 'aug-09_jakarta.jpg', 'aug-11_jakarta.jpg', 'aug-12_jakarta.pdf', 'aug-13_jakarta.jpg', 'aug-17_jakarta.png', 'aug-20_jakarta.jpg', 'aug-20_jakarta.png', 'aug-21_jakarta.pdf', 'aug-22_jakarta.pdf', 'aug-26_jakarta.pdf', 'aug-28_jakarta.jpg', 'dec-03_jakarta.png', 'dec-04_jakarta.png', 'dec-07_jakarta.jpg', 'dec-09_jakarta.jpg', 'dec-11_jakarta.jpg', 'dec-12_jakarta.pdf', 'dec-15_jakarta.jpg', 'dec-15_jakarta.png', 'dec-16_jakarta.png', 'dec-18_jakarta.pdf', 'dec-20_jakarta.jpg', 'dec-20_jakarta.pdf', 'dec-23_jakarta.jpg', 'dec-26_jakarta.pdf', 'dec-27_jakarta.png', 'dec-29_jakarta.png', 'dec-30_jakarta.png', 'feb-02_jakarta.png', 'feb-04_jakarta.png', 'feb-06_jakarta.jpg', 'feb-09_jakarta.png', 'feb-10_jakarta.png', 'feb-14_jakarta.png', 'feb-15_jakarta.jpg', 'feb-20_jakarta.pdf', 'feb-21_jakarta.jpg', 'feb-26_jakarta.png', 'feb-27_jakarta.png', 'jan-03_jakarta.jpg', 'jan-04_jakarta.jpg', 'jan-06_jakarta.jpg', 'jan-06_jakarta.pdf', 'jan-06_jakarta.png', 'jan-10_jakarta.png', 'jan-12_jakarta.jpg', 'jan-12_jakarta.pdf', 'jan-13_jakarta.jpg', 'jan-16_jakarta.jpg', 'jan-16_jakarta.pdf', 'jan-16_jakarta.png', 'jan-19_jakarta.jpg', 'jan-23_jakarta.jpg', 'jan-24_jakarta.pdf', 'jan-26_jakarta.png', 'jan-30_jakarta.jpg', 'jan-30_jakarta.png', 'jul-04_jakarta.png', 'jul-09_jakarta.pdf', 'jul-12_jakarta.jpg', 'jul-12_jakarta.png', 'jul-14_jakarta.png', 'jul-16_jakarta.png', 'jul-18_jakarta.pdf', 'jul-21_jakarta.jpg', 'jul-23_jakarta.jpg', 'jul-24_jakarta.pdf', 'jul-24_jakarta.png', 'jul-27_jakarta.pdf', 'jul-28_jakarta.pdf', 'jul-30_jakarta.pdf', 'jun-03_jakarta.pdf', 'jun-04_jakarta.jpg', 'jun-08_jakarta.png', 'jun-10_jakarta.pdf', 'jun-15_jakarta.pdf', 'jun-15_jakarta.png', 'jun-21_jakarta.pdf', 'jun-22_jakarta.jpg', 'jun-25_jakarta.png', 'jun-28_jakarta.jpg', 'jun-28_jakarta.png', 'mar-04_jakarta.pdf', 'mar-09_jakarta.pdf', 'mar-11_jakarta.jpg', 'mar-15_jakarta.jpg', 'mar-17_jakarta.jpg', 'mar-18_jakarta.png', 'mar-20_jakarta.pdf', 'mar-23_jakarta.jpg', 'mar-23_jakarta.pdf', 'mar-25_jakarta.png', 'mar-30_jakarta.jpg', 'may-01_jakarta.jpg', 'may-02_jakarta.jpg', 'may-03_jakarta.jpg', 'may-05_jakarta.jpg', 'may-07_jakarta.jpg', 'may-08_jakarta.jpg', 'may-08_jakarta.png', 'may-13_jakarta.jpg', 'may-13_jakarta.pdf', 'may-13_jakarta.png', 'may-15_jakarta.jpg', 'may-16_jakarta.png', 'may-17_jakarta.pdf', 'may-17_jakarta.png', 'may-22_jakarta.pdf', 'may-25_jakarta.pdf', 'may-28_jakarta.pdf', 'may-29_jakarta.png', 'nov-19_jakarta.jpg', 'nov-20_jakarta.pdf', 'oct-03_jakarta.pdf', 'oct-04_jakarta.pdf', 'oct-05_jakarta.jpg', 'oct-06_jakarta.jpg', 'oct-07_jakarta.png', 'oct-08_jakarta.jpg', 'oct-08_jakarta.pdf', 'oct-09_jakarta.png', 'oct-10_jakarta.jpg', 'oct-10_jakarta.pdf', 'oct-12_jakarta.jpg', 'oct-12_jakarta.png', 'oct-13_jakarta.jpg', 'oct-14_jakarta.pdf', 'oct-14_jakarta.png', 'oct-15_jakarta.jpg', 'oct-16_jakarta.jpg', 'oct-16_jakarta.pdf', 'oct-17_jakarta.png', 'oct-23_jakarta.jpg', 'oct-24_jakarta.png', 'oct-26_jakarta.png', 'oct-27_jakarta.jpg', 'oct-29_jakarta.jpg', 'oct-29_jakarta.pdf', 'sep-03_jakarta.png', 'sep-05_jakarta.pdf', 'sep-11_jakarta.pdf', 'sep-12_jakarta.pdf', 'sep-13_jakarta.jpg', 'sep-15_jakarta.jpg', 'sep-16_jakarta.jpg', 'sep-16_jakarta.pdf', 'sep-16_jakarta.png', 'sep-18_jakarta.jpg', 'sep-19_jakarta.pdf', 'sep-20_jakarta.pdf', 'sep-21_jakarta.jpg', 'sep-24_jakarta.jpg', 'sep-25_jakarta.pdf', 'sep-27_jakarta.png', 'sep-29_jakarta.png']\n",
      "['01-02_karachi.txt', '01-03_karachi.txt', '01-04_karachi.txt', '01-06_karachi.txt', '01-09_karachi.txt', '01-10_karachi.txt', '01-12_karachi.txt', '01-14_karachi.txt', '01-17_karachi.txt', '01-18_karachi.txt', '01-19_karachi.txt', '01-20_karachi.txt', '01-21_karachi.txt', '01-22_karachi.txt', '01-24_karachi.txt', '01-25_karachi.txt', '01-26_karachi.txt', '01-28_karachi.txt', '01-30_karachi.txt', '02-06_karachi.txt', '02-08_karachi.txt', '02-17_karachi.txt', '03-06_karachi.txt', '04-02_karachi.txt', '04-05_karachi.txt', '04-06_karachi.txt', '04-12_karachi.txt', '04-16_karachi.txt', '04-20_karachi.txt', '04-26_karachi.txt', '04-27_karachi.txt', '05-03_karachi.txt', '05-05_karachi.txt', '05-06_karachi.txt', '05-10_karachi.txt', '05-17_karachi.txt', '05-18_karachi.txt', '05-20_karachi.txt', '05-23_karachi.txt', '05-26_karachi.txt', '05-27_karachi.txt', '05-28_karachi.txt', '05-29_karachi.txt', '05-30_karachi.txt', '06-09_karachi.txt', '06-11_karachi.txt', '06-12_karachi.txt', '06-16_karachi.txt', '06-18_karachi.txt', '06-22_karachi.txt', '06-29_karachi.txt', '07-01_karachi.txt', '07-04_karachi.txt', '07-08_karachi.txt', '07-09_karachi.txt', '07-12_karachi.txt', '07-14_karachi.txt', '07-16_karachi.txt', '07-21_karachi.txt', '07-23_karachi.txt', '07-24_karachi.txt', '07-25_karachi.txt', '08-02_karachi.txt', '08-04_karachi.txt', '08-11_karachi.txt', '08-12_karachi.txt', '08-14_karachi.txt', '08-17_karachi.txt', '08-19_karachi.txt', '08-20_karachi.txt', '08-21_karachi.txt', '08-26_karachi.txt', '08-29_karachi.txt', '09-04_karachi.txt', '09-06_karachi.txt', '09-07_karachi.txt', '09-10_karachi.txt', '09-20_karachi.txt', '09-21_karachi.txt', '09-22_karachi.txt', '09-25_karachi.txt', '09-26_karachi.txt', '09-28_karachi.txt', '09-29_karachi.txt', '10-03_karachi.txt', '10-05_karachi.txt', '10-19_karachi.txt', '10-28_karachi.txt', '11-01_karachi.txt', '11-09_karachi.txt', '11-14_karachi.txt', '11-22_karachi.txt', '11-25_karachi.txt', '11-28_karachi.txt', '11-29_karachi.txt', '12-07_karachi.txt', '12-10_karachi.txt', '12-13_karachi.txt', '12-17_karachi.txt', '12-20_karachi.txt', '12-26_karachi.txt', '12-27_karachi.txt', '12-28_karachi.txt', '12-29_karachi.txt', 'apr-02_karachi.pdf', 'apr-02_karachi.png', 'apr-05_karachi.jpg', 'apr-06_karachi.pdf', 'apr-12_karachi.pdf', 'apr-16_karachi.pdf', 'apr-16_karachi.png', 'apr-20_karachi.jpg', 'apr-26_karachi.png', 'apr-27_karachi.pdf', 'apr-27_karachi.png', 'aug-02_karachi.pdf', 'aug-04_karachi.png', 'aug-11_karachi.jpg', 'aug-12_karachi.pdf', 'aug-14_karachi.jpg', 'aug-17_karachi.pdf', 'aug-19_karachi.png', 'aug-20_karachi.png', 'aug-21_karachi.jpg', 'aug-21_karachi.pdf', 'aug-26_karachi.pdf', 'aug-29_karachi.jpg', 'dec-07_karachi.jpg', 'dec-07_karachi.pdf', 'dec-10_karachi.pdf', 'dec-13_karachi.pdf', 'dec-17_karachi.jpg', 'dec-17_karachi.pdf', 'dec-20_karachi.pdf', 'dec-26_karachi.png', 'dec-27_karachi.jpg', 'dec-27_karachi.pdf', 'dec-28_karachi.jpg', 'dec-29_karachi.png', 'feb-06_karachi.pdf', 'feb-08_karachi.pdf', 'feb-17_karachi.png', 'jan-02_karachi.jpg', 'jan-03_karachi.png', 'jan-04_karachi.png', 'jan-06_karachi.pdf', 'jan-06_karachi.png', 'jan-09_karachi.jpg', 'jan-09_karachi.png', 'jan-10_karachi.pdf', 'jan-12_karachi.jpg', 'jan-14_karachi.png', 'jan-17_karachi.pdf', 'jan-18_karachi.pdf', 'jan-18_karachi.png', 'jan-19_karachi.pdf', 'jan-20_karachi.jpg', 'jan-21_karachi.png', 'jan-22_karachi.png', 'jan-24_karachi.pdf', 'jan-25_karachi.pdf', 'jan-25_karachi.png', 'jan-26_karachi.jpg', 'jan-28_karachi.pdf', 'jan-28_karachi.png', 'jan-30_karachi.pdf', 'jul-01_karachi.png', 'jul-04_karachi.jpg', 'jul-08_karachi.jpg', 'jul-09_karachi.jpg', 'jul-12_karachi.pdf', 'jul-12_karachi.png', 'jul-14_karachi.pdf', 'jul-14_karachi.png', 'jul-16_karachi.pdf', 'jul-21_karachi.jpg', 'jul-23_karachi.png', 'jul-24_karachi.jpg', 'jul-25_karachi.jpg', 'jul-25_karachi.png', 'jun-09_karachi.png', 'jun-11_karachi.jpg', 'jun-12_karachi.png', 'jun-16_karachi.pdf', 'jun-18_karachi.pdf', 'jun-22_karachi.pdf', 'jun-29_karachi.png', 'mar-06_karachi.pdf', 'may-03_karachi.jpg', 'may-05_karachi.pdf', 'may-06_karachi.pdf', 'may-10_karachi.pdf', 'may-17_karachi.pdf', 'may-18_karachi.png', 'may-20_karachi.jpg', 'may-23_karachi.jpg', 'may-23_karachi.png', 'may-26_karachi.pdf', 'may-27_karachi.jpg', 'may-28_karachi.jpg', 'may-29_karachi.pdf', 'may-30_karachi.png', 'nov-01_karachi.jpg', 'nov-09_karachi.jpg', 'nov-14_karachi.pdf', 'nov-22_karachi.jpg', 'nov-25_karachi.jpg', 'nov-25_karachi.pdf', 'nov-28_karachi.jpg', 'nov-28_karachi.pdf', 'nov-29_karachi.png', 'oct-03_karachi.png', 'oct-05_karachi.png', 'oct-19_karachi.jpg', 'oct-28_karachi.png', 'sep-04_karachi.png', 'sep-06_karachi.pdf', 'sep-06_karachi.png', 'sep-07_karachi.jpg', 'sep-07_karachi.png', 'sep-10_karachi.jpg', 'sep-20_karachi.png', 'sep-21_karachi.pdf', 'sep-22_karachi.jpg', 'sep-22_karachi.png', 'sep-25_karachi.jpg', 'sep-26_karachi.pdf', 'sep-26_karachi.png', 'sep-28_karachi.png', 'sep-29_karachi.jpg']\n"
     ]
    },
    {
     "name": "stdout",
     "output_type": "stream",
     "text": [
      "['01-01_manila.txt', '01-02_manila.txt', '01-04_manila.txt', '01-08_manila.txt', '01-09_manila.txt', '01-11_manila.txt', '01-14_manila.txt', '01-15_manila.txt', '01-18_manila.txt', '01-19_manila.txt', '01-23_manila.txt', '01-24_manila.txt', '01-25_manila.txt', '01-26_manila.txt', '01-30_manila.txt', '02-01_manila.txt', '02-03_manila.txt', '02-04_manila.txt', '02-05_manila.txt', '02-06_manila.txt', '02-07_manila.txt', '02-08_manila.txt', '02-09_manila.txt', '02-10_manila.txt', '02-12_manila.txt', '02-13_manila.txt', '02-15_manila.txt', '02-18_manila.txt', '02-21_manila.txt', '02-22_manila.txt', '02-23_manila.txt', '02-24_manila.txt', '02-26_manila.txt', '02-27_manila.txt', '03-02_manila.txt', '03-08_manila.txt', '03-09_manila.txt', '03-10_manila.txt', '03-12_manila.txt', '03-13_manila.txt', '03-16_manila.txt', '03-17_manila.txt', '03-18_manila.txt', '03-20_manila.txt', '03-22_manila.txt', '03-24_manila.txt', '03-25_manila.txt', '03-26_manila.txt', '03-29_manila.txt', '04-03_manila.txt', '04-04_manila.txt', '04-06_manila.txt', '04-07_manila.txt', '04-10_manila.txt', '04-13_manila.txt', '04-14_manila.txt', '04-17_manila.txt', '04-21_manila.txt', '04-22_manila.txt', '04-24_manila.txt', '04-25_manila.txt', '04-28_manila.txt', '04-29_manila.txt', '05-04_manila.txt', '05-05_manila.txt', '05-09_manila.txt', '05-10_manila.txt', '05-11_manila.txt', '05-24_manila.txt', '05-26_manila.txt', '05-27_manila.txt', '05-30_manila.txt', '06-03_manila.txt', '06-05_manila.txt', '06-10_manila.txt', '06-12_manila.txt', '06-13_manila.txt', '06-15_manila.txt', '06-16_manila.txt', '06-17_manila.txt', '06-18_manila.txt', '06-20_manila.txt', '06-22_manila.txt', '06-24_manila.txt', '06-25_manila.txt', '06-26_manila.txt', '06-27_manila.txt', '07-01_manila.txt', '07-03_manila.txt', '07-06_manila.txt', '07-07_manila.txt', '07-08_manila.txt', '07-15_manila.txt', '07-16_manila.txt', '07-19_manila.txt', '07-20_manila.txt', '07-21_manila.txt', '07-22_manila.txt', '07-25_manila.txt', '07-27_manila.txt', '07-28_manila.txt', '08-03_manila.txt', '08-05_manila.txt', '08-11_manila.txt', '08-12_manila.txt', '08-13_manila.txt', '08-15_manila.txt', '08-16_manila.txt', '08-17_manila.txt', '08-19_manila.txt', '08-21_manila.txt', '08-22_manila.txt', '08-24_manila.txt', '08-25_manila.txt', '08-26_manila.txt', '08-28_manila.txt', '08-29_manila.txt', '09-01_manila.txt', '09-05_manila.txt', '09-09_manila.txt', '09-11_manila.txt', '09-17_manila.txt', '10-02_manila.txt', '10-04_manila.txt', '10-05_manila.txt', '10-06_manila.txt', '10-08_manila.txt', '10-09_manila.txt', '10-10_manila.txt', '10-11_manila.txt', '10-13_manila.txt', '10-14_manila.txt', '10-19_manila.txt', '10-20_manila.txt', '10-21_manila.txt', '10-25_manila.txt', '10-28_manila.txt', '10-30_manila.txt', '11-02_manila.txt', '11-05_manila.txt', '11-08_manila.txt', '11-09_manila.txt', '11-10_manila.txt', '11-14_manila.txt', '11-15_manila.txt', '11-17_manila.txt', '11-20_manila.txt', '11-21_manila.txt', '12-18_manila.txt', '12-23_manila.txt', '12-30_manila.txt', 'apr-03_manila.jpg', 'apr-04_manila.jpg', 'apr-06_manila.jpg', 'apr-07_manila.pdf', 'apr-10_manila.jpg', 'apr-10_manila.png', 'apr-13_manila.jpg', 'apr-14_manila.jpg', 'apr-14_manila.pdf', 'apr-17_manila.jpg', 'apr-17_manila.pdf', 'apr-21_manila.jpg', 'apr-21_manila.pdf', 'apr-21_manila.png', 'apr-22_manila.png', 'apr-24_manila.jpg', 'apr-24_manila.pdf', 'apr-24_manila.png', 'apr-25_manila.jpg', 'apr-28_manila.png', 'apr-29_manila.pdf', 'aug-03_manila.jpg', 'aug-03_manila.pdf', 'aug-05_manila.pdf', 'aug-05_manila.png', 'aug-11_manila.jpg', 'aug-12_manila.png', 'aug-13_manila.jpg', 'aug-15_manila.jpg', 'aug-15_manila.pdf', 'aug-16_manila.pdf', 'aug-17_manila.png', 'aug-19_manila.pdf', 'aug-21_manila.jpg', 'aug-22_manila.jpg', 'aug-24_manila.jpg', 'aug-25_manila.png', 'aug-26_manila.png', 'aug-28_manila.pdf', 'aug-29_manila.png', 'dec-18_manila.pdf', 'dec-23_manila.jpg', 'dec-30_manila.jpg', 'feb-01_manila.pdf', 'feb-03_manila.jpg', 'feb-04_manila.jpg', 'feb-05_manila.png', 'feb-06_manila.jpg', 'feb-06_manila.png', 'feb-07_manila.png', 'feb-08_manila.pdf', 'feb-08_manila.png', 'feb-09_manila.jpg', 'feb-10_manila.jpg', 'feb-12_manila.pdf', 'feb-13_manila.jpg', 'feb-15_manila.pdf', 'feb-15_manila.png', 'feb-18_manila.jpg', 'feb-21_manila.jpg', 'feb-22_manila.pdf', 'feb-22_manila.png', 'feb-23_manila.pdf', 'feb-24_manila.pdf', 'feb-26_manila.png', 'feb-27_manila.pdf', 'jan-01_manila.jpg', 'jan-02_manila.png', 'jan-04_manila.pdf', 'jan-04_manila.png', 'jan-08_manila.png', 'jan-09_manila.pdf', 'jan-11_manila.jpg', 'jan-11_manila.png', 'jan-14_manila.png', 'jan-15_manila.png', 'jan-18_manila.pdf', 'jan-19_manila.png', 'jan-23_manila.png', 'jan-24_manila.jpg', 'jan-25_manila.jpg', 'jan-26_manila.pdf', 'jan-30_manila.jpg', 'jul-01_manila.pdf', 'jul-03_manila.jpg', 'jul-06_manila.pdf', 'jul-07_manila.png', 'jul-08_manila.pdf', 'jul-15_manila.png', 'jul-16_manila.png', 'jul-19_manila.png', 'jul-20_manila.png', 'jul-21_manila.png', 'jul-22_manila.jpg', 'jul-25_manila.jpg', 'jul-27_manila.png', 'jul-28_manila.pdf', 'jun-03_manila.pdf', 'jun-03_manila.png', 'jun-05_manila.jpg', 'jun-05_manila.png', 'jun-10_manila.pdf', 'jun-12_manila.jpg', 'jun-12_manila.png', 'jun-13_manila.jpg', 'jun-15_manila.pdf', 'jun-16_manila.jpg', 'jun-16_manila.png', 'jun-17_manila.jpg', 'jun-17_manila.pdf', 'jun-17_manila.png', 'jun-18_manila.pdf', 'jun-20_manila.pdf', 'jun-20_manila.png', 'jun-22_manila.png', 'jun-24_manila.pdf', 'jun-25_manila.png', 'jun-26_manila.pdf', 'jun-27_manila.jpg', 'jun-27_manila.png', 'mar-02_manila.png', 'mar-08_manila.jpg', 'mar-09_manila.jpg', 'mar-09_manila.png', 'mar-10_manila.png', 'mar-12_manila.jpg', 'mar-12_manila.png', 'mar-13_manila.jpg', 'mar-13_manila.png', 'mar-16_manila.jpg', 'mar-17_manila.jpg', 'mar-17_manila.pdf', 'mar-18_manila.jpg', 'mar-18_manila.pdf', 'mar-18_manila.png', 'mar-20_manila.jpg', 'mar-22_manila.pdf', 'mar-24_manila.pdf', 'mar-25_manila.jpg', 'mar-26_manila.png', 'mar-29_manila.pdf', 'mar-29_manila.png', 'may-04_manila.jpg', 'may-05_manila.jpg', 'may-05_manila.png', 'may-09_manila.png', 'may-10_manila.pdf', 'may-11_manila.png', 'may-24_manila.png', 'may-26_manila.pdf', 'may-27_manila.png', 'may-30_manila.jpg', 'nov-02_manila.png', 'nov-05_manila.pdf', 'nov-08_manila.png', 'nov-09_manila.pdf', 'nov-10_manila.jpg', 'nov-14_manila.png', 'nov-15_manila.pdf', 'nov-17_manila.pdf', 'nov-20_manila.jpg', 'nov-21_manila.jpg', 'oct-02_manila.pdf', 'oct-04_manila.jpg', 'oct-04_manila.pdf', 'oct-05_manila.pdf', 'oct-06_manila.png', 'oct-08_manila.png', 'oct-09_manila.pdf', 'oct-10_manila.pdf', 'oct-10_manila.png', 'oct-11_manila.pdf', 'oct-11_manila.png', 'oct-13_manila.pdf', 'oct-14_manila.png', 'oct-19_manila.png', 'oct-20_manila.pdf', 'oct-21_manila.jpg', 'oct-25_manila.png', 'oct-28_manila.jpg', 'oct-30_manila.jpg', 'oct-30_manila.png', 'sep-01_manila.png', 'sep-05_manila.png', 'sep-09_manila.png', 'sep-11_manila.pdf', 'sep-17_manila.jpg']\n",
      "['01-05_melbourne.txt', '01-06_melbourne.txt', '01-09_melbourne.txt', '01-11_melbourne.txt', '01-12_melbourne.txt', '01-13_melbourne.txt', '01-16_melbourne.txt', '01-18_melbourne.txt', '01-19_melbourne.txt', '01-21_melbourne.txt', '01-22_melbourne.txt', '01-24_melbourne.txt', '01-25_melbourne.txt', '01-27_melbourne.txt', '01-29_melbourne.txt', '02-13_melbourne.txt', '02-16_melbourne.txt', '03-07_melbourne.txt', '04-01_melbourne.txt', '04-04_melbourne.txt', '04-05_melbourne.txt', '04-07_melbourne.txt', '04-10_melbourne.txt', '04-11_melbourne.txt', '04-12_melbourne.txt', '04-13_melbourne.txt', '04-14_melbourne.txt', '04-15_melbourne.txt', '04-16_melbourne.txt', '04-19_melbourne.txt', '04-21_melbourne.txt', '04-24_melbourne.txt', '04-27_melbourne.txt', '04-29_melbourne.txt', '05-02_melbourne.txt', '05-03_melbourne.txt', '05-04_melbourne.txt', '05-05_melbourne.txt', '05-08_melbourne.txt', '05-09_melbourne.txt', '05-11_melbourne.txt', '05-13_melbourne.txt', '05-16_melbourne.txt', '05-19_melbourne.txt', '05-21_melbourne.txt', '05-22_melbourne.txt', '05-23_melbourne.txt', '05-24_melbourne.txt', '05-26_melbourne.txt', '05-27_melbourne.txt', '05-30_melbourne.txt', '06-06_melbourne.txt', '06-08_melbourne.txt', '06-15_melbourne.txt', '06-16_melbourne.txt', '06-28_melbourne.txt', '07-01_melbourne.txt', '07-02_melbourne.txt', '07-03_melbourne.txt', '07-06_melbourne.txt', '07-07_melbourne.txt', '07-09_melbourne.txt', '07-16_melbourne.txt', '07-17_melbourne.txt', '07-20_melbourne.txt', '07-21_melbourne.txt', '07-22_melbourne.txt', '07-23_melbourne.txt', '07-25_melbourne.txt', '07-26_melbourne.txt', '07-27_melbourne.txt', '07-30_melbourne.txt', '08-03_melbourne.txt', '08-04_melbourne.txt', '08-06_melbourne.txt', '08-08_melbourne.txt', '08-10_melbourne.txt', '08-11_melbourne.txt', '08-13_melbourne.txt', '08-15_melbourne.txt', '08-19_melbourne.txt', '08-22_melbourne.txt', '08-24_melbourne.txt', '08-25_melbourne.txt', '08-27_melbourne.txt', '08-28_melbourne.txt', '09-01_melbourne.txt', '09-02_melbourne.txt', '09-06_melbourne.txt', '09-09_melbourne.txt', '09-11_melbourne.txt', '09-12_melbourne.txt', '09-13_melbourne.txt', '09-14_melbourne.txt', '09-15_melbourne.txt', '09-19_melbourne.txt', '09-21_melbourne.txt', '09-24_melbourne.txt', '09-26_melbourne.txt', '09-28_melbourne.txt', '10-06_melbourne.txt', '10-19_melbourne.txt', '10-30_melbourne.txt', '11-02_melbourne.txt', '11-03_melbourne.txt', '11-04_melbourne.txt', '11-05_melbourne.txt', '11-08_melbourne.txt', '11-10_melbourne.txt', '11-16_melbourne.txt', '11-17_melbourne.txt', '11-18_melbourne.txt', '11-19_melbourne.txt', '11-20_melbourne.txt', '11-21_melbourne.txt', '11-22_melbourne.txt', '11-24_melbourne.txt', '11-25_melbourne.txt', '11-26_melbourne.txt', '11-27_melbourne.txt', '11-28_melbourne.txt', '11-29_melbourne.txt', '12-02_melbourne.txt', '12-15_melbourne.txt', 'apr-01_melbourne.pdf', 'apr-01_melbourne.png', 'apr-04_melbourne.pdf', 'apr-04_melbourne.png', 'apr-05_melbourne.pdf', 'apr-07_melbourne.pdf', 'apr-10_melbourne.jpg', 'apr-11_melbourne.pdf', 'apr-12_melbourne.pdf', 'apr-13_melbourne.png', 'apr-14_melbourne.pdf', 'apr-15_melbourne.jpg', 'apr-16_melbourne.pdf', 'apr-19_melbourne.pdf', 'apr-21_melbourne.png', 'apr-24_melbourne.jpg', 'apr-24_melbourne.pdf', 'apr-27_melbourne.jpg', 'apr-29_melbourne.jpg', 'apr-29_melbourne.png', 'aug-03_melbourne.png', 'aug-04_melbourne.jpg', 'aug-06_melbourne.jpg', 'aug-08_melbourne.png', 'aug-10_melbourne.jpg', 'aug-11_melbourne.png', 'aug-13_melbourne.jpg', 'aug-15_melbourne.pdf', 'aug-19_melbourne.jpg', 'aug-22_melbourne.pdf', 'aug-24_melbourne.jpg', 'aug-25_melbourne.jpg', 'aug-27_melbourne.png', 'aug-28_melbourne.png', 'dec-02_melbourne.pdf', 'dec-15_melbourne.pdf', 'feb-13_melbourne.pdf', 'feb-16_melbourne.png', 'jan-05_melbourne.jpg', 'jan-06_melbourne.png', 'jan-09_melbourne.pdf', 'jan-11_melbourne.jpg', 'jan-12_melbourne.pdf', 'jan-13_melbourne.pdf', 'jan-16_melbourne.jpg', 'jan-16_melbourne.png', 'jan-18_melbourne.jpg', 'jan-18_melbourne.png', 'jan-19_melbourne.png', 'jan-21_melbourne.jpg', 'jan-21_melbourne.pdf', 'jan-22_melbourne.jpg', 'jan-22_melbourne.pdf', 'jan-24_melbourne.jpg', 'jan-25_melbourne.jpg', 'jan-27_melbourne.jpg', 'jan-29_melbourne.jpg', 'jan-29_melbourne.pdf', 'jul-01_melbourne.jpg', 'jul-02_melbourne.pdf', 'jul-03_melbourne.pdf', 'jul-06_melbourne.pdf', 'jul-07_melbourne.jpg', 'jul-09_melbourne.pdf', 'jul-09_melbourne.png', 'jul-16_melbourne.pdf', 'jul-17_melbourne.pdf', 'jul-20_melbourne.pdf', 'jul-21_melbourne.png', 'jul-22_melbourne.jpg', 'jul-23_melbourne.jpg', 'jul-23_melbourne.pdf', 'jul-25_melbourne.pdf', 'jul-26_melbourne.pdf', 'jul-27_melbourne.pdf', 'jul-30_melbourne.jpg', 'jun-06_melbourne.png', 'jun-08_melbourne.jpg', 'jun-15_melbourne.jpg', 'jun-16_melbourne.jpg', 'jun-16_melbourne.pdf', 'jun-28_melbourne.png', 'mar-07_melbourne.jpg', 'may-02_melbourne.png', 'may-03_melbourne.pdf', 'may-04_melbourne.jpg', 'may-05_melbourne.jpg', 'may-08_melbourne.png', 'may-09_melbourne.pdf', 'may-11_melbourne.jpg', 'may-13_melbourne.png', 'may-16_melbourne.pdf', 'may-19_melbourne.png', 'may-21_melbourne.jpg', 'may-22_melbourne.jpg', 'may-23_melbourne.pdf', 'may-24_melbourne.png', 'may-26_melbourne.jpg', 'may-27_melbourne.png', 'may-30_melbourne.pdf', 'may-30_melbourne.png', 'nov-02_melbourne.pdf', 'nov-03_melbourne.png', 'nov-04_melbourne.png', 'nov-05_melbourne.jpg', 'nov-08_melbourne.pdf', 'nov-10_melbourne.jpg', 'nov-16_melbourne.jpg', 'nov-17_melbourne.jpg', 'nov-17_melbourne.pdf', 'nov-18_melbourne.pdf', 'nov-19_melbourne.jpg', 'nov-19_melbourne.pdf', 'nov-20_melbourne.pdf', 'nov-21_melbourne.pdf', 'nov-22_melbourne.png', 'nov-24_melbourne.jpg', 'nov-25_melbourne.pdf', 'nov-26_melbourne.png', 'nov-27_melbourne.jpg', 'nov-28_melbourne.pdf', 'nov-29_melbourne.jpg', 'nov-29_melbourne.pdf', 'oct-06_melbourne.jpg', 'oct-19_melbourne.jpg', 'oct-30_melbourne.jpg', 'sep-01_melbourne.jpg', 'sep-02_melbourne.jpg', 'sep-06_melbourne.png', 'sep-09_melbourne.jpg', 'sep-11_melbourne.png', 'sep-12_melbourne.jpg', 'sep-13_melbourne.jpg', 'sep-14_melbourne.png', 'sep-15_melbourne.jpg', 'sep-15_melbourne.pdf', 'sep-19_melbourne.png', 'sep-21_melbourne.jpg', 'sep-24_melbourne.jpg', 'sep-26_melbourne.png', 'sep-28_melbourne.png']\n"
     ]
    },
    {
     "name": "stdout",
     "output_type": "stream",
     "text": [
      "['01-01_osaka.txt', '01-05_osaka.txt', '01-08_osaka.txt', '01-12_osaka.txt', '01-15_osaka.txt', '01-18_osaka.txt', '01-19_osaka.txt', '01-20_osaka.txt', '01-22_osaka.txt', '01-25_osaka.txt', '01-27_osaka.txt', '02-01_osaka.txt', '02-02_osaka.txt', '02-03_osaka.txt', '02-04_osaka.txt', '02-06_osaka.txt', '02-07_osaka.txt', '02-09_osaka.txt', '02-10_osaka.txt', '02-11_osaka.txt', '02-14_osaka.txt', '02-16_osaka.txt', '02-19_osaka.txt', '02-20_osaka.txt', '02-21_osaka.txt', '02-24_osaka.txt', '02-26_osaka.txt', '02-27_osaka.txt', '03-04_osaka.txt', '03-08_osaka.txt', '03-10_osaka.txt', '03-11_osaka.txt', '03-12_osaka.txt', '03-19_osaka.txt', '03-22_osaka.txt', '03-27_osaka.txt', '03-30_osaka.txt', '04-03_osaka.txt', '04-07_osaka.txt', '04-12_osaka.txt', '04-14_osaka.txt', '04-16_osaka.txt', '04-18_osaka.txt', '04-21_osaka.txt', '04-23_osaka.txt', '04-25_osaka.txt', '05-02_osaka.txt', '06-03_osaka.txt', '06-04_osaka.txt', '06-05_osaka.txt', '06-06_osaka.txt', '06-11_osaka.txt', '06-12_osaka.txt', '06-15_osaka.txt', '06-16_osaka.txt', '06-19_osaka.txt', '06-23_osaka.txt', '06-24_osaka.txt', '06-28_osaka.txt', '06-29_osaka.txt', '07-06_osaka.txt', '07-07_osaka.txt', '07-13_osaka.txt', '07-15_osaka.txt', '07-16_osaka.txt', '07-19_osaka.txt', '07-21_osaka.txt', '07-27_osaka.txt', '08-02_osaka.txt', '08-03_osaka.txt', '08-06_osaka.txt', '08-08_osaka.txt', '08-10_osaka.txt', '08-12_osaka.txt', '08-13_osaka.txt', '08-15_osaka.txt', '08-17_osaka.txt', '08-19_osaka.txt', '08-20_osaka.txt', '08-21_osaka.txt', '08-22_osaka.txt', '08-24_osaka.txt', '08-25_osaka.txt', '08-28_osaka.txt', '09-01_osaka.txt', '09-02_osaka.txt', '09-03_osaka.txt', '09-06_osaka.txt', '09-07_osaka.txt', '09-08_osaka.txt', '09-09_osaka.txt', '09-11_osaka.txt', '09-13_osaka.txt', '09-14_osaka.txt', '09-15_osaka.txt', '09-16_osaka.txt', '09-19_osaka.txt', '09-20_osaka.txt', '09-21_osaka.txt', '09-22_osaka.txt', '09-23_osaka.txt', '09-24_osaka.txt', '09-25_osaka.txt', '09-26_osaka.txt', '09-29_osaka.txt', '10-02_osaka.txt', '10-16_osaka.txt', '11-04_osaka.txt', '11-16_osaka.txt', '11-17_osaka.txt', '11-23_osaka.txt', '11-24_osaka.txt', '11-25_osaka.txt', '12-02_osaka.txt', '12-04_osaka.txt', '12-06_osaka.txt', '12-07_osaka.txt', '12-09_osaka.txt', '12-10_osaka.txt', '12-12_osaka.txt', '12-14_osaka.txt', '12-15_osaka.txt', '12-21_osaka.txt', '12-22_osaka.txt', '12-23_osaka.txt', '12-25_osaka.txt', '12-26_osaka.txt', '12-28_osaka.txt', 'apr-03_osaka.png', 'apr-07_osaka.pdf', 'apr-12_osaka.pdf', 'apr-14_osaka.jpg', 'apr-16_osaka.pdf', 'apr-18_osaka.jpg', 'apr-21_osaka.jpg', 'apr-23_osaka.png', 'apr-25_osaka.jpg', 'aug-02_osaka.jpg', 'aug-02_osaka.pdf', 'aug-03_osaka.png', 'aug-06_osaka.jpg', 'aug-08_osaka.pdf', 'aug-10_osaka.jpg', 'aug-10_osaka.pdf', 'aug-12_osaka.png', 'aug-13_osaka.jpg', 'aug-15_osaka.pdf', 'aug-17_osaka.jpg', 'aug-19_osaka.pdf', 'aug-19_osaka.png', 'aug-20_osaka.pdf', 'aug-20_osaka.png', 'aug-21_osaka.pdf', 'aug-22_osaka.pdf', 'aug-24_osaka.jpg', 'aug-25_osaka.png', 'aug-28_osaka.pdf', 'aug-28_osaka.png', 'dec-02_osaka.jpg', 'dec-04_osaka.pdf', 'dec-04_osaka.png', 'dec-06_osaka.jpg', 'dec-07_osaka.pdf', 'dec-09_osaka.png', 'dec-10_osaka.jpg', 'dec-10_osaka.png', 'dec-12_osaka.jpg', 'dec-12_osaka.pdf', 'dec-14_osaka.jpg', 'dec-14_osaka.png', 'dec-15_osaka.pdf', 'dec-21_osaka.pdf', 'dec-22_osaka.png', 'dec-23_osaka.jpg', 'dec-25_osaka.pdf', 'dec-26_osaka.jpg', 'dec-28_osaka.jpg', 'feb-01_osaka.jpg', 'feb-01_osaka.pdf', 'feb-02_osaka.pdf', 'feb-03_osaka.jpg', 'feb-04_osaka.pdf', 'feb-04_osaka.png', 'feb-06_osaka.jpg', 'feb-06_osaka.png', 'feb-07_osaka.jpg', 'feb-07_osaka.pdf', 'feb-07_osaka.png', 'feb-09_osaka.png', 'feb-10_osaka.jpg', 'feb-10_osaka.pdf', 'feb-11_osaka.png', 'feb-14_osaka.jpg', 'feb-14_osaka.png', 'feb-16_osaka.pdf', 'feb-19_osaka.jpg', 'feb-20_osaka.jpg', 'feb-21_osaka.png', 'feb-24_osaka.pdf', 'feb-26_osaka.pdf', 'feb-27_osaka.jpg', 'jan-01_osaka.pdf', 'jan-05_osaka.jpg', 'jan-08_osaka.png', 'jan-12_osaka.png', 'jan-15_osaka.png', 'jan-18_osaka.jpg', 'jan-19_osaka.png', 'jan-20_osaka.pdf', 'jan-20_osaka.png', 'jan-22_osaka.jpg', 'jan-22_osaka.png', 'jan-25_osaka.pdf', 'jan-27_osaka.pdf', 'jul-06_osaka.pdf', 'jul-07_osaka.pdf', 'jul-07_osaka.png', 'jul-13_osaka.png', 'jul-15_osaka.pdf', 'jul-16_osaka.jpg', 'jul-19_osaka.png', 'jul-21_osaka.jpg', 'jul-27_osaka.png', 'jun-03_osaka.pdf', 'jun-03_osaka.png', 'jun-04_osaka.pdf', 'jun-05_osaka.jpg', 'jun-05_osaka.png', 'jun-06_osaka.jpg', 'jun-06_osaka.png', 'jun-11_osaka.jpg', 'jun-12_osaka.pdf', 'jun-12_osaka.png', 'jun-15_osaka.png', 'jun-16_osaka.jpg', 'jun-19_osaka.jpg', 'jun-23_osaka.pdf', 'jun-24_osaka.pdf', 'jun-28_osaka.pdf', 'jun-29_osaka.png', 'mar-04_osaka.png', 'mar-08_osaka.png', 'mar-10_osaka.pdf', 'mar-11_osaka.png', 'mar-12_osaka.pdf', 'mar-19_osaka.png', 'mar-22_osaka.jpg', 'mar-27_osaka.jpg', 'mar-30_osaka.pdf', 'may-02_osaka.png', 'nov-04_osaka.pdf', 'nov-16_osaka.pdf', 'nov-17_osaka.pdf', 'nov-17_osaka.png', 'nov-23_osaka.jpg', 'nov-24_osaka.jpg', 'nov-25_osaka.png', 'oct-02_osaka.png', 'oct-16_osaka.pdf', 'sep-01_osaka.pdf', 'sep-02_osaka.png', 'sep-03_osaka.pdf', 'sep-06_osaka.pdf', 'sep-07_osaka.jpg', 'sep-08_osaka.pdf', 'sep-09_osaka.pdf', 'sep-09_osaka.png', 'sep-11_osaka.pdf', 'sep-13_osaka.jpg', 'sep-13_osaka.png', 'sep-14_osaka.png', 'sep-15_osaka.pdf', 'sep-16_osaka.pdf', 'sep-16_osaka.png', 'sep-19_osaka.png', 'sep-20_osaka.png', 'sep-21_osaka.jpg', 'sep-21_osaka.png', 'sep-22_osaka.pdf', 'sep-23_osaka.png', 'sep-24_osaka.jpg', 'sep-24_osaka.png', 'sep-25_osaka.png', 'sep-26_osaka.jpg', 'sep-29_osaka.png']\n",
      "['01-03_shanghai.txt', '01-10_shanghai.txt', '01-22_shanghai.txt', '01-26_shanghai.txt', '01-29_shanghai.txt', '02-01_shanghai.txt', '02-05_shanghai.txt', '02-11_shanghai.txt', '02-12_shanghai.txt', '02-13_shanghai.txt', '02-15_shanghai.txt', '02-16_shanghai.txt', '02-17_shanghai.txt', '02-18_shanghai.txt', '02-23_shanghai.txt', '03-14_shanghai.txt', '03-16_shanghai.txt', '04-01_shanghai.txt', '04-02_shanghai.txt', '04-04_shanghai.txt', '04-05_shanghai.txt', '04-08_shanghai.txt', '04-10_shanghai.txt', '04-11_shanghai.txt', '04-12_shanghai.txt', '04-13_shanghai.txt', '04-16_shanghai.txt', '04-17_shanghai.txt', '04-18_shanghai.txt', '04-19_shanghai.txt', '04-21_shanghai.txt', '04-23_shanghai.txt', '04-27_shanghai.txt', '04-29_shanghai.txt', '05-01_shanghai.txt', '05-03_shanghai.txt', '05-06_shanghai.txt', '05-14_shanghai.txt', '05-18_shanghai.txt', '05-26_shanghai.txt', '05-28_shanghai.txt', '06-03_shanghai.txt', '06-06_shanghai.txt', '06-07_shanghai.txt', '06-08_shanghai.txt', '06-10_shanghai.txt', '06-11_shanghai.txt', '06-12_shanghai.txt', '06-13_shanghai.txt', '07-02_shanghai.txt', '07-03_shanghai.txt', '07-05_shanghai.txt', '07-06_shanghai.txt', '07-08_shanghai.txt', '07-09_shanghai.txt', '07-10_shanghai.txt', '07-11_shanghai.txt', '07-12_shanghai.txt', '07-15_shanghai.txt', '07-17_shanghai.txt', '07-19_shanghai.txt', '07-22_shanghai.txt', '07-23_shanghai.txt', '07-24_shanghai.txt', '07-26_shanghai.txt', '08-01_shanghai.txt', '08-02_shanghai.txt', '08-04_shanghai.txt', '08-05_shanghai.txt', '08-12_shanghai.txt', '08-13_shanghai.txt', '08-14_shanghai.txt', '08-15_shanghai.txt', '08-16_shanghai.txt', '08-17_shanghai.txt', '08-18_shanghai.txt', '08-19_shanghai.txt', '08-25_shanghai.txt', '08-26_shanghai.txt', '08-28_shanghai.txt', '08-29_shanghai.txt', '09-03_shanghai.txt', '09-04_shanghai.txt', '09-05_shanghai.txt', '09-07_shanghai.txt', '09-08_shanghai.txt', '09-09_shanghai.txt', '09-11_shanghai.txt', '09-15_shanghai.txt', '09-19_shanghai.txt', '09-20_shanghai.txt', '09-21_shanghai.txt', '09-23_shanghai.txt', '09-25_shanghai.txt', '09-26_shanghai.txt', '09-27_shanghai.txt', '10-02_shanghai.txt', '10-03_shanghai.txt', '10-04_shanghai.txt', '10-05_shanghai.txt', '10-07_shanghai.txt', '10-08_shanghai.txt', '10-09_shanghai.txt', '10-11_shanghai.txt', '10-14_shanghai.txt', '10-15_shanghai.txt', '10-16_shanghai.txt', '10-18_shanghai.txt', '10-19_shanghai.txt', '10-21_shanghai.txt', '10-22_shanghai.txt', '10-24_shanghai.txt', '10-26_shanghai.txt', '10-27_shanghai.txt', '11-01_shanghai.txt', '11-12_shanghai.txt', '12-05_shanghai.txt', '12-06_shanghai.txt', '12-07_shanghai.txt', '12-08_shanghai.txt', '12-11_shanghai.txt', '12-15_shanghai.txt', '12-17_shanghai.txt', '12-18_shanghai.txt', '12-19_shanghai.txt', '12-20_shanghai.txt', '12-21_shanghai.txt', '12-22_shanghai.txt', '12-24_shanghai.txt', '12-25_shanghai.txt', '12-27_shanghai.txt', '12-28_shanghai.txt', 'apr-01_shanghai.png', 'apr-02_shanghai.jpg', 'apr-02_shanghai.pdf', 'apr-02_shanghai.png', 'apr-04_shanghai.pdf', 'apr-05_shanghai.jpg', 'apr-08_shanghai.jpg', 'apr-10_shanghai.png', 'apr-11_shanghai.png', 'apr-12_shanghai.pdf', 'apr-12_shanghai.png', 'apr-13_shanghai.pdf', 'apr-16_shanghai.png', 'apr-17_shanghai.png', 'apr-18_shanghai.jpg', 'apr-18_shanghai.png', 'apr-19_shanghai.jpg', 'apr-19_shanghai.pdf', 'apr-19_shanghai.png', 'apr-21_shanghai.pdf', 'apr-21_shanghai.png', 'apr-23_shanghai.pdf', 'apr-23_shanghai.png', 'apr-27_shanghai.jpg', 'apr-29_shanghai.jpg', 'aug-01_shanghai.pdf', 'aug-02_shanghai.jpg', 'aug-04_shanghai.pdf', 'aug-05_shanghai.png', 'aug-12_shanghai.jpg', 'aug-12_shanghai.png', 'aug-13_shanghai.pdf', 'aug-14_shanghai.jpg', 'aug-15_shanghai.jpg', 'aug-16_shanghai.jpg', 'aug-16_shanghai.png', 'aug-17_shanghai.jpg', 'aug-17_shanghai.pdf', 'aug-18_shanghai.pdf', 'aug-19_shanghai.png', 'aug-25_shanghai.png', 'aug-26_shanghai.jpg', 'aug-28_shanghai.pdf', 'aug-29_shanghai.png', 'dec-05_shanghai.jpg', 'dec-05_shanghai.png', 'dec-06_shanghai.png', 'dec-07_shanghai.pdf', 'dec-08_shanghai.jpg', 'dec-11_shanghai.png', 'dec-15_shanghai.pdf', 'dec-17_shanghai.jpg', 'dec-18_shanghai.jpg', 'dec-18_shanghai.pdf', 'dec-19_shanghai.pdf', 'dec-19_shanghai.png', 'dec-20_shanghai.jpg', 'dec-20_shanghai.png', 'dec-21_shanghai.jpg', 'dec-22_shanghai.pdf', 'dec-22_shanghai.png', 'dec-24_shanghai.pdf', 'dec-25_shanghai.pdf', 'dec-27_shanghai.jpg', 'dec-28_shanghai.pdf', 'dec-28_shanghai.png', 'feb-01_shanghai.png', 'feb-05_shanghai.png', 'feb-11_shanghai.jpg', 'feb-12_shanghai.png', 'feb-13_shanghai.jpg', 'feb-15_shanghai.png', 'feb-16_shanghai.png', 'feb-17_shanghai.jpg', 'feb-17_shanghai.pdf', 'feb-17_shanghai.png', 'feb-18_shanghai.jpg', 'feb-18_shanghai.png', 'feb-23_shanghai.pdf', 'feb-23_shanghai.png', 'jan-03_shanghai.jpg', 'jan-10_shanghai.pdf', 'jan-22_shanghai.pdf', 'jan-26_shanghai.png', 'jan-29_shanghai.pdf', 'jul-02_shanghai.jpg', 'jul-03_shanghai.jpg', 'jul-05_shanghai.pdf', 'jul-06_shanghai.pdf', 'jul-06_shanghai.png', 'jul-08_shanghai.pdf', 'jul-09_shanghai.pdf', 'jul-09_shanghai.png', 'jul-10_shanghai.pdf', 'jul-10_shanghai.png', 'jul-11_shanghai.pdf', 'jul-12_shanghai.pdf', 'jul-12_shanghai.png', 'jul-15_shanghai.jpg', 'jul-17_shanghai.png', 'jul-19_shanghai.pdf', 'jul-22_shanghai.pdf', 'jul-22_shanghai.png', 'jul-23_shanghai.pdf', 'jul-23_shanghai.png', 'jul-24_shanghai.jpg', 'jul-24_shanghai.pdf', 'jul-24_shanghai.png', 'jul-26_shanghai.pdf', 'jun-03_shanghai.jpg', 'jun-03_shanghai.png', 'jun-06_shanghai.jpg', 'jun-06_shanghai.png', 'jun-07_shanghai.pdf', 'jun-08_shanghai.pdf', 'jun-10_shanghai.jpg', 'jun-10_shanghai.pdf', 'jun-11_shanghai.pdf', 'jun-11_shanghai.png', 'jun-12_shanghai.jpg', 'jun-13_shanghai.png', 'mar-14_shanghai.jpg', 'mar-16_shanghai.png', 'may-01_shanghai.pdf', 'may-03_shanghai.pdf', 'may-06_shanghai.jpg', 'may-14_shanghai.png', 'may-18_shanghai.jpg', 'may-26_shanghai.jpg', 'may-28_shanghai.jpg', 'nov-01_shanghai.pdf', 'nov-12_shanghai.jpg', 'oct-02_shanghai.png', 'oct-03_shanghai.pdf', 'oct-04_shanghai.pdf', 'oct-04_shanghai.png', 'oct-05_shanghai.png', 'oct-07_shanghai.pdf', 'oct-08_shanghai.png', 'oct-09_shanghai.png', 'oct-11_shanghai.jpg', 'oct-14_shanghai.png', 'oct-15_shanghai.jpg', 'oct-16_shanghai.pdf', 'oct-18_shanghai.jpg', 'oct-19_shanghai.pdf', 'oct-21_shanghai.pdf', 'oct-22_shanghai.pdf', 'oct-24_shanghai.pdf', 'oct-24_shanghai.png', 'oct-26_shanghai.jpg', 'oct-26_shanghai.pdf', 'oct-27_shanghai.png', 'sep-03_shanghai.png', 'sep-04_shanghai.jpg', 'sep-04_shanghai.pdf', 'sep-05_shanghai.png', 'sep-07_shanghai.pdf', 'sep-08_shanghai.pdf', 'sep-09_shanghai.png', 'sep-11_shanghai.png', 'sep-15_shanghai.png', 'sep-19_shanghai.jpg', 'sep-20_shanghai.pdf', 'sep-21_shanghai.pdf', 'sep-23_shanghai.png', 'sep-25_shanghai.jpg', 'sep-25_shanghai.png', 'sep-26_shanghai.png', 'sep-27_shanghai.png']\n"
     ]
    },
    {
     "name": "stdout",
     "output_type": "stream",
     "text": [
      "['01-15_singapore.txt', '02-01_singapore.txt', '02-02_singapore.txt', '02-03_singapore.txt', '02-04_singapore.txt', '02-05_singapore.txt', '02-08_singapore.txt', '02-12_singapore.txt', '02-13_singapore.txt', '02-14_singapore.txt', '02-15_singapore.txt', '02-17_singapore.txt', '02-19_singapore.txt', '02-20_singapore.txt', '02-23_singapore.txt', '02-24_singapore.txt', '02-27_singapore.txt', '03-05_singapore.txt', '04-01_singapore.txt', '04-03_singapore.txt', '04-04_singapore.txt', '04-05_singapore.txt', '04-07_singapore.txt', '04-10_singapore.txt', '04-12_singapore.txt', '04-13_singapore.txt', '04-14_singapore.txt', '04-15_singapore.txt', '04-19_singapore.txt', '04-21_singapore.txt', '04-22_singapore.txt', '04-23_singapore.txt', '04-25_singapore.txt', '04-26_singapore.txt', '05-01_singapore.txt', '05-04_singapore.txt', '05-06_singapore.txt', '05-08_singapore.txt', '05-09_singapore.txt', '05-12_singapore.txt', '05-13_singapore.txt', '05-16_singapore.txt', '05-23_singapore.txt', '05-28_singapore.txt', '05-30_singapore.txt', '06-01_singapore.txt', '06-02_singapore.txt', '06-05_singapore.txt', '06-06_singapore.txt', '06-07_singapore.txt', '06-08_singapore.txt', '06-09_singapore.txt', '06-11_singapore.txt', '06-15_singapore.txt', '06-16_singapore.txt', '06-23_singapore.txt', '07-02_singapore.txt', '07-03_singapore.txt', '07-04_singapore.txt', '07-05_singapore.txt', '07-06_singapore.txt', '07-07_singapore.txt', '07-08_singapore.txt', '07-09_singapore.txt', '07-14_singapore.txt', '07-16_singapore.txt', '07-17_singapore.txt', '07-18_singapore.txt', '07-22_singapore.txt', '07-23_singapore.txt', '07-25_singapore.txt', '07-26_singapore.txt', '07-27_singapore.txt', '07-28_singapore.txt', '07-29_singapore.txt', '08-06_singapore.txt', '08-08_singapore.txt', '08-09_singapore.txt', '08-24_singapore.txt', '09-03_singapore.txt', '09-07_singapore.txt', '09-11_singapore.txt', '09-12_singapore.txt', '09-13_singapore.txt', '09-19_singapore.txt', '09-20_singapore.txt', '09-21_singapore.txt', '09-23_singapore.txt', '09-24_singapore.txt', '09-25_singapore.txt', '09-29_singapore.txt', '10-01_singapore.txt', '10-04_singapore.txt', '10-05_singapore.txt', '10-06_singapore.txt', '10-07_singapore.txt', '10-10_singapore.txt', '10-11_singapore.txt', '10-12_singapore.txt', '10-13_singapore.txt', '10-16_singapore.txt', '10-18_singapore.txt', '10-19_singapore.txt', '10-20_singapore.txt', '10-21_singapore.txt', '10-22_singapore.txt', '10-24_singapore.txt', '10-29_singapore.txt', '11-02_singapore.txt', '11-03_singapore.txt', '11-04_singapore.txt', '11-07_singapore.txt', '11-08_singapore.txt', '11-11_singapore.txt', '11-12_singapore.txt', '11-13_singapore.txt', '11-16_singapore.txt', '11-17_singapore.txt', '11-20_singapore.txt', '11-24_singapore.txt', '11-25_singapore.txt', '11-26_singapore.txt', '11-27_singapore.txt', '11-28_singapore.txt', '12-02_singapore.txt', '12-05_singapore.txt', '12-06_singapore.txt', '12-07_singapore.txt', '12-17_singapore.txt', '12-22_singapore.txt', '12-23_singapore.txt', '12-25_singapore.txt', '12-28_singapore.txt', '12-29_singapore.txt', 'apr-01_singapore.jpg', 'apr-03_singapore.jpg', 'apr-04_singapore.jpg', 'apr-05_singapore.png', 'apr-07_singapore.pdf', 'apr-10_singapore.png', 'apr-12_singapore.png', 'apr-13_singapore.pdf', 'apr-13_singapore.png', 'apr-14_singapore.png', 'apr-15_singapore.jpg', 'apr-19_singapore.png', 'apr-21_singapore.png', 'apr-22_singapore.jpg', 'apr-23_singapore.jpg', 'apr-25_singapore.jpg', 'apr-26_singapore.png', 'aug-06_singapore.pdf', 'aug-08_singapore.jpg', 'aug-09_singapore.png', 'aug-24_singapore.png', 'dec-02_singapore.pdf', 'dec-02_singapore.png', 'dec-05_singapore.jpg', 'dec-06_singapore.jpg', 'dec-06_singapore.pdf', 'dec-07_singapore.pdf', 'dec-17_singapore.jpg', 'dec-22_singapore.png', 'dec-23_singapore.pdf', 'dec-25_singapore.pdf', 'dec-25_singapore.png', 'dec-28_singapore.jpg', 'dec-29_singapore.jpg', 'dec-29_singapore.png', 'feb-01_singapore.png', 'feb-02_singapore.png', 'feb-03_singapore.jpg', 'feb-03_singapore.png', 'feb-04_singapore.jpg', 'feb-04_singapore.pdf', 'feb-05_singapore.jpg', 'feb-05_singapore.png', 'feb-08_singapore.pdf', 'feb-12_singapore.png', 'feb-13_singapore.jpg', 'feb-14_singapore.jpg', 'feb-15_singapore.png', 'feb-17_singapore.png', 'feb-19_singapore.jpg', 'feb-19_singapore.pdf', 'feb-20_singapore.pdf', 'feb-23_singapore.jpg', 'feb-24_singapore.pdf', 'feb-27_singapore.pdf', 'jan-15_singapore.pdf', 'jul-02_singapore.jpg', 'jul-02_singapore.pdf', 'jul-03_singapore.pdf', 'jul-04_singapore.png', 'jul-05_singapore.png', 'jul-06_singapore.png', 'jul-07_singapore.png', 'jul-08_singapore.png', 'jul-09_singapore.png', 'jul-14_singapore.jpg', 'jul-14_singapore.pdf', 'jul-16_singapore.jpg', 'jul-17_singapore.pdf', 'jul-18_singapore.jpg', 'jul-22_singapore.pdf', 'jul-23_singapore.jpg', 'jul-23_singapore.pdf', 'jul-25_singapore.pdf', 'jul-26_singapore.pdf', 'jul-27_singapore.jpg', 'jul-27_singapore.png', 'jul-28_singapore.png', 'jul-29_singapore.pdf', 'jun-01_singapore.jpg', 'jun-01_singapore.pdf', 'jun-02_singapore.jpg', 'jun-05_singapore.pdf', 'jun-06_singapore.png', 'jun-07_singapore.pdf', 'jun-08_singapore.jpg', 'jun-09_singapore.pdf', 'jun-11_singapore.jpg', 'jun-11_singapore.pdf', 'jun-15_singapore.png', 'jun-16_singapore.jpg', 'jun-16_singapore.pdf', 'jun-16_singapore.png', 'jun-23_singapore.pdf', 'jun-23_singapore.png', 'mar-05_singapore.jpg', 'may-01_singapore.pdf', 'may-04_singapore.png', 'may-06_singapore.png', 'may-08_singapore.pdf', 'may-09_singapore.png', 'may-12_singapore.png', 'may-13_singapore.jpg', 'may-16_singapore.pdf', 'may-23_singapore.png', 'may-28_singapore.png', 'may-30_singapore.png', 'nov-02_singapore.jpg', 'nov-03_singapore.jpg', 'nov-04_singapore.jpg', 'nov-07_singapore.png', 'nov-08_singapore.jpg', 'nov-11_singapore.pdf', 'nov-12_singapore.png', 'nov-13_singapore.pdf', 'nov-16_singapore.jpg', 'nov-17_singapore.jpg', 'nov-20_singapore.png', 'nov-24_singapore.pdf', 'nov-25_singapore.jpg', 'nov-26_singapore.jpg', 'nov-26_singapore.pdf', 'nov-27_singapore.png', 'nov-28_singapore.png', 'oct-01_singapore.jpg', 'oct-01_singapore.pdf', 'oct-04_singapore.jpg', 'oct-05_singapore.jpg', 'oct-06_singapore.jpg', 'oct-07_singapore.jpg', 'oct-10_singapore.jpg', 'oct-10_singapore.pdf', 'oct-10_singapore.png', 'oct-11_singapore.png', 'oct-12_singapore.jpg', 'oct-12_singapore.png', 'oct-13_singapore.png', 'oct-16_singapore.pdf', 'oct-18_singapore.jpg', 'oct-19_singapore.png', 'oct-20_singapore.png', 'oct-21_singapore.pdf', 'oct-22_singapore.jpg', 'oct-22_singapore.png', 'oct-24_singapore.jpg', 'oct-24_singapore.pdf', 'oct-29_singapore.jpg', 'oct-29_singapore.pdf', 'sep-03_singapore.pdf', 'sep-07_singapore.jpg', 'sep-11_singapore.jpg', 'sep-11_singapore.png', 'sep-12_singapore.jpg', 'sep-13_singapore.pdf', 'sep-19_singapore.png', 'sep-20_singapore.png', 'sep-21_singapore.pdf', 'sep-23_singapore.jpg', 'sep-24_singapore.jpg', 'sep-24_singapore.pdf', 'sep-25_singapore.jpg', 'sep-25_singapore.pdf', 'sep-29_singapore.jpg']\n",
      "['01-08_tokyo.txt', '01-12_tokyo.txt', '01-16_tokyo.txt', '01-19_tokyo.txt', '01-20_tokyo.txt', '01-22_tokyo.txt', '01-24_tokyo.txt', '02-03_tokyo.txt', '02-04_tokyo.txt', '02-05_tokyo.txt', '02-06_tokyo.txt', '02-07_tokyo.txt', '02-09_tokyo.txt', '02-12_tokyo.txt', '02-13_tokyo.txt', '02-14_tokyo.txt', '02-16_tokyo.txt', '02-19_tokyo.txt', '02-20_tokyo.txt', '02-21_tokyo.txt', '02-22_tokyo.txt', '02-24_tokyo.txt', '02-27_tokyo.txt', '03-04_tokyo.txt', '03-05_tokyo.txt', '03-09_tokyo.txt', '03-14_tokyo.txt', '03-15_tokyo.txt', '03-16_tokyo.txt', '03-18_tokyo.txt', '03-26_tokyo.txt', '03-27_tokyo.txt', '04-03_tokyo.txt', '04-07_tokyo.txt', '04-10_tokyo.txt', '04-11_tokyo.txt', '04-12_tokyo.txt', '04-15_tokyo.txt', '04-17_tokyo.txt', '04-18_tokyo.txt', '04-20_tokyo.txt', '04-21_tokyo.txt', '04-23_tokyo.txt', '04-24_tokyo.txt', '04-27_tokyo.txt', '04-28_tokyo.txt', '04-29_tokyo.txt', '05-01_tokyo.txt', '05-02_tokyo.txt', '05-03_tokyo.txt', '05-05_tokyo.txt', '05-08_tokyo.txt', '05-15_tokyo.txt', '05-16_tokyo.txt', '05-17_tokyo.txt', '05-23_tokyo.txt', '05-28_tokyo.txt', '05-30_tokyo.txt', '06-05_tokyo.txt', '06-07_tokyo.txt', '06-08_tokyo.txt', '06-11_tokyo.txt', '06-12_tokyo.txt', '06-14_tokyo.txt', '06-17_tokyo.txt', '06-18_tokyo.txt', '06-20_tokyo.txt', '06-22_tokyo.txt', '06-23_tokyo.txt', '06-25_tokyo.txt', '06-28_tokyo.txt', '06-29_tokyo.txt', '07-02_tokyo.txt', '07-04_tokyo.txt', '07-05_tokyo.txt', '07-06_tokyo.txt', '07-10_tokyo.txt', '07-11_tokyo.txt', '07-12_tokyo.txt', '07-13_tokyo.txt', '07-15_tokyo.txt', '07-19_tokyo.txt', '07-20_tokyo.txt', '07-26_tokyo.txt', '07-27_tokyo.txt', '07-28_tokyo.txt', '07-29_tokyo.txt', '08-05_tokyo.txt', '08-12_tokyo.txt', '08-14_tokyo.txt', '08-20_tokyo.txt', '09-01_tokyo.txt', '09-02_tokyo.txt', '09-04_tokyo.txt', '09-05_tokyo.txt', '09-06_tokyo.txt', '09-07_tokyo.txt', '09-10_tokyo.txt', '09-11_tokyo.txt', '09-13_tokyo.txt', '09-14_tokyo.txt', '09-16_tokyo.txt', '09-17_tokyo.txt', '09-19_tokyo.txt', '09-20_tokyo.txt', '09-21_tokyo.txt', '09-22_tokyo.txt', '09-26_tokyo.txt', '10-01_tokyo.txt', '10-05_tokyo.txt', '10-06_tokyo.txt', '10-08_tokyo.txt', '10-13_tokyo.txt', '10-14_tokyo.txt', '10-17_tokyo.txt', '10-19_tokyo.txt', '10-20_tokyo.txt', '10-24_tokyo.txt', '10-25_tokyo.txt', '10-26_tokyo.txt', '11-01_tokyo.txt', '11-02_tokyo.txt', '11-03_tokyo.txt', '11-04_tokyo.txt', '11-05_tokyo.txt', '11-08_tokyo.txt', '11-09_tokyo.txt', '11-12_tokyo.txt', '11-13_tokyo.txt', '11-15_tokyo.txt', '11-17_tokyo.txt', '11-18_tokyo.txt', '11-22_tokyo.txt', '11-23_tokyo.txt', '11-24_tokyo.txt', '11-25_tokyo.txt', '11-28_tokyo.txt', '12-05_tokyo.txt', '12-06_tokyo.txt', '12-09_tokyo.txt', '12-10_tokyo.txt', '12-19_tokyo.txt', '12-20_tokyo.txt', '12-25_tokyo.txt', 'apr-03_tokyo.jpg', 'apr-07_tokyo.pdf', 'apr-10_tokyo.jpg', 'apr-10_tokyo.pdf', 'apr-11_tokyo.jpg', 'apr-12_tokyo.png', 'apr-15_tokyo.pdf', 'apr-17_tokyo.pdf', 'apr-18_tokyo.png', 'apr-20_tokyo.pdf', 'apr-20_tokyo.png', 'apr-21_tokyo.png', 'apr-23_tokyo.jpg', 'apr-23_tokyo.pdf', 'apr-24_tokyo.pdf', 'apr-27_tokyo.png', 'apr-28_tokyo.png', 'apr-29_tokyo.pdf', 'aug-05_tokyo.jpg', 'aug-12_tokyo.jpg', 'aug-12_tokyo.pdf', 'aug-14_tokyo.pdf', 'aug-20_tokyo.jpg', 'aug-20_tokyo.pdf', 'dec-05_tokyo.pdf', 'dec-06_tokyo.png', 'dec-09_tokyo.png', 'dec-10_tokyo.jpg', 'dec-19_tokyo.pdf', 'dec-20_tokyo.pdf', 'dec-25_tokyo.png', 'feb-03_tokyo.pdf', 'feb-04_tokyo.jpg', 'feb-05_tokyo.png', 'feb-06_tokyo.pdf', 'feb-06_tokyo.png', 'feb-07_tokyo.png', 'feb-09_tokyo.pdf', 'feb-12_tokyo.jpg', 'feb-13_tokyo.pdf', 'feb-14_tokyo.pdf', 'feb-16_tokyo.jpg', 'feb-19_tokyo.pdf', 'feb-20_tokyo.pdf', 'feb-21_tokyo.pdf', 'feb-21_tokyo.png', 'feb-22_tokyo.pdf', 'feb-22_tokyo.png', 'feb-24_tokyo.jpg', 'feb-27_tokyo.pdf', 'jan-08_tokyo.jpg', 'jan-12_tokyo.jpg', 'jan-16_tokyo.pdf', 'jan-19_tokyo.jpg', 'jan-20_tokyo.pdf', 'jan-22_tokyo.png', 'jan-24_tokyo.pdf', 'jul-02_tokyo.pdf', 'jul-02_tokyo.png', 'jul-04_tokyo.png', 'jul-05_tokyo.png', 'jul-06_tokyo.png', 'jul-10_tokyo.pdf', 'jul-11_tokyo.png', 'jul-12_tokyo.jpg', 'jul-13_tokyo.jpg', 'jul-13_tokyo.png', 'jul-15_tokyo.pdf', 'jul-19_tokyo.jpg', 'jul-19_tokyo.pdf', 'jul-19_tokyo.png', 'jul-20_tokyo.png', 'jul-26_tokyo.jpg', 'jul-27_tokyo.jpg', 'jul-27_tokyo.png', 'jul-28_tokyo.pdf', 'jul-29_tokyo.pdf', 'jun-05_tokyo.pdf', 'jun-07_tokyo.png', 'jun-08_tokyo.pdf', 'jun-11_tokyo.jpg', 'jun-12_tokyo.pdf', 'jun-14_tokyo.jpg', 'jun-14_tokyo.pdf', 'jun-17_tokyo.pdf', 'jun-18_tokyo.pdf', 'jun-20_tokyo.pdf', 'jun-22_tokyo.pdf', 'jun-23_tokyo.pdf', 'jun-23_tokyo.png', 'jun-25_tokyo.jpg', 'jun-28_tokyo.pdf', 'jun-29_tokyo.pdf', 'mar-04_tokyo.jpg', 'mar-05_tokyo.jpg', 'mar-05_tokyo.png', 'mar-09_tokyo.pdf', 'mar-09_tokyo.png', 'mar-14_tokyo.pdf', 'mar-15_tokyo.pdf', 'mar-16_tokyo.pdf', 'mar-16_tokyo.png', 'mar-18_tokyo.pdf', 'mar-26_tokyo.png', 'mar-27_tokyo.jpg', 'mar-27_tokyo.pdf', 'may-01_tokyo.jpg', 'may-02_tokyo.jpg', 'may-03_tokyo.jpg', 'may-05_tokyo.jpg', 'may-05_tokyo.pdf', 'may-08_tokyo.png', 'may-15_tokyo.pdf', 'may-16_tokyo.png', 'may-17_tokyo.jpg', 'may-23_tokyo.jpg', 'may-28_tokyo.png', 'may-30_tokyo.pdf', 'nov-01_tokyo.pdf', 'nov-01_tokyo.png', 'nov-02_tokyo.pdf', 'nov-03_tokyo.pdf', 'nov-03_tokyo.png', 'nov-04_tokyo.pdf', 'nov-05_tokyo.pdf', 'nov-08_tokyo.png', 'nov-09_tokyo.png', 'nov-12_tokyo.pdf', 'nov-13_tokyo.pdf', 'nov-15_tokyo.jpg', 'nov-15_tokyo.pdf', 'nov-17_tokyo.png', 'nov-18_tokyo.jpg', 'nov-22_tokyo.jpg', 'nov-23_tokyo.pdf', 'nov-24_tokyo.jpg', 'nov-24_tokyo.pdf', 'nov-25_tokyo.jpg', 'nov-28_tokyo.pdf', 'oct-01_tokyo.jpg', 'oct-05_tokyo.jpg', 'oct-06_tokyo.jpg', 'oct-08_tokyo.png', 'oct-13_tokyo.jpg', 'oct-14_tokyo.png', 'oct-17_tokyo.pdf', 'oct-19_tokyo.png', 'oct-20_tokyo.pdf', 'oct-24_tokyo.jpg', 'oct-25_tokyo.pdf', 'oct-26_tokyo.jpg', 'sep-01_tokyo.png', 'sep-02_tokyo.png', 'sep-04_tokyo.jpg', 'sep-05_tokyo.png', 'sep-06_tokyo.pdf', 'sep-07_tokyo.jpg', 'sep-07_tokyo.png', 'sep-10_tokyo.pdf', 'sep-11_tokyo.jpg', 'sep-11_tokyo.png', 'sep-13_tokyo.png', 'sep-14_tokyo.jpg', 'sep-16_tokyo.jpg', 'sep-17_tokyo.pdf', 'sep-19_tokyo.jpg', 'sep-20_tokyo.png', 'sep-21_tokyo.jpg', 'sep-21_tokyo.pdf', 'sep-22_tokyo.jpg', 'sep-22_tokyo.pdf', 'sep-22_tokyo.png', 'sep-26_tokyo.jpg']\n"
     ]
    }
   ],
   "source": [
    "def teleporter(city): \n",
    "    for file in glob.glob(f\"*_{city}.*\"): \n",
    "        path_to_destination = os.path.join(city.title(),file) \n",
    "        #print(path_to_destination) \n",
    "        shutil.move(file,path_to_destination)   \n",
    "    print(f'{os.listdir(city.title())}')    \n",
    " \n",
    "countries = ['Cairo', 'Dhaka', 'Jakarta', 'Karachi', 'Manila', \n",
    " 'Melbourne', 'Osaka', 'Shanghai', 'Singapore', 'Tokyo']     \n",
    "for city in countries:    \n",
    "    teleporter(city)"
   ]
  }
 ],
 "metadata": {
  "kernelspec": {
   "display_name": "Python 3 (ipykernel)",
   "language": "python",
   "name": "python3"
  },
  "language_info": {
   "codemirror_mode": {
    "name": "ipython",
    "version": 3
   },
   "file_extension": ".py",
   "mimetype": "text/x-python",
   "name": "python",
   "nbconvert_exporter": "python",
   "pygments_lexer": "ipython3",
   "version": "3.10.8"
  },
  "toc": {
   "base_numbering": 1,
   "nav_menu": {},
   "number_sections": true,
   "sideBar": true,
   "skip_h1_title": false,
   "title_cell": "Table of Contents",
   "title_sidebar": "Contents",
   "toc_cell": false,
   "toc_position": {},
   "toc_section_display": true,
   "toc_window_display": false
  },
  "varInspector": {
   "cols": {
    "lenName": 16,
    "lenType": 16,
    "lenVar": 40
   },
   "kernels_config": {
    "python": {
     "delete_cmd_postfix": "",
     "delete_cmd_prefix": "del ",
     "library": "var_list.py",
     "varRefreshCmd": "print(var_dic_list())"
    },
    "r": {
     "delete_cmd_postfix": ") ",
     "delete_cmd_prefix": "rm(",
     "library": "var_list.r",
     "varRefreshCmd": "cat(var_dic_list()) "
    }
   },
   "types_to_exclude": [
    "module",
    "function",
    "builtin_function_or_method",
    "instance",
    "_Feature"
   ],
   "window_display": false
  },
  "vscode": {
   "interpreter": {
    "hash": "31f2aee4e71d21fbe5cf8b01ff0e069b9275f58929596ceb00d14d90e3e16cd6"
   }
  }
 },
 "nbformat": 4,
 "nbformat_minor": 5
}
